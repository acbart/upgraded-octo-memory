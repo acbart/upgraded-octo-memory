{
 "cells": [
  {
   "cell_type": "markdown",
   "id": "sudden-ceremony",
   "metadata": {},
   "source": [
    "# Bar Graphs \n",
    "\n",
    "**TEAM MEMBERS - Haritima Manchanda, Ishaan Thakkar, Anna Wu**\n",
    "\n",
    "## Introduction\n",
    "\n",
    "### What is a bar chart? \n",
    "\n",
    "Bar charts display numerical quantities on one axis and categorical variables on the other, letting you see the occurrences for different categories. In addition to categorical data, bar charts can be used for visualizing a time series, where instead of categories you have time intervals.\n",
    "\n",
    "They are mainly used for: \n",
    "   1. Comparing categories of data (such as female vs male). </br><img src=\"http://sites.utexas.edu/sos/files/2015/06/bar.png\" height=\"auto\" width=\"300\">\n",
    "   2. Show large changes in data over time (in contrast to line graphs which often show smaller changes in data). </br><img src=\"https://tomhopper.files.wordpress.com/2010/08/bar-chart-natural-axis-secondary-axis1.png\" height=\"auto\" width=\"300\">\n",
    "\n",
    "### Common mistakes with bar charts\n",
    "\n",
    "   1. Scaling mistakes, e.g. the y axis not starting at 0. \n",
    "   2. Using bar charts for highly connected data (should use line graphs instead)\n",
    "   3. Showing too many bars or data points\n",
    "   4. Stacking rates, ratios, and averages\n",
    "\n",
    "For more information please see: \n",
    "   [Common Mistakes and General Rules for Making the Most of the Horizontal Bar Chart](https://charting-ahead.corsairs.network/what-not-to-bar-chart-a-visual-primer-cdb55a926d34)\n",
    "\n",
    "### In this tutorial, we'll take a look at how to plot a Bar Plot in Seaborn.\n",
    "\n",
    "Seaborn is one of the most widely used data visualization libraries in Python, as an extension to Matplotlib. \n",
    "It offers a simple, intuitive, yet highly customizable API for data visualization."
   ]
  },
  {
   "cell_type": "markdown",
   "id": "confidential-heritage",
   "metadata": {},
   "source": [
    "# Plot a Bar Graph in Seaborn\n",
    "\n",
    "Plotting a Bar Plot in Seaborn is as easy as calling the barplot() function on the sns instance, and passing in the categorical and continuous variables that we'd like to visualize:\n",
    "\n",
    "1. Import Seaborn\n",
    "2. Load Dataset from Seaborn as it contain good collection of datasets.\n",
    "3. Plot Bar graph using seaborn.barplot() method."
   ]
  },
  {
   "cell_type": "code",
   "execution_count": 4,
   "id": "abandoned-wednesday",
   "metadata": {},
   "outputs": [
    {
     "name": "stdout",
     "output_type": "stream",
     "text": [
      "   survived  pclass     sex   age  sibsp  parch     fare embarked  class  \\\n",
      "0         0       3    male  22.0      1      0   7.2500        S  Third   \n",
      "1         1       1  female  38.0      1      0  71.2833        C  First   \n",
      "2         1       3  female  26.0      0      0   7.9250        S  Third   \n",
      "3         1       1  female  35.0      1      0  53.1000        S  First   \n",
      "4         0       3    male  35.0      0      0   8.0500        S  Third   \n",
      "\n",
      "     who  adult_male deck  embark_town alive  alone  \n",
      "0    man        True  NaN  Southampton    no  False  \n",
      "1  woman       False    C    Cherbourg   yes  False  \n",
      "2  woman       False  NaN  Southampton   yes   True  \n",
      "3  woman       False    C  Southampton   yes  False  \n",
      "4    man        True  NaN  Southampton    no   True  \n"
     ]
    }
   ],
   "source": [
    "import seaborn as sns\n",
    "import matplotlib.pyplot as plt\n",
    "\n",
    "# We will be using the titanic.csv file\n",
    "# from seaborn library\n",
    "titanic_dataset = sns.load_dataset('titanic')\n",
    "print(titanic_dataset.head(5))"
   ]
  },
  {
   "cell_type": "code",
   "execution_count": 5,
   "id": "impossible-symbol",
   "metadata": {},
   "outputs": [
    {
     "data": {
      "image/png": "[encoded data removed]",
      "text/plain": [
       "<Figure size 432x288 with 1 Axes>"
      ]
     },
     "metadata": {
      "needs_background": "light"
     },
     "output_type": "display_data"
    }
   ],
   "source": [
    "# Example 1\n",
    "\n",
    "df = sns.load_dataset('titanic')\n",
    " \n",
    "# who v/s fare barplot \n",
    "sns.barplot(x = 'who',\n",
    "            y = 'fare',\n",
    "            data = df, color = \"Green\")\n",
    " \n",
    "# Show the plot\n",
    "plt.show()"
   ]
  },
  {
   "cell_type": "markdown",
   "id": "loaded-batman",
   "metadata": {},
   "source": [
    "# Plot Grouped Bar Chart\n",
    "\n",
    "Grouping Bars in plots is a common operation. Say you wanted to compare some common data, like, the survival rate of passengers, but would like to group them with some criteria.\n",
    "\n",
    "Visualizing the relationship of passengers who survived, segregated into classes (first, second and third).\n",
    "\n",
    "To group bars together, we use the **hue** argument."
   ]
  },
  {
   "cell_type": "code",
   "execution_count": 7,
   "id": "colored-queue",
   "metadata": {},
   "outputs": [
    {
     "data": {
      "image/png": "[encoded data removed]",
      "text/plain": [
       "<Figure size 432x288 with 1 Axes>"
      ]
     },
     "metadata": {
      "needs_background": "light"
     },
     "output_type": "display_data"
    }
   ],
   "source": [
    "# Example 2\n",
    "\n",
    "df = sns.load_dataset('titanic')\n",
    "sns.barplot(x = 'class',\n",
    "            y = 'survived',\n",
    "            hue = 'sex',\n",
    "            data = df,\n",
    "            palette = \"Blues\")\n",
    "plt.show()"
   ]
  },
  {
   "cell_type": "markdown",
   "id": "animal-restoration",
   "metadata": {
    "tags": []
   },
   "source": [
    "#### Try Yourself Problem 1: \n",
    "\n",
    "Plot a bar graph on the 'titanic' dataset (who vs fare) based on the median. (Use hue = 'class')"
   ]
  },
  {
   "cell_type": "code",
   "execution_count": 11,
   "id": "residential-writer",
   "metadata": {},
   "outputs": [
    {
     "data": {
      "image/png": "[encoded data removed]",
      "text/plain": [
       "<Figure size 432x288 with 1 Axes>"
      ]
     },
     "metadata": {
      "needs_background": "light"
     },
     "output_type": "display_data"
    }
   ],
   "source": [
    "df = sns.load_dataset('titanic')\n",
    "sns.barplot(x = 'who',\n",
    "            y = 'fare',\n",
    "            hue = 'class',\n",
    "            data = df,\n",
    "            palette = \"Oranges\")\n",
    "plt.show()"
   ]
  },
  {
   "cell_type": "markdown",
   "id": "regulation-rubber",
   "metadata": {},
   "source": [
    "#### Try Yourself Problem 2: \n",
    "\n",
    "Plot a bar graph on the 'titanic' dataset with x = \"sex\", y =\"survived\""
   ]
  },
  {
   "cell_type": "code",
   "execution_count": 9,
   "id": "presidential-berkeley",
   "metadata": {},
   "outputs": [
    {
     "data": {
      "image/png": "[encoded data removed]",
      "text/plain": [
       "<Figure size 432x288 with 1 Axes>"
      ]
     },
     "metadata": {
      "needs_background": "light"
     },
     "output_type": "display_data"
    }
   ],
   "source": [
    "df = sns.load_dataset('titanic')\n",
    "sns.barplot(x = 'sex',\n",
    "            y = 'survived',\n",
    "            data = df,\n",
    "            palette = \"Blues\")\n",
    "plt.show()"
   ]
  },
  {
   "cell_type": "markdown",
   "id": "interstate-cargo",
   "metadata": {},
   "source": [
    "# You can also create a bar plot from your own dataset. Try the following problem..."
   ]
  },
  {
   "cell_type": "markdown",
   "id": "breeding-secretary",
   "metadata": {},
   "source": [
    "#### Try Yourself Problem 3:\n",
    "Plot a bar graph with ['A', 'B', 'C'] on x axis and [1,5,3] on y axis"
   ]
  },
  {
   "cell_type": "code",
   "execution_count": 24,
   "id": "innovative-crime",
   "metadata": {},
   "outputs": [
    {
     "data": {
      "image/png": "[encoded data removed]",
      "text/plain": [
       "<Figure size 432x288 with 1 Axes>"
      ]
     },
     "metadata": {
      "needs_background": "light"
     },
     "output_type": "display_data"
    }
   ],
   "source": [
    "import pandas as pd\n",
    "data = {'x': ['A','B','C'], 'y': [1, 5, 3]}\n",
    "df = pd.DataFrame(data, columns=['x', 'y'])\n",
    "sns.barplot(x = 'x',\n",
    "            y = 'y',\n",
    "            data = df,\n",
    "            color = \"Green\")\n",
    "plt.show()"
   ]
  },
  {
   "cell_type": "markdown",
   "id": "foreign-gasoline",
   "metadata": {},
   "source": [
    "# Plot a Horizontal Bar Plot\n",
    "\n",
    "To plot a Bar Plot horizontally, instead of vertically, we can simply switch the places of the x and y variables. \n",
    "\n",
    "Plotting the previous graph horizontally."
   ]
  },
  {
   "cell_type": "code",
   "execution_count": 28,
   "id": "sorted-despite",
   "metadata": {},
   "outputs": [
    {
     "data": {
      "image/png": "[encoded data removed]",
      "text/plain": [
       "<Figure size 432x288 with 1 Axes>"
      ]
     },
     "metadata": {
      "needs_background": "light"
     },
     "output_type": "display_data"
    }
   ],
   "source": [
    "# Example 3\n",
    "\n",
    "df = sns.load_dataset('titanic')\n",
    "sns.barplot(x = 'fare',\n",
    "            y = 'who',\n",
    "            hue = 'class',\n",
    "            data = df,\n",
    "            palette = \"Blues\")\n",
    "plt.show()"
   ]
  },
  {
   "cell_type": "markdown",
   "id": "british-average",
   "metadata": {},
   "source": [
    "#### Try Yourself Problem 4:\n",
    "\n",
    "Plot a bar graph (who vs fare) horizontally, and group the data by \"embark_town\""
   ]
  },
  {
   "cell_type": "code",
   "execution_count": 29,
   "id": "quick-fundamental",
   "metadata": {},
   "outputs": [
    {
     "data": {
      "image/png": "[encoded data removed]",
      "text/plain": [
       "<Figure size 432x288 with 1 Axes>"
      ]
     },
     "metadata": {
      "needs_background": "light"
     },
     "output_type": "display_data"
    }
   ],
   "source": [
    "df = sns.load_dataset('titanic')\n",
    "sns.barplot(x = 'fare',\n",
    "            y = 'who',\n",
    "            hue = 'embark_town',\n",
    "            data = df,\n",
    "            palette = \"Blues\")\n",
    "plt.show()"
   ]
  },
  {
   "cell_type": "markdown",
   "id": "isolated-employment",
   "metadata": {},
   "source": [
    "# Ordering Grouped Bars in a Bar Plot \n",
    "\n",
    "You can change the order of the bars from the default order. \n",
    "\n",
    "This is done via the **order** argument, which accepts a list of the values and the order you'd like to put them in.\n",
    "\n",
    "For example, so far, it ordered the classes from the first to the third. What if we'd like to do it the other way around?"
   ]
  },
  {
   "cell_type": "code",
   "execution_count": 30,
   "id": "square-puppy",
   "metadata": {},
   "outputs": [
    {
     "data": {
      "image/png": "[encoded data removed]",
      "text/plain": [
       "<Figure size 432x288 with 1 Axes>"
      ]
     },
     "metadata": {
      "needs_background": "light"
     },
     "output_type": "display_data"
    }
   ],
   "source": [
    "# Example 4\n",
    "\n",
    "df = sns.load_dataset('titanic')\n",
    "sns.barplot(x = 'class',\n",
    "            y = 'survived',\n",
    "            hue = 'sex',\n",
    "            order = [\"Third\", \"Second\", \"First\"],\n",
    "            data = df,\n",
    "            palette = \"Reds\")\n",
    "plt.show()"
   ]
  },
  {
   "cell_type": "markdown",
   "id": "promising-halloween",
   "metadata": {},
   "source": [
    "# Change Confidence Interval\n",
    "\n",
    "You can also easily change the confidence interval by setting the **ci** argument.\n",
    "\n",
    "For example, you can turn it off, by setting it to None, or use standard deviation instead of the mean by setting sd, or even put a cap size on the error bars for aesthetic purposes by setting capsize.\n",
    "\n",
    "Let's play around with the confidence interval attribute a bit with this horizontal bar graph:"
   ]
  },
  {
   "cell_type": "code",
   "execution_count": 35,
   "id": "pleased-artist",
   "metadata": {},
   "outputs": [
    {
     "data": {
      "image/png": "[encoded data removed]",
      "text/plain": [
       "<Figure size 432x288 with 1 Axes>"
      ]
     },
     "metadata": {
      "needs_background": "light"
     },
     "output_type": "display_data"
    }
   ],
   "source": [
    "# Example 5\n",
    "\n",
    "df = sns.load_dataset('titanic')\n",
    "sns.barplot(x = 'fare',\n",
    "            y = 'who',\n",
    "            hue = 'class',\n",
    "            data = df,\n",
    "            palette = \"Blues\", ci = 0)\n",
    "plt.show()\n",
    "\n",
    "# This now removes our error bars from before:"
   ]
  },
  {
   "cell_type": "markdown",
   "id": "satisfied-complexity",
   "metadata": {},
   "source": [
    "#### Try Yourself Problem 5:\n",
    "Plot a bar graph (class vs survived), with hue = \"sex\". The order should be reversed and no error bars should be displayed."
   ]
  },
  {
   "cell_type": "code",
   "execution_count": 32,
   "id": "norwegian-bread",
   "metadata": {},
   "outputs": [
    {
     "data": {
      "image/png": "[encoded data removed]",
      "text/plain": [
       "<Figure size 432x288 with 1 Axes>"
      ]
     },
     "metadata": {
      "needs_background": "light"
     },
     "output_type": "display_data"
    }
   ],
   "source": [
    "df = sns.load_dataset('titanic')\n",
    "sns.barplot(x = 'class',\n",
    "            y = 'survived',\n",
    "            hue = 'sex',\n",
    "            order = [\"Third\", \"Second\", \"First\"],\n",
    "            data = df,\n",
    "            palette = \"Purples\", ci = 0)\n",
    "plt.show()"
   ]
  },
  {
   "cell_type": "code",
   "execution_count": 33,
   "id": "comparable-airplane",
   "metadata": {},
   "outputs": [
    {
     "data": {
      "image/png": "[encoded data removed]",
      "text/plain": [
       "<Figure size 432x288 with 1 Axes>"
      ]
     },
     "metadata": {
      "needs_background": "light"
     },
     "output_type": "display_data"
    }
   ],
   "source": [
    "# Example 6\n",
    "\n",
    "# Or, we could use standard deviation for the error bars and set a cap size:\n",
    "df = sns.load_dataset('titanic')\n",
    "sns.barplot(x = \"class\", y = \"survived\", hue = \"who\", ci = \"sd\", capsize = 0.1, data = df)\n",
    "plt.show()"
   ]
  },
  {
   "cell_type": "markdown",
   "id": "beautiful-specialist",
   "metadata": {},
   "source": [
    "### Recap\n",
    "\n",
    "#### Some major variations of bar charts\n",
    "Here are again some of the many variations of bar charts we have demoed in the previous example:\n",
    "\n",
    "**Horizontal Bar Chart**\n",
    "<br /><img src = \"https://depictdatastudio.com/wp-content/uploads/2017/01/Depict-Data-Studio_Bar-Charts_Vertical-or-Horizontal_Horizontal-1.jpg\" height=\"auto\" width=\"300\">\n",
    "\n",
    "**Stacked Bar Chart**\n",
    "<br /><img src = \"https://chartio.com/assets/9bfb20/tutorials/charts/stacked-bar-charts/073137bf11f1c2226f68c3188128e28d66115622dcdecc9bc208a6d4117f53e8/stacked-bar-example-1.png\" height=\"auto\" width=\"300\">\n",
    "\n",
    "**Grouped Bar Chart**\n",
    "<br /><img src = \"https://chartio.com/assets/dfd59f/tutorials/charts/grouped-bar-charts/c1fde6017511bbef7ba9bb245a113c07f8ff32173a7c0d742a4e1eac1930a3c5/grouped-bar-example-1.png\" height=\"auto\" width=\"300\">\n",
    "\n",
    "#### What are some alternative visualizations?\n",
    "1. In seaborn, there are several different ways to visualize a relationship involving categorical data. There are a number of axes-level functions for plotting categorical data in different ways and a figure-level interface, **catplot()** is one of them that gives unified higher-level access to them.\n",
    "2. Line graph is another. (When you have data with many small changes over time should you use a line graph)\n",
    "  \n"
   ]
  },
  {
   "cell_type": "markdown",
   "id": "instrumental-difficulty",
   "metadata": {},
   "source": [
    "# Conclusion\n",
    "\n",
    "In this tutorial, we've gone over several ways to plot a Bar Plot using Seaborn. We've started with simple plots, and horizontal plots, and then continued to customize them.\n",
    "We've covered how to change the colors of the bars, group them together, order them and change the confidence interval.\n",
    " "
   ]
  },
  {
   "cell_type": "markdown",
   "id": "amazing-explosion",
   "metadata": {},
   "source": [
    "##### Try Yourself Problem 6:\n",
    "\n",
    "For each statement, fill in the missing word in the parentheses. Do not delete the parentheses!\n",
    "\n",
    "1. Bar graphs display (numerical) quantities on one axis and (categorical) variables on the other.\n",
    "2. To group bars together, we use the (hue)  argument.\n",
    "3. To change the order of the bars, we use the (order) argument.\n",
    "4. The confidence interval can be changed by using (ci) argument. \n",
    "5. To remove the error bars, we need to set the confidence interval to (0) or (None).\n",
    "6. To adjust the capsize, we use the (capsize) argument.\n",
    "7. To adjust the colors in the above example, we used (color) and (palette) arguments.\n",
    "8. When you have data with many small changes over time should you use a (line) graph."
   ]
  },
  {
   "cell_type": "markdown",
   "id": "chicken-berlin",
   "metadata": {},
   "source": [
    "**Feedback**: \n",
    "    I like all the different bar graphs you showed and all the features of it. \n",
    "    Using a variety of colors, the hue argument, and the oritentation of the graph were effective ways to display bar graphs in Python! This exercise was a bit long though, or maybe I am just slow, could be both. "
   ]
  },
  {
   "cell_type": "code",
   "execution_count": null,
   "id": "bigger-duncan",
   "metadata": {},
   "outputs": [],
   "source": []
  }
 ],
 "metadata": {
  "kernelspec": {
   "display_name": "Python 3",
   "language": "python",
   "name": "python3"
  },
  "language_info": {
   "codemirror_mode": {
    "name": "ipython",
    "version": 3
   },
   "file_extension": ".py",
   "mimetype": "text/x-python",
   "name": "python",
   "nbconvert_exporter": "python",
   "pygments_lexer": "ipython3",
   "version": "3.9.2"
  }
 },
 "nbformat": 4,
 "nbformat_minor": 5
}

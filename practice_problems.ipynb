{
 "cells": [
  {
   "cell_type": "markdown",
   "id": "numerous-automation",
   "metadata": {},
   "source": [
    "## ** Lambda Testing **"
   ]
  },
  {
   "cell_type": "code",
   "execution_count": 4,
   "id": "enclosed-psychology",
   "metadata": {
    "tags": []
   },
   "outputs": [
    {
     "data": {
      "text/plain": [
       "2"
      ]
     },
     "execution_count": 4,
     "metadata": {},
     "output_type": "execute_result"
    }
   ],
   "source": [
    "(lambda x: x+1)(1)"
   ]
  },
  {
   "cell_type": "code",
   "execution_count": 5,
   "id": "little-knight",
   "metadata": {},
   "outputs": [
    {
     "data": {
      "text/plain": [
       "8"
      ]
     },
     "execution_count": 5,
     "metadata": {},
     "output_type": "execute_result"
    }
   ],
   "source": [
    "(lambda x, y: x**y)(2,3)"
   ]
  },
  {
   "cell_type": "code",
   "execution_count": 6,
   "id": "emotional-detection",
   "metadata": {},
   "outputs": [
    {
     "data": {
      "text/plain": [
       "9"
      ]
     },
     "execution_count": 6,
     "metadata": {},
     "output_type": "execute_result"
    }
   ],
   "source": [
    "(lambda x, y: x**y)(3,2)"
   ]
  },
  {
   "cell_type": "code",
   "execution_count": 22,
   "id": "beginning-celtic",
   "metadata": {},
   "outputs": [
    {
     "data": {
      "text/plain": [
       "14.696938456699069"
      ]
     },
     "execution_count": 22,
     "metadata": {},
     "output_type": "execute_result"
    }
   ],
   "source": [
    "func = (lambda x, y: x**y)\n",
    "func(6,1.5)"
   ]
  },
  {
   "cell_type": "code",
   "execution_count": 23,
   "id": "fifth-conversation",
   "metadata": {},
   "outputs": [
    {
     "data": {
      "text/plain": [
       "900"
      ]
     },
     "execution_count": 23,
     "metadata": {},
     "output_type": "execute_result"
    }
   ],
   "source": [
    "func(30,2)"
   ]
  },
  {
   "cell_type": "markdown",
   "id": "divine-nancy",
   "metadata": {},
   "source": [
    "### Using Lambda function with is_big_square"
   ]
  },
  {
   "cell_type": "code",
   "execution_count": 14,
   "id": "comprehensive-grenada",
   "metadata": {},
   "outputs": [],
   "source": [
    "sqr = lambda x: x**2\n",
    "def is_big_square(width: int): \n",
    "    area = sqr(width)\n",
    "    if (area > 25): \n",
    "        return True\n",
    "    else: \n",
    "        return False"
   ]
  },
  {
   "cell_type": "code",
   "execution_count": 20,
   "id": "departmental-samoa",
   "metadata": {},
   "outputs": [
    {
     "data": {
      "text/plain": [
       "False"
      ]
     },
     "execution_count": 20,
     "metadata": {},
     "output_type": "execute_result"
    }
   ],
   "source": [
    "is_big_square(1)"
   ]
  },
  {
   "cell_type": "code",
   "execution_count": 19,
   "id": "actual-graphic",
   "metadata": {},
   "outputs": [
    {
     "data": {
      "text/plain": [
       "False"
      ]
     },
     "execution_count": 19,
     "metadata": {},
     "output_type": "execute_result"
    }
   ],
   "source": [
    "is_big_square(5)"
   ]
  },
  {
   "cell_type": "code",
   "execution_count": 21,
   "id": "compressed-armor",
   "metadata": {},
   "outputs": [
    {
     "data": {
      "text/plain": [
       "True"
      ]
     },
     "execution_count": 21,
     "metadata": {},
     "output_type": "execute_result"
    }
   ],
   "source": [
    "is_big_square(8)"
   ]
  },
  {
   "cell_type": "markdown",
   "id": "interior-artist",
   "metadata": {},
   "source": [
    "### Using Lambda inside other functions"
   ]
  },
  {
   "cell_type": "code",
   "execution_count": 1,
   "id": "living-portugal",
   "metadata": {},
   "outputs": [
    {
     "name": "stdout",
     "output_type": "stream",
     "text": [
      "8\n"
     ]
    }
   ],
   "source": [
    "def myfunc(x):\n",
    "    return lambda a: x-a\n",
    "\n",
    "mylam = myfunc(11)\n",
    "print(mylam(3))"
   ]
  },
  {
   "cell_type": "code",
   "execution_count": 2,
   "id": "rough-zimbabwe",
   "metadata": {},
   "outputs": [
    {
     "name": "stdout",
     "output_type": "stream",
     "text": [
      "-4\n"
     ]
    }
   ],
   "source": [
    "print(mylam(15))"
   ]
  },
  {
   "cell_type": "code",
   "execution_count": 3,
   "id": "olympic-child",
   "metadata": {},
   "outputs": [
    {
     "name": "stdout",
     "output_type": "stream",
     "text": [
      "100\n"
     ]
    }
   ],
   "source": [
    "def afunct(x,y):\n",
    "    return lambda a: (x*y)**a\n",
    "\n",
    "thislam = afunct(2,5)\n",
    "print(thislam(2))"
   ]
  },
  {
   "cell_type": "code",
   "execution_count": 4,
   "id": "radio-vintage",
   "metadata": {},
   "outputs": [
    {
     "name": "stdout",
     "output_type": "stream",
     "text": [
      "100000\n"
     ]
    }
   ],
   "source": [
    "print(thislam(5))"
   ]
  }
 ],
 "metadata": {
  "kernelspec": {
   "display_name": "Python 3",
   "language": "python",
   "name": "python3"
  },
  "language_info": {
   "codemirror_mode": {
    "name": "ipython",
    "version": 3
   },
   "file_extension": ".py",
   "mimetype": "text/x-python",
   "name": "python",
   "nbconvert_exporter": "python",
   "pygments_lexer": "ipython3",
   "version": "3.9.2"
  }
 },
 "nbformat": 4,
 "nbformat_minor": 5
}

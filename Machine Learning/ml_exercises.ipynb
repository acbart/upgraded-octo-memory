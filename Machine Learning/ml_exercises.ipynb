{
 "cells": [
  {
   "cell_type": "markdown",
   "id": "occupational-toilet",
   "metadata": {},
   "source": [
    "# Questions\n",
    "\n",
    "Fill in your name and the link to this file on your github.\n",
    "\n",
    "* Name: Blake Silver  \n",
    "* Link to github URL: https://github.com/blakes5/upgraded-octo-memory/blob/main/ml_exercises.ipynb"
   ]
  },
  {
   "cell_type": "code",
   "execution_count": 2,
   "id": "endangered-gossip",
   "metadata": {},
   "outputs": [],
   "source": [
    "import pandas as pd\n",
    "import numpy as np\n",
    "import scipy.stats as st\n",
    "import matplotlib.pyplot as plt\n",
    "import scipy\n",
    "\n",
    "from sklearn.naive_bayes import GaussianNB\n",
    "from sklearn import metrics\n",
    "from sklearn import datasets\n",
    "from sklearn.model_selection import train_test_split"
   ]
  },
  {
   "cell_type": "markdown",
   "id": "helpful-depression",
   "metadata": {},
   "source": [
    "# ML: Linear Regression\n",
    "\n",
    "So this starts with linear regression. If you want a deeper dive than what I cover in class, you can refer to [this page](https://realpython.com/linear-regression-in-python/)\n",
    "\n",
    "The exercises come from this workbook, which has somewhat helpful explanations too: https://csmastersuh.github.io/data_analysis_with_python_2020/linear_regression.html"
   ]
  },
  {
   "cell_type": "markdown",
   "id": "empirical-delivery",
   "metadata": {},
   "source": [
    "# Exercise 10: Linear Regression\n",
    "\n",
    "You'll need to make up some data for this. Don't spend too much time on this one, it's less interesting compared to the others."
   ]
  },
  {
   "cell_type": "code",
   "execution_count": 3,
   "id": "postal-humor",
   "metadata": {},
   "outputs": [
    {
     "data": {
      "text/plain": [
       "array([ 0.        ,  0.52631579,  1.05263158,  1.57894737,  2.10526316,\n",
       "        2.63157895,  3.15789474,  3.68421053,  4.21052632,  4.73684211,\n",
       "        5.26315789,  5.78947368,  6.31578947,  6.84210526,  7.36842105,\n",
       "        7.89473684,  8.42105263,  8.94736842,  9.47368421, 10.        ])"
      ]
     },
     "metadata": {},
     "output_type": "display_data"
    },
    {
     "data": {
      "text/plain": [
       "array([ 2.12143045,  4.3132496 ,  7.26585656,  9.77400909, 11.93504415,\n",
       "       13.85505177, 15.9067116 , 18.00254767, 19.32905381, 22.50794897,\n",
       "       23.39884973, 25.40714077, 28.16915636, 30.68547865, 32.72828281,\n",
       "       33.3811307 , 36.76085432, 40.17300027, 40.64351051, 42.13252436])"
      ]
     },
     "metadata": {},
     "output_type": "display_data"
    },
    {
     "data": {
      "image/png": "[encoded data removed]",
      "text/plain": [
       "<Figure size 432x288 with 1 Axes>"
      ]
     },
     "metadata": {
      "needs_background": "light"
     },
     "output_type": "display_data"
    },
    {
     "data": {
      "image/png": "[encoded data removed]",
      "text/plain": [
       "<Figure size 432x288 with 1 Axes>"
      ]
     },
     "metadata": {
      "needs_background": "light"
     },
     "output_type": "display_data"
    }
   ],
   "source": [
    "n=20\n",
    "# Linearly increasing x values\n",
    "x = np.linspace(0, 10, n)\n",
    "# Wonky line of points\n",
    "y = x*4 + 3 + 1*np.random.randn(n) # changed stuff here\n",
    "display(x, y)\n",
    "plt.scatter(x, y)\n",
    "plt.show()\n",
    "   \n",
    "\n",
    "from sklearn.linear_model import LinearRegression\n",
    "# Do actual linear regression here\n",
    "model=LinearRegression(fit_intercept=True)\n",
    "model.fit(x[:,np.newaxis], y)\n",
    "xfit=np.linspace(0,10,100)\n",
    "yfit=model.predict(xfit[:, np.newaxis])\n",
    "plt.plot(xfit,yfit, color=\"green\")\n",
    "plt.plot(x,y, 'o')\n",
    "# The following will draw as many line segments as there are columns in matrices x and y\n",
    "plt.plot(np.vstack([x,x]), np.vstack([y, model.predict(x[:, np.newaxis])]), color=\"black\");"
   ]
  },
  {
   "cell_type": "markdown",
   "id": "least-causing",
   "metadata": {},
   "source": [
    "# Exercise 11: Mystery Data\n",
    "\n",
    "This one is far more interesting. You can download the file from [here](https://raw.githubusercontent.com/AnkS4/hy-data-analysis-with-python-2020/master/part05-e11_mystery_data/src/mystery_data.tsv). Make sure it gets the right filename!\n",
    "\n",
    "You don't need to define any functions, as they demand, although you might find that helpful to do."
   ]
  },
  {
   "cell_type": "code",
   "execution_count": 4,
   "id": "forty-consultation",
   "metadata": {},
   "outputs": [
    {
     "name": "stdout",
     "output_type": "stream",
     "text": [
      "['x0: [3.]', 'x1: [-1.]', 'x2: [7.]', 'x3: [4.4408921e-16]', 'x4: [-20.]']\n"
     ]
    }
   ],
   "source": [
    "def mystery_data(tsv):\n",
    "    tsv_file = open(\"mystery_data.tsv\")\n",
    "    read_tsv = csv.reader(tsv_file, delimiter=\"\\t\")\n",
    "\n",
    "mystery_data = pd.read_csv(\"https://raw.githubusercontent.com/AnkS4/hy-data-analysis-with-python-2020/master/part05-e11_mystery_data/src/mystery_data.tsv\", delimiter='\\t')\n",
    "#print(mystery_data.head(5))\n",
    "\n",
    "from sklearn.linear_model import LinearRegression\n",
    "\n",
    "model=LinearRegression(fit_intercept=False)\n",
    "\n",
    "x = mystery_data.iloc[:, 0:5]\n",
    "y = mystery_data[['Y']]\n",
    "model.fit(x, y)\n",
    "print([f\"x{i}: {model.coef_[:, i]}\" for i in range(model.coef_.shape[1])])"
   ]
  },
  {
   "cell_type": "markdown",
   "id": "rotary-northeast",
   "metadata": {},
   "source": [
    "## Exercise 12: Coefficient of Determination\n",
    "\n",
    "Read over this entire problem, parts 1 and 2.\n",
    "\n",
    "This reuses the same `mystery_data.tsv` file as before.\n",
    "\n",
    "Again, you do not need to define their function. Just calculate the R2 scores and print them, as they direct."
   ]
  },
  {
   "cell_type": "code",
   "execution_count": 5,
   "id": "substantial-filter",
   "metadata": {},
   "outputs": [
    {
     "name": "stdout",
     "output_type": "stream",
     "text": [
      "1.0\n"
     ]
    }
   ],
   "source": [
    "model=LinearRegression(fit_intercept=True)\n",
    "\n",
    "x = mystery_data.iloc[:, 0:5]\n",
    "y = mystery_data[['Y']]\n",
    "model.fit(x, y)\n",
    "yfit=model.predict(x)\n",
    "#print([f\"x{i}: {model.coef_[:, i]}\" for i in range(model.coef_.shape[1])])\n",
    "print(model.score(x.iloc[:, 0:5],y)) "
   ]
  },
  {
   "cell_type": "markdown",
   "id": "behind-dining",
   "metadata": {},
   "source": [
    "## Exercise 13: Cycling Weather\n",
    "\n",
    "I've already prepared the data that they require for this assignment. You can download it [here](https://gist.githubusercontent.com/acbart/466174a04e9a2505c4c25f91fc6dd4f6/raw/726865070677ec7dede17a08095624e0ea35e7cd/biking.csv).\n",
    "\n",
    "The first column is the index, you can safely ignore it. The next 7 columns are straightforward. The last few columns are locations in Finland that have measuring stations. I recommend using `Baana` as they say in the instructions for testing.\n"
   ]
  },
  {
   "cell_type": "code",
   "execution_count": 6,
   "id": "remarkable-bedroom",
   "metadata": {},
   "outputs": [
    {
     "data": {
      "text/html": [
       "<div>\n",
       "<style scoped>\n",
       "    .dataframe tbody tr th:only-of-type {\n",
       "        vertical-align: middle;\n",
       "    }\n",
       "\n",
       "    .dataframe tbody tr th {\n",
       "        vertical-align: top;\n",
       "    }\n",
       "\n",
       "    .dataframe thead th {\n",
       "        text-align: right;\n",
       "    }\n",
       "</style>\n",
       "<table border=\"1\" class=\"dataframe\">\n",
       "  <thead>\n",
       "    <tr style=\"text-align: right;\">\n",
       "      <th></th>\n",
       "      <th>Year</th>\n",
       "      <th>Precipitation amount (mm)</th>\n",
       "      <th>Snow depth (cm)</th>\n",
       "      <th>Air temperature (degC)</th>\n",
       "      <th>Day</th>\n",
       "      <th>Month</th>\n",
       "      <th>Hour</th>\n",
       "      <th>Auroransilta</th>\n",
       "      <th>Eteläesplanadi</th>\n",
       "      <th>Huopalahti (asema)</th>\n",
       "      <th>...</th>\n",
       "      <th>Merikannontie</th>\n",
       "      <th>Munkkiniemen silta eteläpuoli</th>\n",
       "      <th>Munkkiniemi silta pohjoispuoli</th>\n",
       "      <th>Heperian puisto/Ooppera</th>\n",
       "      <th>Pitkäsilta itäpuoli</th>\n",
       "      <th>Pitkäsilta länsipuoli</th>\n",
       "      <th>Lauttasaaren silta pohjoispuoli</th>\n",
       "      <th>Ratapihantie</th>\n",
       "      <th>Viikintie</th>\n",
       "      <th>Baana</th>\n",
       "    </tr>\n",
       "  </thead>\n",
       "  <tbody>\n",
       "    <tr>\n",
       "      <th>0</th>\n",
       "      <td>2017</td>\n",
       "      <td>-1.0</td>\n",
       "      <td>-1.0</td>\n",
       "      <td>0.6</td>\n",
       "      <td>1</td>\n",
       "      <td>1</td>\n",
       "      <td>276</td>\n",
       "      <td>0.0</td>\n",
       "      <td>158.0</td>\n",
       "      <td>120.0</td>\n",
       "      <td>...</td>\n",
       "      <td>285.0</td>\n",
       "      <td>168.0</td>\n",
       "      <td>107.0</td>\n",
       "      <td>249.0</td>\n",
       "      <td>156.0</td>\n",
       "      <td>229.0</td>\n",
       "      <td>155.0</td>\n",
       "      <td>103.0</td>\n",
       "      <td>0.0</td>\n",
       "      <td>218.0</td>\n",
       "    </tr>\n",
       "    <tr>\n",
       "      <th>1</th>\n",
       "      <td>2017</td>\n",
       "      <td>4.4</td>\n",
       "      <td>-1.0</td>\n",
       "      <td>-3.9</td>\n",
       "      <td>2</td>\n",
       "      <td>1</td>\n",
       "      <td>276</td>\n",
       "      <td>0.0</td>\n",
       "      <td>419.0</td>\n",
       "      <td>540.0</td>\n",
       "      <td>...</td>\n",
       "      <td>589.0</td>\n",
       "      <td>465.0</td>\n",
       "      <td>224.0</td>\n",
       "      <td>744.0</td>\n",
       "      <td>459.0</td>\n",
       "      <td>283.0</td>\n",
       "      <td>335.0</td>\n",
       "      <td>538.0</td>\n",
       "      <td>0.0</td>\n",
       "      <td>913.0</td>\n",
       "    </tr>\n",
       "    <tr>\n",
       "      <th>2</th>\n",
       "      <td>2017</td>\n",
       "      <td>6.6</td>\n",
       "      <td>7.0</td>\n",
       "      <td>-6.5</td>\n",
       "      <td>3</td>\n",
       "      <td>1</td>\n",
       "      <td>276</td>\n",
       "      <td>0.0</td>\n",
       "      <td>288.0</td>\n",
       "      <td>445.0</td>\n",
       "      <td>...</td>\n",
       "      <td>462.0</td>\n",
       "      <td>439.0</td>\n",
       "      <td>178.0</td>\n",
       "      <td>692.0</td>\n",
       "      <td>331.0</td>\n",
       "      <td>173.0</td>\n",
       "      <td>263.0</td>\n",
       "      <td>451.0</td>\n",
       "      <td>0.0</td>\n",
       "      <td>725.0</td>\n",
       "    </tr>\n",
       "    <tr>\n",
       "      <th>3</th>\n",
       "      <td>2017</td>\n",
       "      <td>-1.0</td>\n",
       "      <td>13.0</td>\n",
       "      <td>-12.8</td>\n",
       "      <td>4</td>\n",
       "      <td>1</td>\n",
       "      <td>276</td>\n",
       "      <td>0.0</td>\n",
       "      <td>232.0</td>\n",
       "      <td>334.0</td>\n",
       "      <td>...</td>\n",
       "      <td>309.0</td>\n",
       "      <td>267.0</td>\n",
       "      <td>143.0</td>\n",
       "      <td>480.0</td>\n",
       "      <td>250.0</td>\n",
       "      <td>164.0</td>\n",
       "      <td>187.0</td>\n",
       "      <td>324.0</td>\n",
       "      <td>0.0</td>\n",
       "      <td>563.0</td>\n",
       "    </tr>\n",
       "    <tr>\n",
       "      <th>4</th>\n",
       "      <td>2017</td>\n",
       "      <td>-1.0</td>\n",
       "      <td>10.0</td>\n",
       "      <td>-17.8</td>\n",
       "      <td>5</td>\n",
       "      <td>1</td>\n",
       "      <td>276</td>\n",
       "      <td>0.0</td>\n",
       "      <td>195.0</td>\n",
       "      <td>219.0</td>\n",
       "      <td>...</td>\n",
       "      <td>223.0</td>\n",
       "      <td>185.0</td>\n",
       "      <td>95.0</td>\n",
       "      <td>306.0</td>\n",
       "      <td>190.0</td>\n",
       "      <td>107.0</td>\n",
       "      <td>150.0</td>\n",
       "      <td>205.0</td>\n",
       "      <td>0.0</td>\n",
       "      <td>365.0</td>\n",
       "    </tr>\n",
       "  </tbody>\n",
       "</table>\n",
       "<p>5 rows × 27 columns</p>\n",
       "</div>"
      ],
      "text/plain": [
       "   Year  Precipitation amount (mm)  Snow depth (cm)  Air temperature (degC)  \\\n",
       "0  2017                       -1.0             -1.0                     0.6   \n",
       "1  2017                        4.4             -1.0                    -3.9   \n",
       "2  2017                        6.6              7.0                    -6.5   \n",
       "3  2017                       -1.0             13.0                   -12.8   \n",
       "4  2017                       -1.0             10.0                   -17.8   \n",
       "\n",
       "   Day  Month  Hour  Auroransilta  Eteläesplanadi  Huopalahti (asema)  ...  \\\n",
       "0    1      1   276           0.0           158.0               120.0  ...   \n",
       "1    2      1   276           0.0           419.0               540.0  ...   \n",
       "2    3      1   276           0.0           288.0               445.0  ...   \n",
       "3    4      1   276           0.0           232.0               334.0  ...   \n",
       "4    5      1   276           0.0           195.0               219.0  ...   \n",
       "\n",
       "   Merikannontie  Munkkiniemen silta eteläpuoli  \\\n",
       "0          285.0                          168.0   \n",
       "1          589.0                          465.0   \n",
       "2          462.0                          439.0   \n",
       "3          309.0                          267.0   \n",
       "4          223.0                          185.0   \n",
       "\n",
       "   Munkkiniemi silta pohjoispuoli  Heperian puisto/Ooppera  \\\n",
       "0                           107.0                    249.0   \n",
       "1                           224.0                    744.0   \n",
       "2                           178.0                    692.0   \n",
       "3                           143.0                    480.0   \n",
       "4                            95.0                    306.0   \n",
       "\n",
       "   Pitkäsilta itäpuoli  Pitkäsilta länsipuoli  \\\n",
       "0                156.0                  229.0   \n",
       "1                459.0                  283.0   \n",
       "2                331.0                  173.0   \n",
       "3                250.0                  164.0   \n",
       "4                190.0                  107.0   \n",
       "\n",
       "   Lauttasaaren silta pohjoispuoli  Ratapihantie  Viikintie  Baana  \n",
       "0                            155.0         103.0        0.0  218.0  \n",
       "1                            335.0         538.0        0.0  913.0  \n",
       "2                            263.0         451.0        0.0  725.0  \n",
       "3                            187.0         324.0        0.0  563.0  \n",
       "4                            150.0         205.0        0.0  365.0  \n",
       "\n",
       "[5 rows x 27 columns]"
      ]
     },
     "execution_count": 6,
     "metadata": {},
     "output_type": "execute_result"
    }
   ],
   "source": [
    "finland_cycling = pd.read_csv(\"https://gist.githubusercontent.com/acbart/466174a04e9a2505c4c25f91fc6dd4f6/raw/726865070677ec7dede17a08095624e0ea35e7cd/biking.csv\", index_col=0)\n",
    "finland_cycling.head(5)"
   ]
  },
  {
   "cell_type": "code",
   "execution_count": 7,
   "id": "productive-cotton",
   "metadata": {},
   "outputs": [
    {
     "name": "stdout",
     "output_type": "stream",
     "text": [
      "[-52.17954896 -32.93766861 169.24225037] for 'Precipitation amount (mm)', 'Snow depth (cm)', and 'Air temperature (degC)' respectively\n",
      "score: 0.5750246253469835\n"
     ]
    }
   ],
   "source": [
    "xlearn = finland_cycling[['Precipitation amount (mm)', 'Snow depth (cm)','Air temperature (degC)']]\n",
    "ylearn = finland_cycling[['Baana']]\n",
    "model = LinearRegression(fit_intercept=True)\n",
    "model.fit(xlearn, ylearn)\n",
    "print(model.coef_[0], \"for 'Precipitation amount (mm)', 'Snow depth (cm)', and 'Air temperature (degC)' respectively\")\n",
    "print(\"score:\", model.score(xlearn,finland_cycling[['Baana']]))"
   ]
  },
  {
   "cell_type": "markdown",
   "id": "declared-aggregate",
   "metadata": {},
   "source": [
    "# ML Naive Bayes Classification\n",
    "\n",
    "This is the next section of the exercises, from: https://csmastersuh.github.io/data_analysis_with_python_2020/bayes.html\n",
    "\n",
    "In addition to the reading, I recommend this video: https://www.youtube.com/watch?v=CPqOCI0ahss\n",
    "\n",
    "\n",
    "## Exercise 1: Blob Classification\n",
    "\n",
    "(**OPTIONAL**) This one is very vague, and they're actually asking you to generate your own test data using the `make_blobs` function from `sklearn`'s `datasets` submodule. I've already started that work for you. But honestly if you want to skip it, I don't think it's a helpful starting question."
   ]
  },
  {
   "cell_type": "code",
   "execution_count": 9,
   "id": "departmental-continuity",
   "metadata": {},
   "outputs": [
    {
     "name": "stdout",
     "output_type": "stream",
     "text": [
      "The accuracy score is None\n",
      "array([[2.0, 2.0, 0.0, 2.5, None],\n",
      "       [2.0, 3.0, 1.0, 1.5, None],\n",
      "       [2.0, 2.0, 6.0, 3.5, None],\n",
      "       [2.0, 2.0, 3.0, 1.2, None],\n",
      "       [2.0, 4.0, 4.0, 2.7, None]], dtype=object)\n"
     ]
    }
   ],
   "source": [
    "def blob_classification(X, y):\n",
    "    # Put ML stuff here\n",
    "    pass\n",
    "\n",
    "# Create the training data and validation data\n",
    "X, y = datasets.make_blobs(100, 2, centers=2, random_state=2, cluster_std=2.5)\n",
    "# Run your ML predictions\n",
    "print(\"The accuracy score is\", blob_classification(X, y))\n",
    "# Run this on some new data\n",
    "a=np.array([[2, 2, 0, 2.5],\n",
    "            [2, 3, 1, 1.5],\n",
    "            [2, 2, 6, 3.5],\n",
    "            [2, 2, 3, 1.2],\n",
    "            [2, 4, 4, 2.7]])\n",
    "accuracies = []\n",
    "for row in a:\n",
    "    X,y = datasets.make_blobs(100, int(row[0]), centers=int(row[1]),\n",
    "                              random_state=int(row[2]), cluster_std=row[3])\n",
    "    accuracies.append(blob_classification(X, y))\n",
    "print(repr(np.hstack([a, np.array(accuracies)[:,np.newaxis]])))\n",
    "# The last column should be the categorizations"
   ]
  },
  {
   "cell_type": "markdown",
   "id": "turkish-houston",
   "metadata": {},
   "source": [
    "## Exercise 2: Plant Classification\n",
    "\n",
    "This is a much better question. The Iris dataset is a classic: https://en.wikipedia.org/wiki/Iris_flower_data_set\n",
    "\n",
    "The wikipedia page gives an example of how to load the dataset."
   ]
  },
  {
   "cell_type": "code",
   "execution_count": 8,
   "id": "weighted-dividend",
   "metadata": {},
   "outputs": [
    {
     "name": "stdout",
     "output_type": "stream",
     "text": [
      "Accuracy is 0.9666666666666667\n"
     ]
    }
   ],
   "source": [
    "from sklearn.datasets import load_iris\n",
    "from sklearn.model_selection import train_test_split\n",
    "from sklearn import naive_bayes\n",
    "from sklearn import metrics\n",
    "\n",
    "\n",
    "def plant_classification():\n",
    "    iris = load_iris()\n",
    "    X,y = iris.data, iris.target\n",
    "    X_train, X_test, y_train, y_test = train_test_split(X, y, test_size=.2, random_state=0)\n",
    "    model = naive_bayes.GaussianNB()\n",
    "    model.fit(X_train, y_train)\n",
    "    y_fitted = model.predict(X_test)\n",
    "    return metrics.accuracy_score(y_test, y_fitted)\n",
    "\n",
    "\n",
    "def main(): \n",
    "    print(f\"Accuracy is {plant_classification()}\")\n",
    "\n",
    "\n",
    "if __name__ == \"__main__\": \n",
    "    main()\n"
   ]
  },
  {
   "cell_type": "markdown",
   "id": "owned-colors",
   "metadata": {},
   "source": [
    "## Exercise 3: Word Classification\n",
    "\n",
    "(**Skip**)\n",
    "\n",
    "This one is too much. They give some of the data as an XML file. It's an interesting problem, and you can find the data (and solution) [here](https://github.com/AnkS4/hy-data-analysis-with-python-2020/tree/master/part06-e03_word_classification/src) if you want to tackle it, but I'm skipping it.\n"
   ]
  },
  {
   "cell_type": "code",
   "execution_count": null,
   "id": "premier-salem",
   "metadata": {},
   "outputs": [],
   "source": []
  },
  {
   "cell_type": "markdown",
   "id": "brutal-dryer",
   "metadata": {},
   "source": [
    "## Exercise 4: Spam Detection\n",
    "\n",
    "Download [ham.txt.gz](https://github.com/AnkS4/hy-data-analysis-with-python-2020/raw/master/part06-e04_spam_detection/src/ham.txt.gz) and [spam.txt.gz](https://github.com/AnkS4/hy-data-analysis-with-python-2020/raw/master/part06-e04_spam_detection/src/spam.txt.gz).\n",
    "\n",
    "This one is much more interesting and reasonable. It requires processing some large text files, but that's actually the easiest part, as shown in the code below. The idea is that you have spam (bad emails) and ham (good emails), and you want to determine which is which. I've done similar email processing (detecting job ads for a conference) and I was impressed with how easily I could train a little data and get very good results."
   ]
  },
  {
   "cell_type": "code",
   "execution_count": 13,
   "id": "rapid-wonder",
   "metadata": {},
   "outputs": [
    {
     "name": "stdout",
     "output_type": "stream",
     "text": [
      "Number of spam emails loaded as strings: 500\n",
      "Number of ham emails loaded as strings: 2500\n"
     ]
    },
    {
     "ename": "NameError",
     "evalue": "name 'y_fitted' is not defined",
     "output_type": "error",
     "traceback": [
      "\u001b[1;31m---------------------------------------------------------------------------\u001b[0m",
      "\u001b[1;31mNameError\u001b[0m                                 Traceback (most recent call last)",
      "\u001b[1;32m<ipython-input-13-c5f7c456a671>\u001b[0m in \u001b[0;36m<module>\u001b[1;34m\u001b[0m\n\u001b[0;32m     39\u001b[0m \u001b[1;33m\u001b[0m\u001b[0m\n\u001b[0;32m     40\u001b[0m \u001b[1;32mif\u001b[0m \u001b[0m__name__\u001b[0m \u001b[1;33m==\u001b[0m \u001b[1;34m\"__main__\"\u001b[0m\u001b[1;33m:\u001b[0m\u001b[1;33m\u001b[0m\u001b[1;33m\u001b[0m\u001b[0m\n\u001b[1;32m---> 41\u001b[1;33m     \u001b[0mmain\u001b[0m\u001b[1;33m(\u001b[0m\u001b[1;33m)\u001b[0m\u001b[1;33m\u001b[0m\u001b[1;33m\u001b[0m\u001b[0m\n\u001b[0m",
      "\u001b[1;32m<ipython-input-13-c5f7c456a671>\u001b[0m in \u001b[0;36mmain\u001b[1;34m()\u001b[0m\n\u001b[0;32m     34\u001b[0m \u001b[1;33m\u001b[0m\u001b[0m\n\u001b[0;32m     35\u001b[0m \u001b[1;32mdef\u001b[0m \u001b[0mmain\u001b[0m\u001b[1;33m(\u001b[0m\u001b[1;33m)\u001b[0m\u001b[1;33m:\u001b[0m\u001b[1;33m\u001b[0m\u001b[1;33m\u001b[0m\u001b[0m\n\u001b[1;32m---> 36\u001b[1;33m     \u001b[0maccuracy\u001b[0m\u001b[1;33m,\u001b[0m \u001b[0mtotal\u001b[0m\u001b[1;33m,\u001b[0m \u001b[0mmisclassified\u001b[0m \u001b[1;33m=\u001b[0m \u001b[0mspam_detection\u001b[0m\u001b[1;33m(\u001b[0m\u001b[1;33m)\u001b[0m\u001b[1;33m\u001b[0m\u001b[1;33m\u001b[0m\u001b[0m\n\u001b[0m\u001b[0;32m     37\u001b[0m     \u001b[0mprint\u001b[0m\u001b[1;33m(\u001b[0m\u001b[1;34m\"Accuracy score:\"\u001b[0m\u001b[1;33m,\u001b[0m \u001b[0maccuracy\u001b[0m\u001b[1;33m)\u001b[0m\u001b[1;33m\u001b[0m\u001b[1;33m\u001b[0m\u001b[0m\n\u001b[0;32m     38\u001b[0m     \u001b[0mprint\u001b[0m\u001b[1;33m(\u001b[0m\u001b[1;34mf\"{misclassified} messages misclassified out of {total}\"\u001b[0m\u001b[1;33m)\u001b[0m\u001b[1;33m\u001b[0m\u001b[1;33m\u001b[0m\u001b[0m\n",
      "\u001b[1;32m<ipython-input-13-c5f7c456a671>\u001b[0m in \u001b[0;36mspam_detection\u001b[1;34m(random_state, fraction)\u001b[0m\n\u001b[0;32m     30\u001b[0m \u001b[1;33m\u001b[0m\u001b[0m\n\u001b[0;32m     31\u001b[0m     \u001b[0mscore\u001b[0m \u001b[1;33m=\u001b[0m \u001b[0maccuracy_score\u001b[0m\u001b[1;33m(\u001b[0m\u001b[0my_test\u001b[0m\u001b[1;33m,\u001b[0m \u001b[0my_pred\u001b[0m\u001b[1;33m)\u001b[0m\u001b[1;33m\u001b[0m\u001b[1;33m\u001b[0m\u001b[0m\n\u001b[1;32m---> 32\u001b[1;33m     \u001b[0mmiss\u001b[0m \u001b[1;33m=\u001b[0m \u001b[1;33m(\u001b[0m\u001b[0my_test\u001b[0m \u001b[1;33m!=\u001b[0m \u001b[0my_fitted\u001b[0m\u001b[1;33m)\u001b[0m\u001b[1;33m.\u001b[0m\u001b[0msum\u001b[0m\u001b[1;33m(\u001b[0m\u001b[1;33m)\u001b[0m\u001b[1;33m\u001b[0m\u001b[1;33m\u001b[0m\u001b[0m\n\u001b[0m\u001b[0;32m     33\u001b[0m     \u001b[1;32mreturn\u001b[0m \u001b[0mscore\u001b[0m\u001b[1;33m,\u001b[0m \u001b[0mlen\u001b[0m\u001b[1;33m(\u001b[0m\u001b[0mX_test\u001b[0m\u001b[1;33m)\u001b[0m\u001b[1;33m,\u001b[0m \u001b[0mmiss\u001b[0m\u001b[1;33m\u001b[0m\u001b[1;33m\u001b[0m\u001b[0m\n\u001b[0;32m     34\u001b[0m \u001b[1;33m\u001b[0m\u001b[0m\n",
      "\u001b[1;31mNameError\u001b[0m: name 'y_fitted' is not defined"
     ]
    }
   ],
   "source": [
    "import gzip\n",
    "from sklearn.feature_extraction.text import CountVectorizer\n",
    "from sklearn.model_selection import train_test_split\n",
    "from sklearn.naive_bayes import MultinomialNB\n",
    "from sklearn.metrics import accuracy_score\n",
    "\n",
    " # Load the spam emails as strings in a list.\n",
    "with gzip.open('spam.txt.gz', 'rb') as spam_file:\n",
    "    spam = spam_file.readlines()\n",
    "print(\"Number of spam emails loaded as strings:\", len(spam))\n",
    "\n",
    "# Now do the same thing with the `ham.txt.gz`\n",
    "with gzip.open('ham.txt.gz', 'rb') as ham_file:\n",
    "    ham = ham_file.readlines()\n",
    "print(\"Number of ham emails loaded as strings:\", len(ham))\n",
    "\n",
    "# And then do the actual ML stuff\n",
    "def spam_detection(random_state=0, fraction=1.0):\n",
    "    X = ham+spam\n",
    "    vectorizer = CountVectorizer()\n",
    "    X = vectorizer.fit_transform(X).toarray()\n",
    "\n",
    "    y = np.zeros(len(X)) \n",
    "    y[len(ham):] = 1\n",
    "\n",
    "    X_train, X_test, y_train, y_test = train_test_split(X, y, random_state = random_state, train_size = .75)\n",
    "    model = MultinomialNB()\n",
    "    model.fit(X_train, y_train)\n",
    "    y_pred = model.predict(X_test)\n",
    "\n",
    "    score = accuracy_score(y_test, y_pred)\n",
    "    miss = (y_test != y_fitted).sum()\n",
    "    return score, len(X_test), miss\n",
    "\n",
    "def main():\n",
    "    accuracy, total, misclassified = spam_detection()\n",
    "    print(\"Accuracy score:\", accuracy)\n",
    "    print(f\"{misclassified} messages misclassified out of {total}\")\n",
    "\n",
    "if __name__ == \"__main__\": \n",
    "    main()"
   ]
  },
  {
   "cell_type": "markdown",
   "id": "electronic-nothing",
   "metadata": {},
   "source": [
    "# ML Clustering\n",
    "\n",
    "This is the last section: https://csmastersuh.github.io/data_analysis_with_python_2020/clustering.html\n",
    "\n",
    "This section is one of the most interesting in my opinion. K-Means is a pretty straightforward tool, and is really worth learning how to use it."
   ]
  },
  {
   "cell_type": "markdown",
   "id": "abandoned-policy",
   "metadata": {},
   "source": [
    "## Exercise 5: Plant Clustering\n",
    "\n",
    "Same deal as before; use the IRIS dataset. Since this has so many parameters, it can be tricky to make a good visualization."
   ]
  },
  {
   "cell_type": "code",
   "execution_count": 23,
   "id": "pregnant-gardening",
   "metadata": {},
   "outputs": [
    {
     "name": "stdout",
     "output_type": "stream",
     "text": [
      "0.8933333333333333\n"
     ]
    }
   ],
   "source": [
    "import scipy\n",
    "from sklearn.datasets import load_iris\n",
    "from sklearn.metrics import accuracy_score\n",
    "from sklearn.cluster import KMeans\n",
    "\n",
    "def find_permutation(n_clusters, real_labels, labels):\n",
    "    permutation = []\n",
    "    for i in range(n_clusters): \n",
    "        idx = labels == i\n",
    "        new_label = scipy.stats.mode(real_labels[idx])[0][0]\n",
    "        permutation.append(new_label)\n",
    "    return permutation\n",
    "\n",
    "def plant_clustering():\n",
    "    iris = load_iris()\n",
    "    X = iris.data\n",
    "    y = iris.target\n",
    "    model = KMeans(3, random_state = 0)\n",
    "    model.fit(X)\n",
    "    permutation = find_permutation(3, y, model.labels_)\n",
    "    new_labels = [permutation[label] for label in model.labels_]\n",
    "    return accuracy_score(y, new_labels)\n",
    "\n",
    "def main(): \n",
    "    print(plant_clustering())\n",
    "\n",
    "if __name__ == \"__main__\": \n",
    "    main()"
   ]
  },
  {
   "cell_type": "markdown",
   "id": "friendly-decade",
   "metadata": {},
   "source": [
    "## Exercise 6: Non-convex Clusters\n",
    "\n",
    "The data for this question is [here](https://raw.githubusercontent.com/AnkS4/hy-data-analysis-with-python-2020/master/part06-e06_nonconvex_clusters/src/data.tsv).\n",
    "\n",
    "This one shows off a different clustering algorithm ([`DBSCAN`](https://scikit-learn.org/stable/modules/generated/sklearn.cluster.DBSCAN.html)), which is \"Good for data which contains clusters of similar density\". I wasn't very familiar with DBSCAN, but it does seem much better than KMeans. It doesn't require you to figure out the number of clusters, and seems to be tricked less by unusual data. [This page](https://www.kdnuggets.com/2020/04/dbscan-clustering-algorithm-machine-learning.html) was very helpful in breaking that difference down.\n",
    "\n",
    "The reference answer uses a `for` loop and `np.arange` to try `e` values from 0.05 to 0.2 in 0.05 increments, but I don't mind if you just manually try some different `e` values.\n",
    "\n",
    "Please do make a visualization with clusters colored, since I think that really highlights what we are doing!"
   ]
  },
  {
   "cell_type": "code",
   "execution_count": 25,
   "id": "copyrighted-grounds",
   "metadata": {},
   "outputs": [
    {
     "name": "stdout",
     "output_type": "stream",
     "text": [
      "    eps  Score  Clusters  Outliers\n",
      "0  0.05    NaN      12.0     118.0\n",
      "1  0.10    1.0       2.0       3.0\n",
      "2  0.15    1.0       2.0       0.0\n",
      "3  0.20    NaN       1.0       0.0\n"
     ]
    }
   ],
   "source": [
    "from sklearn.cluster import DBSCAN\n",
    "from sklearn.metrics import accuracy_score\n",
    "\n",
    "def find_permutation(n_clusters, real_labels, labels):\n",
    "    permutation = []\n",
    "    for i in range(n_clusters): \n",
    "        idx = labels == i\n",
    "        new_label = scipy.stats.mode(real_labels[idx])[0][0]\n",
    "        permutation.append(new_label)\n",
    "    return permutation\n",
    "\n",
    "def nonconvex_clusters():\n",
    "    df = pd.read_csv(\"C:/Users/blake/OneDrive/Desktop/University of Delaware/Spring 2021/CISC 367/Project Folder/upgraded-octo-memory/Machine Learning/data.tsv.txt\", sep=\"\\t\")\n",
    "    X = df[[\"X1\", \"X2\"]]\n",
    "    y = df[\"y\"]\n",
    "    results = []\n",
    "    for e in np.arange(.05, .2, .05): \n",
    "        model = DBSCAN(e)\n",
    "        model.fit(X)\n",
    "        idx = model.labels_ == -1\n",
    "        outliers = np.sum(idx)\n",
    "        clusters = max(model.labels_) + 1\n",
    "        if clusters == len(y.unique()): \n",
    "            permutation = find_permutation(clusters, y, model.labels_)\n",
    "            score = accuracy_score(y[~idx], [permutation[label] for label in model.labels_[~idx]])\n",
    "        else:\n",
    "            score = np.nan\n",
    "        results.append([e, score, clusters, outliers])\n",
    "    return pd.DataFrame(data = results, columns = [\"eps\", \"Score\", \"Clusters\", \"Outliers\"], dtype = \"float64\") \n",
    "\n",
    "def main(): \n",
    "    print(nonconvex_clusters())\n",
    "\n",
    "if __name__ == \"__main__\": \n",
    "    main()"
   ]
  },
  {
   "cell_type": "code",
   "execution_count": 27,
   "id": "heavy-still",
   "metadata": {},
   "outputs": [
    {
     "name": "stdout",
     "output_type": "stream",
     "text": [
      "['setosa' 'versicolor' 'virginica']\n"
     ]
    },
    {
     "data": {
      "image/png": "[encoded data removed]",
      "text/plain": [
       "<Figure size 720x720 with 4 Axes>"
      ]
     },
     "metadata": {},
     "output_type": "display_data"
    }
   ],
   "source": [
    "import seaborn as sns; sns.set(color_codes=True)\n",
    "iris = sns.load_dataset(\"iris\")\n",
    "species = iris.pop(\"species\")   # Remove the species column\n",
    "print(species.unique())         # The samples seems to be from these three species\n",
    "sns.clustermap(iris, method=\"ward\", col_cluster=False, cbar_kws={'label': 'centimeters'}); # Cluster only the rows"
   ]
  },
  {
   "cell_type": "markdown",
   "id": "accepted-maker",
   "metadata": {},
   "source": [
    "## Exercise 7: Binding Sites\n",
    "\n",
    "Download the [`data.seq` file](https://raw.githubusercontent.com/AnkS4/hy-data-analysis-with-python-2020/master/part06-e07_binding_sites/src/data.seq); note that it is just a plain textual data file, despite the fancy extension.\n",
    "\n",
    "They ask you to define `get_features_and_labels` to accept a filename, even though there's only one test file. Up to you if you want to hardcode the file path in or make it a flexible function.\n",
    "\n",
    "There are multiple parts here, and they ask you to compare the euclidean and hamming distance. I think it's worth thinking about - if you don't get what they mean, do ask!"
   ]
  },
  {
   "cell_type": "code",
   "execution_count": 33,
   "id": "widespread-municipality",
   "metadata": {},
   "outputs": [
    {
     "name": "stdout",
     "output_type": "stream",
     "text": [
      "Accuracy score with Euclidean affinity is 0.9895\n",
      "Accuracy score with Hamming affinity is 0.9985\n"
     ]
    }
   ],
   "source": [
    "from sklearn.cluster import AgglomerativeClustering\n",
    "from sklearn.metrics import pairwise_distances\n",
    "\n",
    "from matplotlib import pyplot as plt\n",
    "\n",
    "import scipy.spatial as sp\n",
    "import scipy.cluster.hierarchy as hc\n",
    "\n",
    "# The `find_permutation` function provided in the text, for your convenience\n",
    "def find_permutation(n_clusters, real_labels, labels):\n",
    "    permutation=[]\n",
    "    for i in range(n_clusters):\n",
    "        idx = labels == i\n",
    "        # Choose the most common label among data points in the cluster\n",
    "        new_label=scipy.stats.mode(real_labels[idx])[0][0]\n",
    "        permutation.append(new_label)\n",
    "    return permutation\n",
    "\n",
    "def toint(x):\n",
    "    return 'ACGT'.find(x)\n",
    "\n",
    "def get_features_and_labels(filename):\n",
    "    df = pd.read_csv(filename, sep=\"\\t\")\n",
    "    X = [[toint(j) for j in i] for i in df[\"X\"]]\n",
    "    return (np.array(X), df.y)\n",
    "\n",
    "def plot(distances, method='average', affinity='euclidean'):\n",
    "    mylinkage = hc.linkage(sp.distance.squareform(distances), method=method)\n",
    "    g=sns.clustermap(distances, row_linkage=mylinkage, col_linkage=mylinkage )\n",
    "    g.fig.suptitle(f\"Hierarchical clustering using {method} linkage and {affinity} affinity\")\n",
    "    plt.show()\n",
    "    \n",
    "def cluster_euclidean(filename):\n",
    "    X, y = get_features_and_labels(filename)\n",
    "    model = AgglomerativeClustering(linkage=\"average\", affinity=\"euclidean\").fit(X)\n",
    "    permutation = find_permutation(2, y, model.labels_)\n",
    "    return accuracy_score(y, [permutation[label] for label in model.labels_])\n",
    "\n",
    "def cluster_hamming(filename):\n",
    "    X, y = get_features_and_labels(filename)\n",
    "    d = pairwise_distances(X, metric=\"hamming\")\n",
    "    model = AgglomerativeClustering(linkage=\"average\", affinity=\"precomputed\").fit(d)\n",
    "    permutation = find_permutation(2, y, model.labels_)\n",
    "    return accuracy_score(y, [permutation[label] for label in model.labels_])\n",
    "\n",
    "def main():\n",
    "    print(\"Accuracy score with Euclidean affinity is\", cluster_euclidean(\"C:/Users/blake/OneDrive/Desktop/University of Delaware/Spring 2021/CISC 367/Project Folder/upgraded-octo-memory/Machine Learning/data.seq.txt\"))\n",
    "    print(\"Accuracy score with Hamming affinity is\", cluster_hamming(\"C:/Users/blake/OneDrive/Desktop/University of Delaware/Spring 2021/CISC 367/Project Folder/upgraded-octo-memory/Machine Learning/data.seq.txt\"))\n",
    "\n",
    "if __name__ == \"__main__\":\n",
    "    main()"
   ]
  },
  {
   "cell_type": "code",
   "execution_count": null,
   "id": "together-lounge",
   "metadata": {},
   "outputs": [],
   "source": []
  }
 ],
 "metadata": {
  "kernelspec": {
   "display_name": "Python 3",
   "language": "python",
   "name": "python3"
  },
  "language_info": {
   "codemirror_mode": {
    "name": "ipython",
    "version": 3
   },
   "file_extension": ".py",
   "mimetype": "text/x-python",
   "name": "python",
   "nbconvert_exporter": "python",
   "pygments_lexer": "ipython3",
   "version": "3.9.4"
  }
 },
 "nbformat": 4,
 "nbformat_minor": 5
}

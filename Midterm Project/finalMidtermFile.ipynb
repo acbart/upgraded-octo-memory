{
 "cells": [
  {
   "cell_type": "markdown",
   "id": "exempt-collectible",
   "metadata": {},
   "source": [
    "# **Sexism in \"Survivor\"**"
   ]
  },
  {
   "cell_type": "markdown",
   "id": "alternative-taiwan",
   "metadata": {},
   "source": [
    "Let's talk about my favorite television show, Survivor! It's been around for 20 years, it has 40 seasons, and yes, it is still going on (Season 41 is being filmed as I type this!). For those who do not know, Survivor is a reality television show and social strategy game where they put between 16-20 strangers (well, usually strangers) on an island (or desert, rainforest, etc.) and they have to live with each other in their own little society. The fun part about Survivor is they get to vote people off of their tribe and do not live with them anymore. They start off split into (2-4) tribes and have challenges, with the losing tribe going to \"Tribal Council\", the place where they vote someone off. Eventually, they merge into 1 tribe and keep voting people off until there are only 2 or 3 people left. The people who have been voted off make up the jury and they vote for someone in the final 2/3 to win the season. And that's a qick gist of Survivor!\n",
    "\n",
    "Now even though it is my favorite show, it does come with its problems. One of the main ones is an inequality between men and women in Survivor. This exists in both the game of Survivor, in terms of how fair it is for men versus women, as well as in the show of Survivor, in how men versus women are portrayed on television. \n",
    "\n",
    "Also, there is a monumental distinction to make between the game of Survivor and the show of Survivor. The game of Survivor is what happens out there on the island and how the production behind the scenes controls the game, through different twists and such. While the show of Survivor is the product that we, as the viewer, see on television. The show is a product of what happens in the game (for that season) and is the result of cutting hundreds of hours of footage to display exactly what they want to show to the viewer. This distinction between the game and the show of Survivor is extremely important to clarify for this project.\n",
    "\n",
    "That distinction being made, there appears to be inherent sexism in many facets of the game of Survivor that benefit men. And in the show of Survivor that we watch, men are the ones who are more often given more screentime and are given more of a chance to explain their side of the narrative.\n",
    "\n",
    "Also, a note on what I mentioned about cutting hundreds of hours of footage and why that matters. Each season lasts 39 days and there are 13 or 14 episodes every season. So, on average, one 42 minute episode contains footage from about 3 days worth of gameplay, or 72 hours. And that is just counting 1 camera ... they have many, many cameras. So, the producers and editors have a boatlad of footage to use however they want to display their reality television characters. This means, not everything shown has to be entirely truthful or presented to us in the correct order that it happened. For example, they could get  clip of Jessica saying how annoying Phillip is on Day 20 and edit that to put it in the episode covering Day 10 and try to build up a (fake) storyline that Jessica wants to get Phillip out on Day 10. And this is the reality of reality television."
   ]
  },
  {
   "cell_type": "markdown",
   "id": "soviet-activity",
   "metadata": {},
   "source": [
    "## Why is this important?"
   ]
  },
  {
   "cell_type": "markdown",
   "id": "unique-interview",
   "metadata": {},
   "source": [
    "Survivor can often be viewed as a microcosm of society. As in, the disparity between men and women here in Survivor represents a bigger issue about society as whole. Most of the imbalances that exist in Survivor are because of their existence in society as a whole too, beyond just Survivor. As in, the way women are perceived compared to men in the real world translate to how their are perceived in the context of Survivor. So, when I dive into how women are portrayed on Survivor, that is relevant because it is connected to our pre-conceived beliefs of societal gender roles and has a much bigger impact than just on the game of Survivor. The data and information I will present in this project reflect some of the inherent bias in how we perceive men and women, at least in the more quantifiable ways. This will still be much more of a data-driven project, rather than a philosophical paper on gender roles, but it is important to draw the connection between sexism in Survivor and how that translates to sexism in real life.\n",
    "\n",
    "And the gender roles we see play out in Survivor can even have an impact on society. All 40 seasons of Survivor have pulled in millions of viewers, with [over 50 million in the finale of the first season](https://en.wikipedia.org/wiki/Survivor_(American_TV_series)) back in 2000, to a steady 7-8 million now. So, this is a show that has a [large influence on people](https://www.washingtonpost.com/news/arts-and-entertainment/wp/2015/05/29/survivor-changed-television-forever-and-it-still-endures-whats-the-secret/), [especially in American culture](https://www.theringer.com/tv/2020/5/12/21255075/survivor-legacy-40th-anniversary-reality-tv). The point is, people love Survivor (myself included!). And when people see men get rewarded and women get punished for more aggressive behavior in the game of Survivor, that builds up the narrative that it should be that way in society. This perpetuates the standard of men having power and being in higher-level positions more than women. Of course, there are many more factors beyond just Survivor, but with how large of a following it has, it definitely has an impact on society."
   ]
  },
  {
   "cell_type": "markdown",
   "id": "random-article",
   "metadata": {},
   "source": [
    "## Sexism in Society"
   ]
  },
  {
   "cell_type": "markdown",
   "id": "signal-guitar",
   "metadata": {},
   "source": [
    "Despite all the progress made in the past 100 or so years, sexism is still a prevalent issue in American society, especially in the workplace. Women experience some level of discrimination at work for their gender, with [42% of women](https://www.pewresearch.org/fact-tank/2017/12/14/gender-discrimination-comes-in-many-forms-for-todays-working-women/) reporting they have been discriminated against because of their gender. Discrimination comes in the form of women receiving less support from senior leaders than men, receiving unwanted sexual advances from men, and experiencing sexual harassment or abuse in the workplace. Sexism has become so interwoven into the environment of a workplace, that women come to understand it and expect it. [For example](https://www.smartcompany.com.au/people-human-resources/six-common-manifestations-everyday-sexism-work/), women might have to ask a male colleague to propose an idea at a meeting because they know a man's voice might have more volume (social volume, not just being loud) and be listened to more. Or it also comes in the form of asking for a manager and expecting to see a man, even when a woman greets you as the manager. These are just a couple common examples of how sexism exists and is perpetuated in society, specifically in a workplace setting. \n"
   ]
  },
  {
   "cell_type": "markdown",
   "id": "corrected-colors",
   "metadata": {},
   "source": [
    "## Research Questions"
   ]
  },
  {
   "cell_type": "markdown",
   "id": "impaired-coordination",
   "metadata": {},
   "source": [
    "- What is the distribution of hidden immunity idols (a hidden advantage in the game that players can find) found by gender? \n",
    "- What is the distribution of invidual immunity challenge wins by gender? \n",
    "- How many confessionals does each male winner have and how many does each female winner have? \n",
    "- How have men versus women faired in receiving votes (to win the season) at Final Tribal Council?"
   ]
  },
  {
   "cell_type": "markdown",
   "id": "contrary-oakland",
   "metadata": {},
   "source": [
    "## How do these questions relate to sexism in society?"
   ]
  },
  {
   "cell_type": "markdown",
   "id": "disciplinary-garbage",
   "metadata": {},
   "source": [
    "In Survivor, 2 or 3 players survive long enough to make it to the final tribal council, where the jury (the most recent 8 or so players that have been voted out) votes for who they think should win. Each jury member gets 1 vote and the player with the most votes wins the season. A jury member's reasoning for who he/she votes for really can be whatever that person wants. Often times, it comes down to perception of who played the \"best game\", which takes into account social relationships between players. As the game of Survivor has developed, jury members often base their decisions on who to vote for by considering who should get the credit for social and strategic moves that occur throughout the game. This is where the idea of [women getting less credit than men in the workplace](https://www.sciencedaily.com/releases/2017/12/171213130252.htm) really reflects itself in Survivor. Analyzing how men versus women are perceived in the final jury vote in Survivor quantifiably represents the potential disparity of credit or respect that women get compared to men in the real world, especially in the workplace. So, when we see women generally receiving less votes to win (at final tribal council), that can be representative of receiving less credit compared to men in a group setting in real life (beyond Survivor). The gender stereotypes that predicate that bias in Survivor are also existent in society, which is what makes the analysis of this question so relevant in today's world. \n",
    "\n",
    "Confessionals are one of the largest components of the show of Survivor. A typical episode of Survivor consists of a mix of confessionals, clips from life at each tribe camp, challenges, and tribal council. Confessionals are how players tell their side of the story to the audience, to give them more perspective on what is happening in the game. By the nature of the game, the winner of the season is around the whole season and is usually included in the episode to, in some sense, explain why he/she is doing this and to narrate along the way how he/she intend to keep going to win the game. This is relevant because seeing how many confessionals men winners versus women winners have can quantify how much of their story they get to tell. For example, if we see 100 confessionals from Rob, we get to see so much of what he was thinking every step of the game. But if we see only 15 confessionals from Miranda, we barely get to see what she is thinking and what her story is. This is relevant beyond Survivor because it represents a bigger issue of the world being [built for men](https://www.theguardian.com/lifeandstyle/2019/feb/23/truth-world-built-for-men-car-crashes). So many things in the world, like car safety mechanism measurements and police body armour for example, are designed for men. This happens because the perspective of men has been taken to represent humans as a whole. So, when a male winner gets to explain much more of his story in one season than a female winner gets to in another season, this symbolizes a bigger problem of the world being \"set up\" for men. This dichotomy of winning men versus winning women getting confessionals is of concern because it further perpetuates the narrative in life of being from a man's perspective by [several millions of viewers](https://en.wikipedia.org/wiki/Survivor_(American_TV_series)#U.S._television_ratings) of Survivor seeing more men tell the stories than women. And also with [mainly men behind the camera](https://www.truedorktimes.com/s40/recaps/bipoc-stats.htm) and production of the show, their willingness to portray more of men's stories further perpetuates this problem in society and enables it to continue. \n",
    "\n",
    "The distribution of hidden immunity idols and individual immunity challenge wins by gender are more directly linked to questioning the fairness of the game of Survivor specifically. But if there is an inequality here, that is still representative of an inequality in society. As in, men generally having an advantage when it comes to finding idols or winning challenges is symbolic of men having an advantage in the workplace. Specifically, [men have an easier time getting promotions](https://www.businessinsider.com/why-women-almost-never-become-ceo-2016-9) than women do in the corporate world. Women work in executive positions much less than men do, and for each higher level  position, a [lower percentage of women](https://i.insider.com/5e7d06081378e3047b15a975?width=700&format=jpeg&auto=webp) are working in it. With this structure of men already being in higher level positions more, and those same men being the ones to promote others to higher positions, this perpetuates the cycle of men being the ones in those CEO, VP, Manager roles. This is relevant to Survivor because both the corporate structure of America and these facets of the game of Survivor (idols and challenges) seem to historically benefit men. Which is why I want to analyze how men versus women have faired in finding idols and winning individual immunity challenges; because it represents another male-oriented system. \n",
    "**OPPORTUNITIES OF POWER FOR MEN**"
   ]
  },
  {
   "cell_type": "markdown",
   "id": "later-release",
   "metadata": {},
   "source": [
    "## Datasets I will use"
   ]
  },
  {
   "cell_type": "markdown",
   "id": "mysterious-letters",
   "metadata": {},
   "source": [
    "I have been collecting data on various topics in Survivor for the past few years and compiled them [in this spreadsheet](https://docs.google.com/spreadsheets/d/1Gb377DdGNfzct0Nt9BYMF-moLXcxFxhOnePBQhIJ73s/edit?usp=sharing). The pink tabs are the ones I will use for this project, which are \"Confessional Counts of Winners\", \"Idols Found\", \"Individual Immunity Wins (Season)\", \"Votes at Final Tribal Council\", and \"Final 4 Fire Making\". All of these will be used to answer the research questions \n",
    "\n",
    "A considerable amount of the data in that spreadsheet comes from my own knowledge and memory of having watched every season of Survivior and somehow remembering loads of minute details. While there is plenty of footage that is scrapped and does not make the final cut of the episodes of Survivor, this data is entirely based on concrete events that occur in the episodes that are aired on CBS. The number of confessionals by player, hidden immunity idols found, individual immunity challenges won, votes at final tribal council, and final 4 fire making challenge always occur within the aired episodes. I considered including individual reward challenges (another type of challenge besides immunity that occurs occasionally), but not all reward challenges are always aired in the episodes.\n",
    "\n",
    "The [Survivor Wiki](https://survivor.fandom.com/wiki/Main_Page) and [The True Dork Times](http://www.truedorktimes.com/survivor/boxscores/index.htm) were also resources I used to collect this data. The Survivor Wiki has data on every single season specifically, while the True Dork Times link has loads of different categories for neat Survivor statistics. On the Survivor Wiki, you can access any of the 40 seasons by clicking on the search bar and typing \"Survivor: *season name*\". So, you could type \"Survivor: Gabon\" if you want to find information about Season 17, Gabon. Then, on that page, you can scroll down and find loads of information about that season including the winner, the order people were voted out, the vote history, and more.\n",
    "\n",
    "The \"Individual Immunity Wins (Season)\" is also an intriguing category of data because it shows a disparity between men and women in a specific part of the game, the challenges, which happen every season. The purspose of this dataset being present is to see if challenges generally seem to lean towards men's skills more women's skills. [This page](https://www.truedorktimes.com/survivor/boxscores/indchw-season.htm) on The True Dork Times was particularly helpful for the challenge section.\n",
    "\n",
    "\n",
    "Another interesting piece of data I found is from [this \"Entertainment Weekly\" article](https://ew.com/tv/2019/10/16/survivor-island-of-the-idols-why-do-men-keep-winning/). There are 2 short paragraphs not far down in the article with compelling data about the gender gap in regards to jury votes to win the game. In that, in the past 14 seasons of Survivor, men have received many many more jury votes than women, even though there are fairly close to an even number of men and women that have appeared in a final tribal council in that span. I will go into more specific detail on these numbers in the data analysis section of this project. This article did not include a dataset directly, so I took this information, and made a tab in my aforementioned spreadsheet on Final Tribal Council votes. I also added the remainder of the seasons' Final Tribal Council stats to that spreadsheet. \n",
    "\n",
    "With each tab on the spreadsheet, I downloaded it as a .csv file, and read the file into pandas to create a dataset in Python. So, I will be using a total of 5 datasets."
   ]
  },
  {
   "cell_type": "markdown",
   "id": "least-speaker",
   "metadata": {},
   "source": [
    "## Let's start the Data Analysis"
   ]
  },
  {
   "cell_type": "code",
   "execution_count": 10,
   "id": "advance-sending",
   "metadata": {},
   "outputs": [],
   "source": [
    "import pandas as pd\n",
    "import numpy as np\n",
    "import seaborn as sns\n",
    "from matplotlib import pyplot as plt\n",
    "from scipy import stats\n",
    "\n",
    "\n",
    "## Reading all the inputted datasets\n",
    "idols = pd.read_csv('idols_found.csv', skiprows = [86,87,88,89,90], usecols = [0,1,2,3])\n",
    "ind_imm = pd.read_csv('individual_immunity.csv', header = 1, skiprows = [203,204,205,206,207,208,209,210], usecols = [1,2,3,4,5,6])\n",
    "f4fire = pd.read_csv('final_4_fire.csv', header = 1, usecols = [1,2,3,4,5,6])\n",
    "conf_winners = pd.read_csv('conf_counts_winners.csv', header = 1, usecols = [1,2,3,4,5])\n",
    "votes_FTC = pd.read_csv('votes_Final_Tribal_Council.csv', header = 1, skiprows = [82,83,84], usecols = [1,2,3,4,5,6,7,8])\n",
    "## I had to strategically use the header, skiprows, and usecols parameters to trim specific sections of each spreadsheet"
   ]
  },
  {
   "cell_type": "code",
   "execution_count": 13,
   "id": "coupled-mainland",
   "metadata": {},
   "outputs": [],
   "source": [
    "## Change \"Male\" and \"Female\" to \"Man\" and \"Woman\"\n",
    "ind_imm = ind_imm.replace(to_replace={'Male', 'Female'}, value={'Man', 'Woman'})\n",
    "\n",
    "## Change \"Sex\" to \"Gender\"\n",
    "ind_imm = ind_imm.rename(columns={\"Sex\": \" Gender\"})\n",
    "\n",
    "## Change \"Count\" to \"Count (Women)\"\n",
    "ind_imm = ind_imm.rename(columns={\"Count\": \"Count (Women)\"})\n",
    "## Actually I like \"Women Count\" as a better name\n",
    "ind_imm = ind_imm.rename(columns={\"Count (Women)\": \"Women Count\"})\n",
    "\n",
    "\n",
    "## Change \"M/F\" to \"M/W\" for Man/Woman instead of Male/Female\n",
    "f4fire = f4fire.rename(columns={\"M/F\": \"M/W\"})\n",
    "## Actually \"M/W\" kind of looks weird. So I'll do \"Man/Woman\" instead\n",
    "f4fire = f4fire.rename(columns={\"M/W\": \"Man/Woman\"})\n",
    "\n",
    "## Change \"F\" for \"Female\" to \"W\" for \"Woman\"\n",
    "f4fire = f4fire.replace(to_replace={'W'}, value={'Woman'})\n",
    "## Actually, just make \"M\" and \"W\" into \"Man\" and \"Woman\" respectively\n",
    "f4fire = f4fire.replace(to_replace={'W'}, value={'Woman'})\n",
    "f4fire = f4fire.replace(to_replace={'M'}, value={'Man'})\n",
    "\n",
    "\n",
    "## Change \"M/F\" to \"M/W\" for Man/Woman instead of Male/Female\n",
    "idols = idols.rename(columns={\"M/F\": \"M/W\"})\n",
    "## And then change that to \"M/W Count\"\n",
    "idols = idols.rename(columns={\"M/W\": \"M/W Count\"})\n",
    "\n",
    "\n",
    "## Need to add a Man/Woman column to the conf_winners dataset\n",
    "## There are more Men that have won than Women, so it is easier to make them all \"Man\" and change some to \"Woman\"\n",
    "conf_winners[\"Gender\"] = \"Man\"\n",
    "## Make an array of the indices of the Women winners\n",
    "women_indices = np.array([8,14,15,16,17,24,26,28,29,32,33,34,36,37,39])\n",
    "## Change those indices to have a Gender of \"Woman\"\n",
    "conf_winners.loc[women_indices, \"Gender\"] = \"Woman\"\n",
    "\n",
    "## Change the Natalie's to \"Natalie A\" and \"Natalie W\". They are different people.\n",
    "conf_winners.loc[24, 'Winner'] = \"Natalie A\"\n",
    "conf_winners.loc[39, 'Winner'] = \"Natalie W\"\n",
    "\n",
    "\n",
    "## For some reason, the winner of Season 4, Vecepia, had the same number of votes as 2nd place in this dataset, which was not right\n",
    "votes_FTC.loc[7, 'First'] = 4"
   ]
  },
  {
   "cell_type": "markdown",
   "id": "pointed-nevada",
   "metadata": {},
   "source": [
    "### Let's start with the Winner Confessionals Dataset"
   ]
  },
  {
   "cell_type": "markdown",
   "id": "fitting-mason",
   "metadata": {},
   "source": [
    "add context on what a confessional is here?"
   ]
  },
  {
   "cell_type": "code",
   "execution_count": 19,
   "id": "engaged-threat",
   "metadata": {},
   "outputs": [
    {
     "name": "stdout",
     "output_type": "stream",
     "text": [
      "Number of Men winners: 25\n",
      "Number of Women winners: 15\n"
     ]
    }
   ],
   "source": [
    "women_winners = conf_winners.groupby('Gender').size()[\"Woman\"] ## number of women winners\n",
    "men_winners = conf_winners.groupby('Gender').size()[\"Man\"] ## number of men winners\n",
    "total_women_conf = conf_winners.groupby('Gender')['# of Confessionals'].sum()[\"Woman\"] ## total confessionals by winning women\n",
    "total_men_conf = conf_winners.groupby('Gender')['# of Confessionals'].sum()[\"Man\"] ## total confessionals by winning men\n",
    "avg_women_conf = conf_winners.groupby('Gender')['# of Confessionals'].mean()[\"Woman\"] ## average confessionals by winning women\n",
    "avg_men_conf = conf_winners.groupby('Gender')['# of Confessionals'].mean()[\"Man\"] ## average confessionals by winning men\n",
    "\n",
    "\n",
    "print(\"Number of Men winners:\", men_winners)\n",
    "print(\"Number of Women winners:\", women_winners)"
   ]
  },
  {
   "cell_type": "markdown",
   "id": "vital-visit",
   "metadata": {},
   "source": [
    "Out of 40 total seasons of Survivor, more men have won (25) than women (15)."
   ]
  },
  {
   "cell_type": "code",
   "execution_count": 11,
   "id": "ignored-notice",
   "metadata": {},
   "outputs": [
    {
     "data": {
      "image/png": "[encoded data removed]",
      "text/plain": [
       "<Figure size 432x288 with 1 Axes>"
      ]
     },
     "metadata": {
      "needs_background": "light"
     },
     "output_type": "display_data"
    }
   ],
   "source": [
    "conf_counts = np.array(conf_winners['# of Confessionals'])\n",
    "plt.hist(conf_counts, bins = 10, color = \"green\")\n",
    "plt.xticks([i for i in range (20,101,10)])\n",
    "plt.show()"
   ]
  },
  {
   "cell_type": "markdown",
   "id": "delayed-player",
   "metadata": {},
   "source": [
    "From the histogram of all confessional counts of winners, we can see that the distribution is not normal. Also, a good amount of the values seem to be between 40-60, with a few values in the 90's. Note that all 3 of those values in the 90's are by men. We will go into a 5-number summary and a boxplot to look at men versus women's confessional numbers."
   ]
  },
  {
   "cell_type": "markdown",
   "id": "combined-facility",
   "metadata": {},
   "source": [
    "With the distribution of confessionals not being normally distributed, and the men having 2 large outliers that would scale up the mean significatly (Tony with 97 and Rob with 97), the median is a better way to compare men and women's confessional counts."
   ]
  },
  {
   "cell_type": "code",
   "execution_count": 16,
   "id": "comprehensive-telescope",
   "metadata": {},
   "outputs": [
    {
     "name": "stdout",
     "output_type": "stream",
     "text": [
      "Median confessionals per season by Men winners: 59\n",
      "Median confessionals per season by Women winners: 43\n",
      "Difference between medians: 16\n",
      "Median confessional percent difference: 37.21 %\n"
     ]
    }
   ],
   "source": [
    "med_women_conf = conf_winners.groupby('Gender')['# of Confessionals'].median()[\"Woman\"] \n",
    "med_men_conf = conf_winners.groupby('Gender')['# of Confessionals'].median()[\"Man\"]\n",
    "\n",
    "\n",
    "print(\"Median confessionals per season by Men winners:\", med_men_conf)\n",
    "print(\"Median confessionals per season by Women winners:\", med_women_conf)\n",
    "print(\"Difference between medians:\", med_men_conf - med_women_conf) \n",
    "print(\"Median confessional percent difference:\", round((((med_men_conf/med_women_conf)-1)*100), 2), \"%\")"
   ]
  },
  {
   "cell_type": "markdown",
   "id": "confirmed-miami",
   "metadata": {},
   "source": [
    "Wow now this is something. On average by median, a man that wins a season gets 16 more confessionals than a woman that wins. Another way of putting it is that a man that wins gets 37.21% more confessionals than a woman that wins. That's a lot. For every 10 seconds a winning woman gets to tell of her story, a winning man gets close to 14 seconds. And in the grand scheme of a whole season, that becomes a considerable difference in who's perspective of the story is being told."
   ]
  },
  {
   "cell_type": "code",
   "execution_count": 20,
   "id": "attached-thomson",
   "metadata": {},
   "outputs": [
    {
     "data": {
      "text/html": [
       "<div>\n",
       "<style scoped>\n",
       "    .dataframe tbody tr th:only-of-type {\n",
       "        vertical-align: middle;\n",
       "    }\n",
       "\n",
       "    .dataframe tbody tr th {\n",
       "        vertical-align: top;\n",
       "    }\n",
       "\n",
       "    .dataframe thead th {\n",
       "        text-align: right;\n",
       "    }\n",
       "</style>\n",
       "<table border=\"1\" class=\"dataframe\">\n",
       "  <thead>\n",
       "    <tr style=\"text-align: right;\">\n",
       "      <th></th>\n",
       "      <th>count</th>\n",
       "      <th>mean</th>\n",
       "      <th>std</th>\n",
       "      <th>min</th>\n",
       "      <th>25%</th>\n",
       "      <th>50%</th>\n",
       "      <th>75%</th>\n",
       "      <th>max</th>\n",
       "    </tr>\n",
       "    <tr>\n",
       "      <th>Gender</th>\n",
       "      <th></th>\n",
       "      <th></th>\n",
       "      <th></th>\n",
       "      <th></th>\n",
       "      <th></th>\n",
       "      <th></th>\n",
       "      <th></th>\n",
       "      <th></th>\n",
       "    </tr>\n",
       "  </thead>\n",
       "  <tbody>\n",
       "    <tr>\n",
       "      <th>Man</th>\n",
       "      <td>25.0</td>\n",
       "      <td>59.36</td>\n",
       "      <td>18.891974</td>\n",
       "      <td>23.0</td>\n",
       "      <td>48.0</td>\n",
       "      <td>59.0</td>\n",
       "      <td>71.0</td>\n",
       "      <td>97.0</td>\n",
       "    </tr>\n",
       "    <tr>\n",
       "      <th>Woman</th>\n",
       "      <td>15.0</td>\n",
       "      <td>42.60</td>\n",
       "      <td>14.266845</td>\n",
       "      <td>15.0</td>\n",
       "      <td>34.5</td>\n",
       "      <td>43.0</td>\n",
       "      <td>53.5</td>\n",
       "      <td>69.0</td>\n",
       "    </tr>\n",
       "  </tbody>\n",
       "</table>\n",
       "</div>"
      ],
      "text/plain": [
       "        count   mean        std   min   25%   50%   75%   max\n",
       "Gender                                                       \n",
       "Man      25.0  59.36  18.891974  23.0  48.0  59.0  71.0  97.0\n",
       "Woman    15.0  42.60  14.266845  15.0  34.5  43.0  53.5  69.0"
      ]
     },
     "execution_count": 20,
     "metadata": {},
     "output_type": "execute_result"
    }
   ],
   "source": [
    "conf_winners.groupby('Gender')['# of Confessionals'].describe()"
   ]
  },
  {
   "cell_type": "markdown",
   "id": "paperback-chosen",
   "metadata": {},
   "source": [
    "This 5 number summary, plus frequency, mean, and standard deviation shows how men consistently have a considerable amount of more confessionals than women. But let's look at a boxplot of these numbers to see it more visually. "
   ]
  },
  {
   "cell_type": "code",
   "execution_count": 24,
   "id": "eleven-collection",
   "metadata": {},
   "outputs": [
    {
     "data": {
      "image/png": "[encoded data removed]",
      "text/plain": [
       "<Figure size 432x288 with 1 Axes>"
      ]
     },
     "metadata": {
      "needs_background": "light"
     },
     "output_type": "display_data"
    }
   ],
   "source": [
    "## Make array of confessional counts of women winners\n",
    "women_array = np.array(conf_winners.loc[women_indices, \"# of Confessionals\"])\n",
    "\n",
    "## Make array of confessional counts of men winners\n",
    "men_indices = np.array([0,1,2,3,4,5,6,7,9,10,11,12,13,18,19,20,21,22,23,25,30,31,35])\n",
    "men_array = np.array(conf_winners.loc[men_indices, \"# of Confessionals\"])\n",
    "\n",
    "all_arrays = [women_array, men_array]\n",
    "\n",
    "sns.boxplot(data = all_arrays, palette = ['pink', 'dodgerblue']).set(xlabel='Gender', ylabel='# of Confessionals')\n",
    "plt.show()"
   ]
  },
  {
   "cell_type": "markdown",
   "id": "significant-girlfriend",
   "metadata": {},
   "source": [
    "The boxplot for confessionals by winning men (the blue one on the right) is generally much higher than the boxplot for confessionals by winning women. There is not even much overlap between the interqaurtile ranges for men and women, with the Q1 for men at 48 and the Q3 for women at 53.5. So, we can see graphically that men who win generally get more confessionals than women who win and it is by a significant margin."
   ]
  },
  {
   "cell_type": "code",
   "execution_count": 30,
   "id": "varied-japanese",
   "metadata": {},
   "outputs": [
    {
     "name": "stdout",
     "output_type": "stream",
     "text": [
      "Gender\n",
      "Man      13\n",
      "Woman     2\n",
      "Name: Most in the Season?, dtype: int64 \n",
      "\n",
      "Percent of Men winners with most confessionals in the season: 52.0 %\n",
      "Percent of Women winners with most confessionals in the season: 13.33 %\n"
     ]
    }
   ],
   "source": [
    "men_most_conf = conf_winners.groupby('Gender')['Most in the Season?'].sum()[\"Man\"]\n",
    "women_most_conf = conf_winners.groupby('Gender')['Most in the Season?'].sum()[\"Woman\"]\n",
    "total_most_conf = conf_winners.groupby('Gender')['Most in the Season?'].sum()\n",
    "print(total_most_conf, \"\\n\")\n",
    "\n",
    "\n",
    "men_percent_most_conf = (men_most_conf / men_winners) * 100\n",
    "women_percent_most_conf = round((women_most_conf / women_winners) * 100, 2)\n",
    "print(\"Percent of Men winners with most confessionals in the season:\", men_percent_most_conf, \"%\")\n",
    "print(\"Percent of Women winners with most confessionals in the season:\", women_percent_most_conf, \"%\")"
   ]
  },
  {
   "cell_type": "markdown",
   "id": "challenging-scout",
   "metadata": {},
   "source": [
    "Another way to put it is that 52% of men who win have the most confessionals in their season, while only 13.33% of women who win have the most in their season. Men who win are given a much larger piece of the narrative and get to tell their story more."
   ]
  },
  {
   "cell_type": "markdown",
   "id": "becoming-singles",
   "metadata": {},
   "source": [
    "### Now let's find trends in the Idols Found dataset"
   ]
  },
  {
   "cell_type": "code",
   "execution_count": 31,
   "id": "returning-shopping",
   "metadata": {},
   "outputs": [
    {
     "name": "stdout",
     "output_type": "stream",
     "text": [
      "Number of Idols found per season: 4.23\n",
      "Total number of Idols found: 127\n",
      "Number of idols found by men: 90\n",
      "Number of idols found by women: 37\n"
     ]
    }
   ],
   "source": [
    "total_idols = idols['# of Idols Found'].sum()\n",
    "idols_per_season = round(total_idols / 30, 2) ## The hidden immunity idol was introduced in Season 11, so there have been 30 seasons with it\n",
    "print(\"Number of Idols found per season:\", idols_per_season)\n",
    "print(\"Total number of Idols found:\", total_idols)\n",
    "\n",
    "\n",
    "women_idols = idols['M/W Count'].sum()\n",
    "men_idols = total_idols - women_idols\n",
    "print(\"Number of idols found by men:\", men_idols)\n",
    "print(\"Number of idols found by women:\", women_idols)"
   ]
  },
  {
   "cell_type": "markdown",
   "id": "living-lebanon",
   "metadata": {},
   "source": [
    "There are about 4.23 hidden immunity idols found per season. This number helps set up some context for later numbers. \n",
    "We also see that men find many more idols (90) than women (37), by a gigantic margin. "
   ]
  },
  {
   "cell_type": "code",
   "execution_count": 34,
   "id": "greek-batch",
   "metadata": {},
   "outputs": [
    {
     "data": {
      "image/png": "[encoded data removed]",
      "text/plain": [
       "<Figure size 360x360 with 1 Axes>"
      ]
     },
     "metadata": {},
     "output_type": "display_data"
    }
   ],
   "source": [
    "men_idols_percent = round((men_idols / total_idols)*100, 2)\n",
    "women_idols_percent = round((women_idols / total_idols)*100, 2)\n",
    "\n",
    "idols_pie_data = [men_idols_percent, women_idols_percent]\n",
    "idols_pie_df = pd.DataFrame(idols_pie_data, index = ['Men', 'Women'], columns = ['% of Idols Found'])\n",
    "idols_pie_df.plot.pie(y='% of Idols Found', colors=['dodgerblue', 'pink'], figsize=(5, 5), title=\"Distribution of Idols found by Gender\", autopct='%1.1f%%', fontsize=20)\n",
    "plt.show()"
   ]
  },
  {
   "cell_type": "markdown",
   "id": "approximate-liberty",
   "metadata": {},
   "source": [
    "Men have found just under 71% of all hidden immunity idols while women have only found 29%. This is a large difference considering there have been over 100 idols found. "
   ]
  },
  {
   "cell_type": "code",
   "execution_count": 36,
   "id": "separated-sense",
   "metadata": {},
   "outputs": [
    {
     "name": "stdout",
     "output_type": "stream",
     "text": [
      "Idols found by Men for every idol found by a Woman:  2.43\n"
     ]
    }
   ],
   "source": [
    "men_idols_per_woman = round(men_idols / women_idols, 2)\n",
    "print(\"Idols found by Men for every idol found by a Woman: \", men_idols_per_woman)"
   ]
  },
  {
   "cell_type": "markdown",
   "id": "appropriate-evaluation",
   "metadata": {},
   "source": [
    "For every 1 idol a woman finds, a man finds about 2.43 idols on average. That is a huge disparity and men clearly have an advantage when it comes to finding hidden immunity idols. \n",
    "\n",
    "So when there are on average 4.23 idols found per season, men might find 3 or 4 while women find 1 or 2 (on average).\n",
    "\n",
    "But let's do a statistical test to see if these numbers are statistically significant. We can do a binomial test with p=.5, n=127, and # of successes = 90. This represents the 90 idols men have found, out of 127 total, and if that is significantly beyond an even 50/50 probability of a man and woman having the same odds of finding an idol. And the significance value = .05"
   ]
  },
  {
   "cell_type": "code",
   "execution_count": 37,
   "id": "handed-saturday",
   "metadata": {},
   "outputs": [
    {
     "data": {
      "text/plain": [
       "2.872030486807263e-06"
      ]
     },
     "execution_count": 37,
     "metadata": {},
     "output_type": "execute_result"
    }
   ],
   "source": [
    "stats.binom_test(90, n=127, p=0.5)"
   ]
  },
  {
   "cell_type": "markdown",
   "id": "executed-completion",
   "metadata": {},
   "source": [
    "We can see that if the probability was 50% for men to find an idol, then it is almost impossible for men to find this many idols. This is well under the significance value of .05, so we can conclude this is statistically significant. As in, the number of idols men have actually found is well beyond men and women each having an even 50% chance of finding an idol. So we can see that this is not equal and men have a significant advantage in finding hidden immunity idols.  "
   ]
  },
  {
   "cell_type": "markdown",
   "id": "sufficient-creek",
   "metadata": {},
   "source": [
    "### Let's also look at trends in the Individual Immunity Challenge Wins dataset"
   ]
  },
  {
   "cell_type": "code",
   "execution_count": 38,
   "id": "dressed-phoenix",
   "metadata": {},
   "outputs": [
    {
     "name": "stdout",
     "output_type": "stream",
     "text": [
      "Number of Individual Immunity wins per season: 8.65\n",
      "Total number of Individual Immunity wins: 346\n",
      "Total Individual Immunity wins by Men: 215\n",
      "Total Individual Immunity wins by Women: 131\n"
     ]
    }
   ],
   "source": [
    "total_ind_imm = ind_imm['# of Immunity Challenges Won'].sum()\n",
    "ind_imm_per_season = total_ind_imm / 40 ## There have been individual immunity challenges in all 40 seasons of Survivor\n",
    "print(\"Number of Individual Immunity wins per season:\", ind_imm_per_season)\n",
    "print(\"Total number of Individual Immunity wins:\", total_ind_imm)\n",
    "\n",
    "\n",
    "women_ind_imm = ind_imm['Women Count'].sum()\n",
    "men_ind_imm = total_ind_imm - women_ind_imm\n",
    "print(\"Total Individual Immunity wins by Men:\", men_ind_imm)\n",
    "print(\"Total Individual Immunity wins by Women:\", women_ind_imm)"
   ]
  },
  {
   "cell_type": "markdown",
   "id": "spread-processing",
   "metadata": {},
   "source": [
    "Men have won a total of 215 individual immunity challenges throughout the history of the show while women have won 131, which is far less. "
   ]
  },
  {
   "cell_type": "code",
   "execution_count": 40,
   "id": "assumed-force",
   "metadata": {},
   "outputs": [
    {
     "name": "stdout",
     "output_type": "stream",
     "text": [
      "Average Individual Immunity wins by Men per season: 5.375\n",
      "Average Individual Immunity wins by Women per season: 3.275\n"
     ]
    }
   ],
   "source": [
    "men_indimm_avg = men_ind_imm / 40\n",
    "women_indimm_avg = women_ind_imm / 40\n",
    "print(\"Average Individual Immunity wins by Men per season:\", men_indimm_avg)\n",
    "print(\"Average Individual Immunity wins by Women per season:\", women_indimm_avg)"
   ]
  },
  {
   "cell_type": "code",
   "execution_count": 41,
   "id": "neutral-nepal",
   "metadata": {},
   "outputs": [
    {
     "data": {
      "image/png": "[encoded data removed]",
      "text/plain": [
       "<Figure size 360x360 with 1 Axes>"
      ]
     },
     "metadata": {},
     "output_type": "display_data"
    }
   ],
   "source": [
    "men_indimm_percent = round(men_ind_imm / total_ind_imm, 2)\n",
    "women_indimm_percent = round(women_ind_imm / total_ind_imm, 2)\n",
    "indimm_pie_data = [men_ind_imm, women_ind_imm]\n",
    "indimm_pie_df = pd.DataFrame(indimm_pie_data, index = ['Men', 'Women'], columns = ['% of Ind Imm Challenges Won'])\n",
    "indimm_pie_df.plot.pie(y='% of Ind Imm Challenges Won', colors=['royalblue', 'lightcoral'], figsize=(5, 5), title=\"Distribution of Individual Immunity Wins by Gender\", autopct='%1.1f%%', fontsize=20)\n",
    "plt.show()\n",
    "## \"Ind Imm\" is short for \"Individual Immunity\""
   ]
  },
  {
   "cell_type": "markdown",
   "id": "strong-atmosphere",
   "metadata": {},
   "source": [
    "We can see that men win about 62.14% of individual immunity challenges, while women win about 37.86%. This seems to be well beyond an equal 50/50 odds, but let's do another binomial test for significance.\n",
    "\n",
    "Similar to the binomial test for the Idols, we will set p=.5, n=346, and # of success = 215 with a significance level of .05. These represent 50% odds of a man winning a challenge, the 346 total individual immunity challenge wins, and the 215 wins by men. So let's find the probability of men winning that many challenges. "
   ]
  },
  {
   "cell_type": "code",
   "execution_count": 42,
   "id": "joined-howard",
   "metadata": {},
   "outputs": [
    {
     "data": {
      "text/plain": [
       "7.364729817165011e-06"
      ]
     },
     "execution_count": 42,
     "metadata": {},
     "output_type": "execute_result"
    }
   ],
   "source": [
    "stats.binom_test(215, n=346, p=0.5)"
   ]
  },
  {
   "cell_type": "markdown",
   "id": "handed-surfing",
   "metadata": {},
   "source": [
    "This probabiliy is far below our significance level of .05, which means men have won significantly more challenges than women. Which means the odds of winning a challenge for men are well above 50%. So, this is another category of the game where men have a noticeable advantage over women."
   ]
  },
  {
   "cell_type": "markdown",
   "id": "obvious-simpson",
   "metadata": {},
   "source": [
    "When men are finding significantly more idols than women and are winning considerably more challenges than women, these are more opportunities of power in the game of Survivor that are going to men. When a player plays an idol or possesses the immunity necklace (from winning an individual immunity challenge), that player is safe from receiving any votes for elimination. So, men having these advantages in the game directly helps them survive longer and gives them a higher chance to make it to Final Tribal Council, which is where the jury votes on the last 2/3 players remaining on who should win the game."
   ]
  },
  {
   "cell_type": "markdown",
   "id": "korean-arlington",
   "metadata": {},
   "source": [
    "### Let's look at the breakdown of votes, by gender, at Final Tribal Council \n",
    "Note: In this section, \"FTC\" is a shortened written version of \"Final Tribal Council\""
   ]
  },
  {
   "cell_type": "code",
   "execution_count": 45,
   "id": "royal-comparative",
   "metadata": {},
   "outputs": [
    {
     "name": "stdout",
     "output_type": "stream",
     "text": [
      "FTC votes for Men: 212\n",
      "FTC votes for Women: 127\n",
      "Number of Men to appear in a FTC: 54\n",
      "Number of Women to appear in a FTC: 51\n"
     ]
    }
   ],
   "source": [
    "men_votes = int(votes_FTC['Total Votes for Men'].sum())\n",
    "women_votes = int(votes_FTC['Total Votes for Women'].sum())\n",
    "print(\"FTC votes for Men:\",  men_votes)\n",
    "print(\"FTC votes for Women:\", women_votes)\n",
    "\n",
    "\n",
    "total_votes = men_votes + women_votes\n",
    "men_FTC = int(votes_FTC['# of Men'].sum()) ## total number of men to appear in Final Tribal Council (FTC)\n",
    "women_FTC = int(votes_FTC['# of Women'].sum()) ## total number of women to appear in FTC\n",
    "print(\"Number of Men to appear in a FTC:\",  men_FTC)\n",
    "print(\"Number of Women to appear in a FTC:\", women_FTC)\n",
    "## By \"appear\", that is meant as appear as a finalist, who is eligible to receive votes to win the game, not appear as a jury member"
   ]
  },
  {
   "cell_type": "markdown",
   "id": "driven-influence",
   "metadata": {},
   "source": [
    "In the history of the show, men have received 212 votes to win at a final tribal council, while women have only received 127. Despite there being almost the same amount of men (54) and women (51) to appear in a FTC, men have 85 more FTC votes to win than women do."
   ]
  },
  {
   "cell_type": "code",
   "execution_count": 48,
   "id": "chemical-relief",
   "metadata": {},
   "outputs": [
    {
     "name": "stdout",
     "output_type": "stream",
     "text": [
      "Average FTC votes for Men each season: 5.3\n",
      "Average FTC votes for Women each season 3.17\n"
     ]
    }
   ],
   "source": [
    "votes_for_men_season = round(men_votes / 40, 2)\n",
    "votes_for_women_season = round(women_votes / 40, 2)\n",
    "print(\"Average FTC votes for Men each season:\",  votes_for_men_season)\n",
    "print(\"Average FTC votes for Women each season\", votes_for_women_season)"
   ]
  },
  {
   "cell_type": "markdown",
   "id": "executed-greek",
   "metadata": {},
   "source": [
    "On average, men receive a total of 5.3 jury votes to win, while women receive a total of 3.17 votes per season. As in, the average season has men receiving 2 more votes than women (total not individually). Granted with only 2 or 3 people appearing in FTC, there cannot be multiple men and multiple women in a FTC in the same season, but the point still stands that men get more votes on average than women, collectively. But let's look at the individual numbers."
   ]
  },
  {
   "cell_type": "code",
   "execution_count": 49,
   "id": "senior-enclosure",
   "metadata": {},
   "outputs": [
    {
     "name": "stdout",
     "output_type": "stream",
     "text": [
      "Average votes for a Man in FTC: 3.93\n",
      "Average votes for a Woman in FTC: 2.49\n"
     ]
    }
   ],
   "source": [
    "votes_per_man = round(men_votes / men_FTC, 2)\n",
    "votes_per_woman = round(women_votes / women_FTC, 2)\n",
    "print(\"Average votes for a Man in FTC:\",  votes_per_man)\n",
    "print(\"Average votes for a Woman in FTC:\", votes_per_woman)"
   ]
  },
  {
   "cell_type": "markdown",
   "id": "chronic-chain",
   "metadata": {},
   "source": [
    "Each man that appears in a FTC receives almost 4 jury votes on average, while each woman receives about 2.5 votes. That's a difference of 1.5 votes by gender, which is huge factor in a smaller jury of 7 or 8 people. "
   ]
  },
  {
   "cell_type": "code",
   "execution_count": 50,
   "id": "built-conjunction",
   "metadata": {},
   "outputs": [
    {
     "data": {
      "text/html": [
       "<div>\n",
       "<style scoped>\n",
       "    .dataframe tbody tr th:only-of-type {\n",
       "        vertical-align: middle;\n",
       "    }\n",
       "\n",
       "    .dataframe tbody tr th {\n",
       "        vertical-align: top;\n",
       "    }\n",
       "\n",
       "    .dataframe thead th {\n",
       "        text-align: right;\n",
       "    }\n",
       "</style>\n",
       "<table border=\"1\" class=\"dataframe\">\n",
       "  <thead>\n",
       "    <tr style=\"text-align: right;\">\n",
       "      <th></th>\n",
       "      <th>Total Votes for Men</th>\n",
       "      <th>Total Votes for Women</th>\n",
       "    </tr>\n",
       "  </thead>\n",
       "  <tbody>\n",
       "    <tr>\n",
       "      <th>count</th>\n",
       "      <td>40.000000</td>\n",
       "      <td>40.000000</td>\n",
       "    </tr>\n",
       "    <tr>\n",
       "      <th>mean</th>\n",
       "      <td>5.300000</td>\n",
       "      <td>3.175000</td>\n",
       "    </tr>\n",
       "    <tr>\n",
       "      <th>std</th>\n",
       "      <td>3.962646</td>\n",
       "      <td>3.185605</td>\n",
       "    </tr>\n",
       "    <tr>\n",
       "      <th>min</th>\n",
       "      <td>0.000000</td>\n",
       "      <td>0.000000</td>\n",
       "    </tr>\n",
       "    <tr>\n",
       "      <th>25%</th>\n",
       "      <td>1.750000</td>\n",
       "      <td>0.000000</td>\n",
       "    </tr>\n",
       "    <tr>\n",
       "      <th>50%</th>\n",
       "      <td>5.000000</td>\n",
       "      <td>2.000000</td>\n",
       "    </tr>\n",
       "    <tr>\n",
       "      <th>75%</th>\n",
       "      <td>9.000000</td>\n",
       "      <td>7.000000</td>\n",
       "    </tr>\n",
       "    <tr>\n",
       "      <th>max</th>\n",
       "      <td>13.000000</td>\n",
       "      <td>9.000000</td>\n",
       "    </tr>\n",
       "  </tbody>\n",
       "</table>\n",
       "</div>"
      ],
      "text/plain": [
       "       Total Votes for Men  Total Votes for Women\n",
       "count            40.000000              40.000000\n",
       "mean              5.300000               3.175000\n",
       "std               3.962646               3.185605\n",
       "min               0.000000               0.000000\n",
       "25%               1.750000               0.000000\n",
       "50%               5.000000               2.000000\n",
       "75%               9.000000               7.000000\n",
       "max              13.000000               9.000000"
      ]
     },
     "execution_count": 50,
     "metadata": {},
     "output_type": "execute_result"
    }
   ],
   "source": [
    "votes_FTC[['Total Votes for Men', 'Total Votes for Women']].describe()"
   ]
  },
  {
   "cell_type": "markdown",
   "id": "possible-salon",
   "metadata": {},
   "source": [
    "Here is a 5-number summary, plus count, mean, and standard deviation of the 2 columns of interest. We can see in all but the min, the men get more votes at a FTC. And the min is only equal because there has been at least one man that received 0 votes and at least one woman that received 0 votes."
   ]
  },
  {
   "cell_type": "code",
   "execution_count": 51,
   "id": "ecological-startup",
   "metadata": {},
   "outputs": [
    {
     "data": {
      "image/png": "[encoded data removed]",
      "text/plain": [
       "<Figure size 432x288 with 1 Axes>"
      ]
     },
     "metadata": {
      "needs_background": "light"
     },
     "output_type": "display_data"
    }
   ],
   "source": [
    "votes_FTC.boxplot(column=['Total Votes for Men', 'Total Votes for Women'])\n",
    "plt.show()"
   ]
  },
  {
   "cell_type": "markdown",
   "id": "final-geology",
   "metadata": {},
   "source": [
    "There is an interesting trend of women getting 3rd place and receiving 0 votes. There are enough 0-vote-finalist women to make the Q1 still at 0. Meanwhile, the Q1 for men is 1.75 because of less 0-vote-finalists that are men. "
   ]
  },
  {
   "cell_type": "code",
   "execution_count": 52,
   "id": "sonic-singles",
   "metadata": {},
   "outputs": [
    {
     "data": {
      "image/png": "[encoded data removed]",
      "text/plain": [
       "<Figure size 432x288 with 1 Axes>"
      ]
     },
     "metadata": {},
     "output_type": "display_data"
    }
   ],
   "source": [
    "sns.set(style=\"whitegrid\")\n",
    "sns.barplot(x='Season', y = 'Total Votes for Men', data = votes_FTC, color = \"mediumblue\")\n",
    "plt.title('Final Tribal Council Votes for Men', size = 20)\n",
    "plt.xticks([i for i in range (4,44,5)])\n",
    "plt.ylim((0,14))\n",
    "plt.show()"
   ]
  },
  {
   "cell_type": "code",
   "execution_count": 56,
   "id": "reasonable-petite",
   "metadata": {},
   "outputs": [
    {
     "data": {
      "image/png": "[encoded data removed]",
      "text/plain": [
       "<Figure size 432x288 with 1 Axes>"
      ]
     },
     "metadata": {},
     "output_type": "display_data"
    }
   ],
   "source": [
    "sns.set(style=\"whitegrid\")\n",
    "sns.barplot(x='Season', y = 'Total Votes for Women', data = votes_FTC, color = \"tomato\")\n",
    "plt.title('Final Tribal Council Votes for Women', size = 20)\n",
    "plt.xticks([i for i in range (4,44,5)])\n",
    "plt.ylim((0,14))\n",
    "plt.show()"
   ]
  },
  {
   "cell_type": "markdown",
   "id": "lyric-telephone",
   "metadata": {},
   "source": [
    "This dataset is mainly compelling because of its comparison of men versus women. So, the seasons with all men or all women in a FTC are not totally reflective of this comparison. Because if there are all women competing in a FTC, then of course women will get all the votes and men will not get any, or vice versa. So, let's remove all rows with 0 men or 0 women at a FTC."
   ]
  },
  {
   "cell_type": "code",
   "execution_count": 57,
   "id": "desirable-johnson",
   "metadata": {},
   "outputs": [
    {
     "data": {
      "text/html": [
       "<div>\n",
       "<style scoped>\n",
       "    .dataframe tbody tr th:only-of-type {\n",
       "        vertical-align: middle;\n",
       "    }\n",
       "\n",
       "    .dataframe tbody tr th {\n",
       "        vertical-align: top;\n",
       "    }\n",
       "\n",
       "    .dataframe thead th {\n",
       "        text-align: right;\n",
       "    }\n",
       "</style>\n",
       "<table border=\"1\" class=\"dataframe\">\n",
       "  <thead>\n",
       "    <tr style=\"text-align: right;\">\n",
       "      <th></th>\n",
       "      <th>Total Votes for Men</th>\n",
       "      <th>Total Votes for Women</th>\n",
       "    </tr>\n",
       "  </thead>\n",
       "  <tbody>\n",
       "    <tr>\n",
       "      <th>count</th>\n",
       "      <td>30.000000</td>\n",
       "      <td>30.000000</td>\n",
       "    </tr>\n",
       "    <tr>\n",
       "      <th>mean</th>\n",
       "      <td>6.000000</td>\n",
       "      <td>2.700000</td>\n",
       "    </tr>\n",
       "    <tr>\n",
       "      <th>std</th>\n",
       "      <td>3.695291</td>\n",
       "      <td>2.781094</td>\n",
       "    </tr>\n",
       "    <tr>\n",
       "      <th>min</th>\n",
       "      <td>0.000000</td>\n",
       "      <td>0.000000</td>\n",
       "    </tr>\n",
       "    <tr>\n",
       "      <th>25%</th>\n",
       "      <td>3.000000</td>\n",
       "      <td>0.000000</td>\n",
       "    </tr>\n",
       "    <tr>\n",
       "      <th>50%</th>\n",
       "      <td>5.500000</td>\n",
       "      <td>2.000000</td>\n",
       "    </tr>\n",
       "    <tr>\n",
       "      <th>75%</th>\n",
       "      <td>9.000000</td>\n",
       "      <td>4.000000</td>\n",
       "    </tr>\n",
       "    <tr>\n",
       "      <th>max</th>\n",
       "      <td>13.000000</td>\n",
       "      <td>9.000000</td>\n",
       "    </tr>\n",
       "  </tbody>\n",
       "</table>\n",
       "</div>"
      ],
      "text/plain": [
       "       Total Votes for Men  Total Votes for Women\n",
       "count            30.000000              30.000000\n",
       "mean              6.000000               2.700000\n",
       "std               3.695291               2.781094\n",
       "min               0.000000               0.000000\n",
       "25%               3.000000               0.000000\n",
       "50%               5.500000               2.000000\n",
       "75%               9.000000               4.000000\n",
       "max              13.000000               9.000000"
      ]
     },
     "execution_count": 57,
     "metadata": {},
     "output_type": "execute_result"
    }
   ],
   "source": [
    "## Gives all the rows with 0 men or 0 women, which helps to make the list of the rows to remove\n",
    "votes_FTC[(votes_FTC['# of Men'] == 0) | (votes_FTC['# of Women'] == 0)]\n",
    "\n",
    "rows_to_drop = np.array([6,7,8,9,12,13,20,21,30,31,34,35,40,41,46,47,54,55,56,57])\n",
    "## Note: Because of the quirky indices of the rows, each season has 2 rows, hence why I have to always count 2 indices in the array\n",
    "votes_FTC = votes_FTC.drop(rows_to_drop)\n",
    "\n",
    "## Now we are looking at directly men versus women in FTC\n",
    "votes_FTC[['Total Votes for Men', 'Total Votes for Women']].describe()"
   ]
  },
  {
   "cell_type": "code",
   "execution_count": 59,
   "id": "occasional-mentor",
   "metadata": {},
   "outputs": [
    {
     "data": {
      "image/png": "[encoded data removed]",
      "text/plain": [
       "<Figure size 432x288 with 1 Axes>"
      ]
     },
     "metadata": {},
     "output_type": "display_data"
    }
   ],
   "source": [
    "votes_FTC.boxplot(column=['Total Votes for Men', 'Total Votes for Women'])\n",
    "plt.show()"
   ]
  },
  {
   "cell_type": "markdown",
   "id": "useful-listening",
   "metadata": {},
   "source": [
    "We can see that when the votes come from strictly men versus women situations, the disparity is even larger. There is almost no overlap between the Interquartile ranges (Q1 for men is 3 and Q3 for women is 4). \n",
    "\n",
    "This shows a huge disparity between the spread of votes by gender, as men just get more votes typically than women do. And this disparity becomes accentuated when focusing just on the men versus women numbers of vote collecting. This is because women have more total votes from all women final 2/3's than men do in all men situations. As in, women more so need to be against other women to have a better shot to win. Wow, that is interesting."
   ]
  },
  {
   "cell_type": "markdown",
   "id": "amazing-copying",
   "metadata": {},
   "source": [
    "## Evaluation"
   ]
  },
  {
   "cell_type": "markdown",
   "id": "liked-compilation",
   "metadata": {},
   "source": [
    "In the game of Survivor, men have a significant advantage when it comes to individual immunity challenges and an extremely signifcant advantage in find hidden immunity idols. As seen with the statistical significance tests from earlier, men historically have a higher than 50% chance of winning challenges and of finding idols. As in, the data shows an inequality between men and women in these facets of the game. Now, how directly helpful finding idols and/or winning challenges are to actually winning the game of Survivor is beyond the scope of what this project is looking at. But, regardless there is a noticable disparity between men and women in both of these categories, which is important to acknowledge. \n",
    "\n",
    "Another aspect of the game that has a significant disparity is the distribution of how men versus women receive votes, to win, at Final Tribal Council. Historically, men have a significant advantage in receiving votes and furthermore, in receiving respect for the way they played the game. This especially correlats to a substantial problem in the world, especially the workplace, of women being treated differently and often respected less. **Add**\n",
    "\n",
    "And then with the show of Survivor, there exists a disparity between how men and women are portrayed. Specifically, with the confessional counts of men that win versus women that win. A man who wins gets 16 confessionals more than a woman who wins (59 for men compared to 43 for women). This leans into and perpetuates the previous problem of men getting more respect and winning at Final Tribal Council more, especially in recent seasons. With viewers seeing a man who wins get to explain his story much more, that builds up an inherent perception that men have more to say and, when we see this much of them, should be listened to more. This just further digs into stereotypes and gender roles of men being more aggressive and out front, which is more \"exciting\" television, while women \"should be\" more passive and quiet. Now there is a relevant factor of entertainment value here, especially with certain people like Tony and Boston Rob who are these dynamic and explosive characters that are just entertaining to watch (opinions may vary). And the producers want to put on as entertaining of a show as possible. But, women being perceived as \"less entertaining\", therefore getting less confessionals, is a whole other issue in itself that represents our inherent perceptions and biases of gender roles. \n",
    "\n",
    "\n",
    "**Add** The situation in Season 39 Island of the Idols with Dan and his inappropriate touching of women exemplifies a sexist workplace dynamic that is common for many. When a woman on that season, Kellee, came out to the producers about Dan touching her inappropriately, it took several more steps and a whole other incident (off camera) for the producers to step in and remove Dan from the game. This can be seen in culture with men not being properly punished for sexual assault cases and women having to sacrifice so much to go through the process of coming out about her offender.\n",
    "\n",
    "\n",
    "\n",
    "With all of these issues, who is at fault here and how do we remedy the sexism in Survivor? Is this on producers to include less advantages that historically benefit men? Is it on the editors to give women more screen time and not let the men dominate the airtime? Is it the fault of women for not being better Survivor players and not being dynamic enough characters to get more airtime? I doubt it, but I think our inherent bias plays a role there and is a considerably large factor as to why men are generally perceived as more entertaining, and get more screen time. \n",
    "\n",
    "This might come off as more aggressive or critical of the show than I intend. Survivor is my favorite show and I am obsessed with it (to the point that I made that whole spreadsheet), so my criticisms here are meant with the intent of making something I already love even better. This is rather an acknowledgement of the flaws in the show and hopefully a step towards gender equality on Survivor, and in society in general.\n",
    "\n",
    "And this data project could be seen as a way to knock on men and put an asterick next to their achievements in Survivor, which is not the intention. Generally, they have it easier in some ways, but loads of men have done very well in Survivor because of their own doing. This is more so meant to acknowledge the inherent bias that the editors, players, and even us as the viewers have when it comes to gender roles in Survivor. Or, these results from this project could be misinterpreted to mean that women should win every season or that men have no problems in Survivor / in real life. Neither of these are true. Ideally, there is a near even balance of men and women winning Survivor and the inherent bias that affects how people are perceived is minimal. This project does not analyze the parts of Survivor that hinder men, like how men are often perceived as big threats around the merge in the game and often get voted out around that time. This is because the focus is to acknowledge the glaring flaws and gender disparities, which lie more on the side of issues that impede women in Survivor."
   ]
  },
  {
   "cell_type": "code",
   "execution_count": null,
   "id": "endangered-bloom",
   "metadata": {},
   "outputs": [],
   "source": []
  }
 ],
 "metadata": {
  "kernelspec": {
   "display_name": "Python 3",
   "language": "python",
   "name": "python3"
  },
  "language_info": {
   "codemirror_mode": {
    "name": "ipython",
    "version": 3
   },
   "file_extension": ".py",
   "mimetype": "text/x-python",
   "name": "python",
   "nbconvert_exporter": "python",
   "pygments_lexer": "ipython3",
   "version": "3.9.2"
  }
 },
 "nbformat": 4,
 "nbformat_minor": 5
}

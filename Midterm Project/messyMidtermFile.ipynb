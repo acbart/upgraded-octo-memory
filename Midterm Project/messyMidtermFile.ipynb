{
 "cells": [
  {
   "cell_type": "markdown",
   "id": "dense-causing",
   "metadata": {},
   "source": [
    "# **Sexism in \"Survivor\"**"
   ]
  },
  {
   "cell_type": "markdown",
   "id": "searching-eclipse",
   "metadata": {},
   "source": [
    "Let's talk about my favorite television show, Survivor. It's been around for 20 years, it has 40 seasons, and yes, it is still going on (Season 41 is being filmed as I type this!). Now even though it is my favorite show, it does come with many problems. One of the main ones is sexism and the inequality that exists between men and women on the show. This exists in both the game of Survivor, in terms of how fair it is for men versus women, as well as in the show of Survivor, in how men versus women are portrayed on television. Also, a monumental distinction to make is that the game of Survivor is what happens out there on the island (or rainforest, desert, etc.) and how the production behind the scenes controls the game, through different twists and such. While the show of Survivor is the product that we, as the viewer, see on television. The show is a product of what happens in the game (for that season) and is the result of cutting hundreds of hours of footage to display exactly what they, behind the show, want to display to the viewer. This distinction between the game and the show of Survivor is extremely important to clarify. "
   ]
  },
  {
   "cell_type": "markdown",
   "id": "enclosed-project",
   "metadata": {},
   "source": [
    "## The questions I will be answering: "
   ]
  },
  {
   "cell_type": "markdown",
   "id": "grateful-norwegian",
   "metadata": {},
   "source": [
    "- How and where does sexism exist in the game of Survivor?\n",
    "- How and where does sexism exist in the show of Survivor?\n",
    "- Who is at \"fault\" and how can these inequalities be alleviated? (maybe there is a better way to put this)"
   ]
  },
  {
   "cell_type": "markdown",
   "id": "friendly-surrey",
   "metadata": {},
   "source": [
    "## Why is this important? "
   ]
  },
  {
   "cell_type": "markdown",
   "id": "apparent-abortion",
   "metadata": {},
   "source": [
    "Survivor can often be viewed as a microcosm of society. As in, the disparity between men and women here in Survivor represents a bigger issue about our society as whole. Most of the imbalances that exist in the show and game of Survivor are because of their existence in society as a whole too, beyond just Survivor. So, when I dive into certain issues like how women are portrayed on the television show of Survivor, that is relevant because it is connected to our pre-conceived beliefs of societal gender roles and has a much bigger impact than just on the game of Survivor. The data and information I will present in this project reflect some of the inherent bias in how we perceive men and women, at least in the more quantifiable ways. This will still be much more of a data-driven project, rather than a philosophical paper on gender roles, but it is important to draw the connection between sexism in Survivor and how that translates to sexism in real life."
   ]
  },
  {
   "cell_type": "markdown",
   "id": "civil-dubai",
   "metadata": {},
   "source": [
    "## Dataset I will use"
   ]
  },
  {
   "cell_type": "markdown",
   "id": "departmental-denver",
   "metadata": {},
   "source": [
    "I actually have my own Google Sheets spreadsheet I have been sporadically working on the past few years (because I really just am that big of a nerd of Survivor). I will use a specific few tabs on that sheet to highlight data involving a gender disparity in different aspects of Survivor. The [spreadsheet](https://docs.google.com/spreadsheets/d/1Gb377DdGNfzct0Nt9BYMF-moLXcxFxhOnePBQhIJ73s/edit#gid=741044694) is fairly messy right now, as not everything is up to date, but the pink tabs are the ones I will use for this project. I could make a new spreadsheet document just for the tabs I will use for that project if that makes it an easier resource to present, or maybe there is another way that would be better. I'm open to suggestions!"
   ]
  },
  {
   "cell_type": "markdown",
   "id": "cellular-concert",
   "metadata": {},
   "source": [
    "A considerable amount of the data in that spreadsheet does just come from my own memory of having watched every season of Survivior and somehow remembering loads of minute details. But, the [Survivor Wiki](https://survivor.fandom.com/wiki/Main_Page) and [The True Dork Times](http://www.truedorktimes.com/survivor/boxscores/index.htm) were also resources I used to collect this data. The Survivor Wiki has data on every single season specifically, while the True Dork Times link has loads of different categories for neat Survivor statistics."
   ]
  },
  {
   "cell_type": "markdown",
   "id": "missing-income",
   "metadata": {},
   "source": [
    "## Ethical concerns about the problem, question, and data"
   ]
  },
  {
   "cell_type": "markdown",
   "id": "accomplished-testing",
   "metadata": {},
   "source": [
    "Certain meninists could be offended by how pro-women this study may seem (although it really is intended to be more of a pro-equality study) and could try to excuse the disparity between men and women on Survivor. Certain people who wouldn't want to acknowledge sexism or flaws in Survivor would not be very receptive to listening to what this data presents. This isn't meant to say women are better than men (or vice versa) or that women need to win a certain amount of seasons or have a certain amount of airtime. But it is rather an acknowledgement of the flaws in the show and hopefully a step towards gender equality on Survivor, and in society in general.\n",
    "\n",
    "Another issue is who exactly is at fault here and how do we remedy the sexism in Survivor? Is this on producers to include less advantages that historically benefit men? Is it on the editors to give women more screen time and not let the men dominate the airtime? Is it the fault of women for not being better Survivor players and not being dynamic enough characters to get more airtime? I doubt it, but I think our inherent bias plays a role there and is a considerably large factor as to why men are generally perceived as more entertaining, and get more screen time. \n",
    "\n",
    "And this data project could be seen as a way to knock on men and put an asterick next to their achievements in Survivor, which is not the intention. Generally, they have it easier in some ways, but loads of men have done very well in Survivor because of their own doing. This is more so meant to acknowledge the inherent bias that the editors, players, and even us as the viewers have when it comes to gender roles in Survivor. \n",
    "\n",
    "One more concern is, why does this actually matter? And it matters because the sexism we see in Survivor (both in the game and the show) goes far beyond just the show and it represents the dynamic of sexual inequality in society. "
   ]
  }
 ],
 "metadata": {
  "kernelspec": {
   "display_name": "Python 3",
   "language": "python",
   "name": "python3"
  },
  "language_info": {
   "codemirror_mode": {
    "name": "ipython",
    "version": 3
   },
   "file_extension": ".py",
   "mimetype": "text/x-python",
   "name": "python",
   "nbconvert_exporter": "python",
   "pygments_lexer": "ipython3",
   "version": "3.9.2"
  }
 },
 "nbformat": 4,
 "nbformat_minor": 5
}

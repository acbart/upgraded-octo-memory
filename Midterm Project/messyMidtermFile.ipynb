{
 "cells": [
  {
   "cell_type": "markdown",
   "id": "dramatic-namibia",
   "metadata": {},
   "source": [
    "# **Sexism in \"Survivor\"**"
   ]
  },
  {
   "cell_type": "code",
   "execution_count": 318,
   "id": "split-seventh",
   "metadata": {},
   "outputs": [],
   "source": [
    "import pandas as pd\n",
    "import numpy as np\n",
    "import seaborn as sns\n",
    "from matplotlib import pyplot as plt\n",
    "from scipy import stats"
   ]
  },
  {
   "cell_type": "markdown",
   "id": "demographic-exhibition",
   "metadata": {},
   "source": [
    "## Data Analysis"
   ]
  },
  {
   "cell_type": "code",
   "execution_count": 421,
   "id": "checked-mongolia",
   "metadata": {},
   "outputs": [],
   "source": [
    "## Reading all the inputted datasets\n",
    "idols = pd.read_csv('idols_found.csv', skiprows = [86,87,88,89,90], usecols = [0,1,2,3])\n",
    "ind_imm = pd.read_csv('individual_immunity.csv', header = 1, skiprows = [203,204,205,206,207,208,209,210], usecols = [1,2,3,4,5,6])\n",
    "f4fire = pd.read_csv('final_4_fire.csv', header = 1, usecols = [1,2,3,4,5,6])\n",
    "conf_winners = pd.read_csv('conf_counts_winners.csv', header = 1, usecols = [1,2,3,4,5])\n",
    "votes_FTC = pd.read_csv('votes_Final_Tribal_Council.csv', header = 1, skiprows = [82,83,84], usecols = [1,2,3,4,5,6,7,8])\n",
    "## I had to strategically use the header, skiprows, and usecols parameters to trim specific sections of each spreadsheet"
   ]
  },
  {
   "cell_type": "markdown",
   "id": "metric-adaptation",
   "metadata": {},
   "source": [
    "### Preliminary Data Cleaning and Organizing"
   ]
  },
  {
   "cell_type": "code",
   "execution_count": 303,
   "id": "meaningful-milan",
   "metadata": {},
   "outputs": [],
   "source": [
    "## Change Male and Female to Man and Woman\n",
    "ind_imm = ind_imm.replace(to_replace={'Male', 'Female'}, value={'Man', 'Woman'})\n",
    "\n",
    "## Change \"Sex\" to \"Gender\"\n",
    "ind_imm = ind_imm.rename(columns={\"Sex\": \" Gender\"})\n",
    "\n",
    "## Change \"Count\" to \"Count (Women)\"\n",
    "ind_imm = ind_imm.rename(columns={\"Count\": \"Count (Women)\"})\n",
    "## Actually I like \"Women Count\" as a better name\n",
    "ind_imm = ind_imm.rename(columns={\"Count (Women)\": \"Women Count\"})"
   ]
  },
  {
   "cell_type": "code",
   "execution_count": 304,
   "id": "finnish-april",
   "metadata": {},
   "outputs": [],
   "source": [
    "## Change \"M/F\" to \"M/W\" for Man/Woman instead of Male/Female\n",
    "f4fire = f4fire.rename(columns={\"M/F\": \"M/W\"})\n",
    "## Actually \"M/W\" kind of looks weird. So I'll do \"Man/Woman\" instead\n",
    "f4fire = f4fire.rename(columns={\"M/W\": \"Man/Woman\"})\n",
    "\n",
    "## Change \"F\" for \"Female\" to \"W\" for \"Woman\"\n",
    "f4fire = f4fire.replace(to_replace={'W'}, value={'Woman'})\n",
    "## Actually, just make \"M\" and \"W\" into \"Man\" and \"Woman\" respectively\n",
    "f4fire = f4fire.replace(to_replace={'W'}, value={'Woman'})\n",
    "f4fire = f4fire.replace(to_replace={'M'}, value={'Man'})"
   ]
  },
  {
   "cell_type": "code",
   "execution_count": 305,
   "id": "southern-detail",
   "metadata": {},
   "outputs": [],
   "source": [
    "## Change \"M/F\" to \"M/W\" for Man/Woman instead of Male/Female\n",
    "idols = idols.rename(columns={\"M/F\": \"M/W\"})\n",
    "## And then change that to \"M/W Count\"\n",
    "idols = idols.rename(columns={\"M/W\": \"M/W Count\"})"
   ]
  },
  {
   "cell_type": "code",
   "execution_count": 336,
   "id": "heavy-working",
   "metadata": {},
   "outputs": [],
   "source": [
    "## Need to add a Man/Woman column to the conf_winners dataset\n",
    "## There are more Men that have won than Women, so it is easier to make them all \"Man\" and change some to \"Woman\"\n",
    "conf_winners[\"Gender\"] = \"Man\"\n",
    "## Make an array of the indices of the Women winners\n",
    "women_indices = np.array([8,14,15,16,17,24,26,28,29,32,33,34,36,37,39])\n",
    "## Change those indices to have a Gender of \"Woman\"\n",
    "conf_winners.loc[women_indices, \"Gender\"] = \"Woman\"\n",
    "\n",
    "## Change the Natalie's to \"Natalie A\" and \"Natalie W\". They are different people.\n",
    "conf_winners.loc[24, 'Winner'] = \"Natalie A\"\n",
    "conf_winners.loc[39, 'Winner'] = \"Natalie W\""
   ]
  },
  {
   "cell_type": "markdown",
   "id": "distinct-subdivision",
   "metadata": {},
   "source": [
    "#### Now that we are done the preliminary setup, let's do some analysis! Of data! Data analysis if you will"
   ]
  },
  {
   "cell_type": "markdown",
   "id": "favorite-satellite",
   "metadata": {},
   "source": [
    "### Let's start with the Winner Confessionals Dataset"
   ]
  },
  {
   "cell_type": "code",
   "execution_count": 337,
   "id": "clean-armor",
   "metadata": {},
   "outputs": [],
   "source": [
    "women_winners = conf_winners.groupby('Gender').size()[\"Woman\"] ## number of women winners\n",
    "men_winners = conf_winners.groupby('Gender').size()[\"Man\"] ## number of men winners\n",
    "total_women_conf = conf_winners.groupby('Gender')['# of Confessionals'].sum()[\"Woman\"] ## total confessionals by winning women\n",
    "total_men_conf = conf_winners.groupby('Gender')['# of Confessionals'].sum()[\"Man\"] ## total confessionals by winning men\n",
    "avg_women_conf = conf_winners.groupby('Gender')['# of Confessionals'].mean()[\"Woman\"] ## average confessionals by winning women\n",
    "avg_men_conf = conf_winners.groupby('Gender')['# of Confessionals'].mean()[\"Man\"] ## average confessionals by winning men"
   ]
  },
  {
   "cell_type": "code",
   "execution_count": 286,
   "id": "smooth-customs",
   "metadata": {
    "tags": []
   },
   "outputs": [
    {
     "data": {
      "text/plain": [
       "(25, 15)"
      ]
     },
     "execution_count": 286,
     "metadata": {},
     "output_type": "execute_result"
    }
   ],
   "source": [
    "men_winners, women_winners"
   ]
  },
  {
   "cell_type": "markdown",
   "id": "finnish-negative",
   "metadata": {},
   "source": [
    "We can see there are more men that have won (25) than women that have won (15)."
   ]
  },
  {
   "cell_type": "code",
   "execution_count": 287,
   "id": "opponent-serve",
   "metadata": {
    "tags": []
   },
   "outputs": [
    {
     "data": {
      "text/plain": [
       "(1484, 639)"
      ]
     },
     "execution_count": 287,
     "metadata": {},
     "output_type": "execute_result"
    }
   ],
   "source": [
    "total_men_conf, total_women_conf"
   ]
  },
  {
   "cell_type": "markdown",
   "id": "sacred-royalty",
   "metadata": {},
   "source": [
    "The total confessionals don't mean a ton on their own, but that is way more by men (over double of women)."
   ]
  },
  {
   "cell_type": "code",
   "execution_count": 288,
   "id": "rental-sleeping",
   "metadata": {},
   "outputs": [
    {
     "data": {
      "text/plain": [
       "(59.36, 42.6)"
      ]
     },
     "execution_count": 288,
     "metadata": {},
     "output_type": "execute_result"
    }
   ],
   "source": [
    "avg_men_conf, avg_women_conf"
   ]
  },
  {
   "cell_type": "code",
   "execution_count": 134,
   "id": "maritime-representation",
   "metadata": {},
   "outputs": [
    {
     "data": {
      "text/plain": [
       "16.759999999999998"
      ]
     },
     "execution_count": 134,
     "metadata": {},
     "output_type": "execute_result"
    }
   ],
   "source": [
    "avg_men_conf - avg_women_conf ## difference between averages"
   ]
  },
  {
   "cell_type": "markdown",
   "id": "spanish-perfume",
   "metadata": {},
   "source": [
    "Wow now this is something. On average, a man that wins a season gets almost 17 more confessionals than a woman that wins. "
   ]
  },
  {
   "cell_type": "code",
   "execution_count": 130,
   "id": "printable-wesley",
   "metadata": {},
   "outputs": [
    {
     "data": {
      "text/plain": [
       "39.34272300469483"
      ]
     },
     "execution_count": 130,
     "metadata": {},
     "output_type": "execute_result"
    }
   ],
   "source": [
    "((avg_men_conf/avg_women_conf) - 1)*100"
   ]
  },
  {
   "cell_type": "markdown",
   "id": "governing-brook",
   "metadata": {},
   "source": [
    "Another way of putting it is that a man that wins gets 39.34% more confessionals than a woman that wins. That's a lot. \n",
    "For every 10 seconds a winning woman gets to tell of her story, a winning man gets almost 14 seconds. And in the grand scheme of a whole season, that becomes a considerable difference in who's perspective of the story is being told."
   ]
  },
  {
   "cell_type": "code",
   "execution_count": 340,
   "id": "sapphire-basic",
   "metadata": {},
   "outputs": [
    {
     "data": {
      "text/html": [
       "<div>\n",
       "<style scoped>\n",
       "    .dataframe tbody tr th:only-of-type {\n",
       "        vertical-align: middle;\n",
       "    }\n",
       "\n",
       "    .dataframe tbody tr th {\n",
       "        vertical-align: top;\n",
       "    }\n",
       "\n",
       "    .dataframe thead th {\n",
       "        text-align: right;\n",
       "    }\n",
       "</style>\n",
       "<table border=\"1\" class=\"dataframe\">\n",
       "  <thead>\n",
       "    <tr style=\"text-align: right;\">\n",
       "      <th></th>\n",
       "      <th>count</th>\n",
       "      <th>mean</th>\n",
       "      <th>std</th>\n",
       "      <th>min</th>\n",
       "      <th>25%</th>\n",
       "      <th>50%</th>\n",
       "      <th>75%</th>\n",
       "      <th>max</th>\n",
       "    </tr>\n",
       "    <tr>\n",
       "      <th>Gender</th>\n",
       "      <th></th>\n",
       "      <th></th>\n",
       "      <th></th>\n",
       "      <th></th>\n",
       "      <th></th>\n",
       "      <th></th>\n",
       "      <th></th>\n",
       "      <th></th>\n",
       "    </tr>\n",
       "  </thead>\n",
       "  <tbody>\n",
       "    <tr>\n",
       "      <th>Man</th>\n",
       "      <td>25.0</td>\n",
       "      <td>59.36</td>\n",
       "      <td>18.891974</td>\n",
       "      <td>23.0</td>\n",
       "      <td>48.0</td>\n",
       "      <td>59.0</td>\n",
       "      <td>71.0</td>\n",
       "      <td>97.0</td>\n",
       "    </tr>\n",
       "    <tr>\n",
       "      <th>Woman</th>\n",
       "      <td>15.0</td>\n",
       "      <td>42.60</td>\n",
       "      <td>14.266845</td>\n",
       "      <td>15.0</td>\n",
       "      <td>34.5</td>\n",
       "      <td>43.0</td>\n",
       "      <td>53.5</td>\n",
       "      <td>69.0</td>\n",
       "    </tr>\n",
       "  </tbody>\n",
       "</table>\n",
       "</div>"
      ],
      "text/plain": [
       "        count   mean        std   min   25%   50%   75%   max\n",
       "Gender                                                       \n",
       "Man      25.0  59.36  18.891974  23.0  48.0  59.0  71.0  97.0\n",
       "Woman    15.0  42.60  14.266845  15.0  34.5  43.0  53.5  69.0"
      ]
     },
     "execution_count": 340,
     "metadata": {},
     "output_type": "execute_result"
    }
   ],
   "source": [
    "conf_winners.groupby('Gender')['# of Confessionals'].describe()"
   ]
  },
  {
   "cell_type": "markdown",
   "id": "strange-projection",
   "metadata": {},
   "source": [
    "This 5 number summary, plus frequency, mean, and standard deviation shows how men consistently have a considerable amount of more confessionals than women. But let's look at a boxplot of these numbers to see it more visually. "
   ]
  },
  {
   "cell_type": "code",
   "execution_count": 226,
   "id": "durable-birthday",
   "metadata": {},
   "outputs": [
    {
     "data": {
      "text/plain": [
       "[Text(0.5, 0, 'Gender'), Text(0, 0.5, '# of Confessionals')]"
      ]
     },
     "execution_count": 226,
     "metadata": {},
     "output_type": "execute_result"
    },
    {
     "data": {
      "image/png": "[encoded data removed]",
      "text/plain": [
       "<Figure size 432x288 with 1 Axes>"
      ]
     },
     "metadata": {
      "needs_background": "light"
     },
     "output_type": "display_data"
    }
   ],
   "source": [
    "## Make array of confessional counts of women winners\n",
    "women_array = np.array(conf_winners.loc[women_indices, \"# of Confessionals\"])\n",
    "\n",
    "## Make array of confessional counts of men winners\n",
    "men_indices = np.array([0,1,2,3,4,5,6,7,9,10,11,12,13,18,19,20,21,22,23,25,30,31,35])\n",
    "men_array = np.array(conf_winners.loc[men_indices, \"# of Confessionals\"])\n",
    "\n",
    "all_arrays = [men_array, women_array]\n",
    "\n",
    "sns.boxplot(data = all_arrays, palette = ['dodgerblue', 'pink']).set(xlabel='Gender', ylabel='# of Confessionals')"
   ]
  },
  {
   "cell_type": "markdown",
   "id": "ambient-mediterranean",
   "metadata": {},
   "source": [
    "We can see that the boxplot for confessionals by winning men (the blue one on the left) is generally much higher than the boxplot for confessionals by winning women. The median for women (43) is lower than men's Q1 (48), the Q3 for the women (53.5) is lower than the men's median (59), and the maximum for women (69) is around the men's Q3 (71). So, beyond just some tuples and numbers from before, we can see graphically that men who win just get more confessionals than women who win. "
   ]
  },
  {
   "cell_type": "code",
   "execution_count": 227,
   "id": "liked-lawsuit",
   "metadata": {},
   "outputs": [
    {
     "data": {
      "text/plain": [
       "Man           AxesSubplot(0.1,0.15;0.363636x0.75)\n",
       "Woman    AxesSubplot(0.536364,0.15;0.363636x0.75)\n",
       "dtype: object"
      ]
     },
     "execution_count": 227,
     "metadata": {},
     "output_type": "execute_result"
    },
    {
     "data": {
      "image/png": "[encoded data removed]",
      "text/plain": [
       "<Figure size 432x288 with 2 Axes>"
      ]
     },
     "metadata": {
      "needs_background": "light"
     },
     "output_type": "display_data"
    }
   ],
   "source": [
    "conf_winners.groupby('Gender').boxplot()"
   ]
  },
  {
   "cell_type": "markdown",
   "id": "driving-sacrifice",
   "metadata": {},
   "source": [
    "That was another way of doing a boxplot that I found, but it gets all jumbled on the bottom, it produces 2 separate graphs, and it does not have colors. I like the colors. "
   ]
  },
  {
   "cell_type": "code",
   "execution_count": 278,
   "id": "recovered-hostel",
   "metadata": {},
   "outputs": [
    {
     "data": {
      "text/plain": [
       "Gender\n",
       "Man      13\n",
       "Woman     2\n",
       "Name: Most in the Season?, dtype: int64"
      ]
     },
     "execution_count": 278,
     "metadata": {},
     "output_type": "execute_result"
    }
   ],
   "source": [
    "men_most_conf = conf_winners.groupby('Gender')['Most in the Season?'].sum()[\"Man\"]\n",
    "women_most_conf = conf_winners.groupby('Gender')['Most in the Season?'].sum()[\"Woman\"]\n",
    "total_most_conf = conf_winners.groupby('Gender')['Most in the Season?'].sum()\n",
    "total_most_conf"
   ]
  },
  {
   "cell_type": "markdown",
   "id": "british-district",
   "metadata": {},
   "source": [
    "There are 13 winning men who had the most confessionals in their season, but only 2 winning women who had the most confessionals in their season."
   ]
  },
  {
   "cell_type": "code",
   "execution_count": 343,
   "id": "following-lease",
   "metadata": {},
   "outputs": [
    {
     "data": {
      "text/plain": [
       "(52.0, 13.33)"
      ]
     },
     "execution_count": 343,
     "metadata": {},
     "output_type": "execute_result"
    }
   ],
   "source": [
    "men_percent_most_conf = (men_most_conf / men_winners) * 100\n",
    "women_percent_most_conf = round((women_most_conf / women_winners) * 100, 2)\n",
    "men_percent_most_conf, women_percent_most_conf"
   ]
  },
  {
   "cell_type": "markdown",
   "id": "framed-baseball",
   "metadata": {},
   "source": [
    "Another way to put it is that 52% of men who win have the most confessionals in their season, while only 13.33% of women who win have the most in their season. Men who win are given a much larger piece of the narrative and get to tell their story more."
   ]
  },
  {
   "cell_type": "markdown",
   "id": "interesting-membrane",
   "metadata": {},
   "source": [
    "### Now let's find trends in the Idols Found dataset"
   ]
  },
  {
   "cell_type": "code",
   "execution_count": 349,
   "id": "destroyed-firewall",
   "metadata": {},
   "outputs": [
    {
     "data": {
      "text/plain": [
       "4.233333333333333"
      ]
     },
     "execution_count": 349,
     "metadata": {},
     "output_type": "execute_result"
    }
   ],
   "source": [
    "total_idols = idols['# of Idols Found'].sum()\n",
    "idols_per_season = total_idols / 30 ## The hidden immunity idol was introduced in Season 11, so there have been 30 seasons with it\n",
    "idols_per_season"
   ]
  },
  {
   "cell_type": "markdown",
   "id": "relative-folks",
   "metadata": {},
   "source": [
    "There are about 4.2 hidden immunity idols found per season. This number helps set up some context for later numbers."
   ]
  },
  {
   "cell_type": "code",
   "execution_count": 308,
   "id": "visible-heater",
   "metadata": {},
   "outputs": [
    {
     "data": {
      "text/plain": [
       "(90, 37)"
      ]
     },
     "execution_count": 308,
     "metadata": {},
     "output_type": "execute_result"
    }
   ],
   "source": [
    "women_idols = idols['M/W Count'].sum()\n",
    "men_idols = total_idols - women_idols\n",
    "men_idols, women_idols"
   ]
  },
  {
   "cell_type": "markdown",
   "id": "behavioral-agriculture",
   "metadata": {},
   "source": [
    "We can see that men find many more idols than women, by a gigantic margin. "
   ]
  },
  {
   "cell_type": "code",
   "execution_count": 316,
   "id": "applied-professional",
   "metadata": {},
   "outputs": [
    {
     "data": {
      "text/plain": [
       "(0.7086614173228346, 0.29133858267716534)"
      ]
     },
     "execution_count": 316,
     "metadata": {},
     "output_type": "execute_result"
    }
   ],
   "source": [
    "men_idols_percent = men_idols / total_idols\n",
    "women_idols_percent = women_idols / total_idols\n",
    "men_idols_percent, women_idols_percent"
   ]
  },
  {
   "cell_type": "markdown",
   "id": "artificial-inspection",
   "metadata": {},
   "source": [
    "Men have found just under 71% of all idols while women have only found 29% of all idols. "
   ]
  },
  {
   "cell_type": "code",
   "execution_count": 310,
   "id": "helpful-princeton",
   "metadata": {},
   "outputs": [
    {
     "data": {
      "text/plain": [
       "2.4324324324324325"
      ]
     },
     "execution_count": 310,
     "metadata": {},
     "output_type": "execute_result"
    }
   ],
   "source": [
    "men_idols / women_idols"
   ]
  },
  {
   "cell_type": "markdown",
   "id": "conservative-amendment",
   "metadata": {},
   "source": [
    "For every 1 idol a woman finds, a man finds about 2.43 idols on average. That is a huge disparity and men clearly have an advantage when it comes to finding hidden immunity idols."
   ]
  },
  {
   "cell_type": "markdown",
   "id": "global-attack",
   "metadata": {},
   "source": [
    "But let's do a statistical test to see if these numbers are statistically significant. We can do a binomial test with p=.5, n=127, and # of successes = 90. This represents the 90 idols men have found, out of 127 total, and if that is significantly beyond an even 50/50 probability of a man and woman having the same odds of finding an idol. And the significance value = .05"
   ]
  },
  {
   "cell_type": "code",
   "execution_count": 325,
   "id": "alleged-warrior",
   "metadata": {},
   "outputs": [
    {
     "data": {
      "text/plain": [
       "2.872030486807263e-06"
      ]
     },
     "execution_count": 325,
     "metadata": {},
     "output_type": "execute_result"
    }
   ],
   "source": [
    "stats.binom_test(90, n=127, p=0.5)"
   ]
  },
  {
   "cell_type": "markdown",
   "id": "smaller-camcorder",
   "metadata": {},
   "source": [
    "We can see that if the probability was 50% for men to find an idol, then it is almost impossible for men to find this many idols. This is well under the significance value of .05, so we can conclude this is statistically significant. As in, the number of idols men have actually found is well beyond men and women each having an even 50% chance of finding an idol. So we can see that this is not equal and men have a significant advantage in finding hidden immunity idols.  "
   ]
  },
  {
   "cell_type": "code",
   "execution_count": 330,
   "id": "different-billion",
   "metadata": {},
   "outputs": [
    {
     "data": {
      "text/plain": [
       "0.01414576527359386"
      ]
     },
     "execution_count": 330,
     "metadata": {},
     "output_type": "execute_result"
    }
   ],
   "source": [
    "stats.binom_test(90, n=127, p=0.6)"
   ]
  },
  {
   "cell_type": "markdown",
   "id": "metric-introduction",
   "metadata": {},
   "source": [
    "Even if we were to say men have a slight advantage in finding idols, so the probability is 60% for men, then still the numbers are still statistically significant with a significance value = .05. As in, men have significantly above a 60% chance of finding an idol, which becomes far from being equal."
   ]
  },
  {
   "cell_type": "markdown",
   "id": "intellectual-marine",
   "metadata": {},
   "source": [
    "### Let's also look at trends in the Individual Immunity Challenge Wins dataset"
   ]
  },
  {
   "cell_type": "code",
   "execution_count": 348,
   "id": "herbal-warrant",
   "metadata": {},
   "outputs": [
    {
     "data": {
      "text/plain": [
       "8.65"
      ]
     },
     "execution_count": 348,
     "metadata": {},
     "output_type": "execute_result"
    }
   ],
   "source": [
    "total_ind_imm = ind_imm['# of Immunity Challenges Won'].sum()\n",
    "ind_imm_per_season = total_ind_imm / 40 ## There have been individual immunity challenges in all 40 seasons of Survivor\n",
    "ind_imm_per_season"
   ]
  },
  {
   "cell_type": "markdown",
   "id": "trained-montana",
   "metadata": {},
   "source": [
    "There are an average of 8.65 individual immunity challenges per season, which helps contextualize some other numbers we will look at. "
   ]
  },
  {
   "cell_type": "code",
   "execution_count": 353,
   "id": "removed-negotiation",
   "metadata": {},
   "outputs": [
    {
     "data": {
      "text/plain": [
       "(215, 131)"
      ]
     },
     "execution_count": 353,
     "metadata": {},
     "output_type": "execute_result"
    }
   ],
   "source": [
    "women_ind_imm = ind_imm['Women Count'].sum()\n",
    "men_ind_imm = total_ind_imm - women_ind_imm\n",
    "men_ind_imm, women_ind_imm"
   ]
  },
  {
   "cell_type": "markdown",
   "id": "linear-reset",
   "metadata": {},
   "source": [
    "Men have won a total of 215 individual immunity challenges throughout the history of the show while women have won 131, which is far less. "
   ]
  },
  {
   "cell_type": "code",
   "execution_count": 366,
   "id": "graphic-thesis",
   "metadata": {},
   "outputs": [
    {
     "data": {
      "text/plain": [
       "(5.375, 3.275)"
      ]
     },
     "execution_count": 366,
     "metadata": {},
     "output_type": "execute_result"
    }
   ],
   "source": [
    "men_indimm_avg = men_ind_imm / 40\n",
    "women_indimm_avg = women_ind_imm / 40\n",
    "men_indimm_avg, women_indimm_avg "
   ]
  },
  {
   "cell_type": "markdown",
   "id": "sticky-aerospace",
   "metadata": {},
   "source": [
    "Averaging for all 40 seasons, men win just over 2 more challenges per season than women, which becomes a large disparity when there are 40 seasons! "
   ]
  },
  {
   "cell_type": "code",
   "execution_count": 354,
   "id": "hybrid-convergence",
   "metadata": {},
   "outputs": [
    {
     "data": {
      "text/plain": [
       "(0.6213872832369942, 0.3786127167630058)"
      ]
     },
     "execution_count": 354,
     "metadata": {},
     "output_type": "execute_result"
    }
   ],
   "source": [
    "men_indimm_percent = men_ind_imm / total_ind_imm\n",
    "women_indimm_percent = women_ind_imm / total_ind_imm\n",
    "men_indimm_percent, women_indimm_percent"
   ]
  },
  {
   "cell_type": "markdown",
   "id": "little-architect",
   "metadata": {},
   "source": [
    "We can see that men win about 62.14% of individual immunity challenges, while women win about 37.86%. This seems to be well beyond an equal 50/50 odds, but let's do another binomial test for significance."
   ]
  },
  {
   "cell_type": "markdown",
   "id": "sorted-delivery",
   "metadata": {},
   "source": [
    "Similar to the binomial test for the Idols, we will set p=.5, n=346, and # of success = 215 with a significance level of .05. These represent 50% odds of a man winning a challenge, the 346 total individual immunity challenge wins, and the 215 wins by men. So let's find the probability of men winning that many challenges. "
   ]
  },
  {
   "cell_type": "code",
   "execution_count": 356,
   "id": "seasonal-colonial",
   "metadata": {},
   "outputs": [
    {
     "data": {
      "text/plain": [
       "7.364729817165011e-06"
      ]
     },
     "execution_count": 356,
     "metadata": {},
     "output_type": "execute_result"
    }
   ],
   "source": [
    "stats.binom_test(215, n=346, p=0.5)"
   ]
  },
  {
   "cell_type": "markdown",
   "id": "integral-thomas",
   "metadata": {},
   "source": [
    "This probabiliy is far below our significance level of .05, which means men have won significantly more challenges than women. Which means the odds of winning a challenge for men are well above 50%. So, this is another category of the game where men have a noticeable advantage over women."
   ]
  },
  {
   "cell_type": "markdown",
   "id": "signed-marshall",
   "metadata": {},
   "source": [
    "When men are finding significantly more idols than women and are winning considerably more challenges than women, these are more opportunities of power in the game of Survivor that are going to men. When a player plays an idol or possesses the immunity necklace (from winning an individual immunity challenge), that player is safe from receiving any votes for elimination. So, men having these advantages in the game directly helps them survive longer and gives them a higher chance to make it to Final Tribal Council, which is where the jury votes on the last 2/3 players remaining on who should win the game."
   ]
  },
  {
   "cell_type": "markdown",
   "id": "average-oregon",
   "metadata": {},
   "source": [
    "### Let's look at the breakdown of votes, by gender, at Final Tribal Council "
   ]
  },
  {
   "cell_type": "code",
   "execution_count": 364,
   "id": "christian-tender",
   "metadata": {},
   "outputs": [
    {
     "data": {
      "text/plain": [
       "(212, 127)"
      ]
     },
     "execution_count": 364,
     "metadata": {},
     "output_type": "execute_result"
    }
   ],
   "source": [
    "men_votes = int(votes_FTC['Total Votes for Men'].sum())\n",
    "women_votes = int(votes_FTC['Total Votes for Women'].sum())\n",
    "men_votes, women_votes"
   ]
  },
  {
   "cell_type": "markdown",
   "id": "generous-ukraine",
   "metadata": {},
   "source": [
    "In the history of the show, men have received 212 votes to win at a final tribal council, while women have only received 127."
   ]
  },
  {
   "cell_type": "code",
   "execution_count": 369,
   "id": "authorized-champagne",
   "metadata": {},
   "outputs": [
    {
     "data": {
      "text/plain": [
       "(54, 51)"
      ]
     },
     "execution_count": 369,
     "metadata": {},
     "output_type": "execute_result"
    }
   ],
   "source": [
    "total_votes = men_votes + women_votes\n",
    "men_FTC = int(votes_FTC['# of Men'].sum()) ## total number of men to appear in Final Tribal Council (FTC)\n",
    "women_FTC = int(votes_FTC['# of Women'].sum()) ## total number of women to appear in FTC\n",
    "men_FTC, women_FTC"
   ]
  },
  {
   "cell_type": "markdown",
   "id": "limiting-accessory",
   "metadata": {},
   "source": [
    "Despite there being almost the same amount of men (54) and women (51) to appear in a FTC, men have 85 more FTC votes to win than women do. Let's get the average amount of votes received per player, grouped by gender. "
   ]
  },
  {
   "cell_type": "code",
   "execution_count": 371,
   "id": "higher-weather",
   "metadata": {},
   "outputs": [
    {
     "data": {
      "text/plain": [
       "(3.925925925925926, 2.4901960784313726)"
      ]
     },
     "execution_count": 371,
     "metadata": {},
     "output_type": "execute_result"
    }
   ],
   "source": [
    "votes_per_woman = women_votes / women_FTC\n",
    "votes_per_man = men_votes / men_FTC\n",
    "votes_per_man, votes_per_woman"
   ]
  },
  {
   "cell_type": "markdown",
   "id": "presidential-homeless",
   "metadata": {},
   "source": [
    "Each man that appears in a FTC receives almost 4 votes on average, while each woman receives about 2.5 votes. "
   ]
  },
  {
   "cell_type": "code",
   "execution_count": 382,
   "id": "strange-transition",
   "metadata": {},
   "outputs": [
    {
     "data": {
      "text/html": [
       "<div>\n",
       "<style scoped>\n",
       "    .dataframe tbody tr th:only-of-type {\n",
       "        vertical-align: middle;\n",
       "    }\n",
       "\n",
       "    .dataframe tbody tr th {\n",
       "        vertical-align: top;\n",
       "    }\n",
       "\n",
       "    .dataframe thead th {\n",
       "        text-align: right;\n",
       "    }\n",
       "</style>\n",
       "<table border=\"1\" class=\"dataframe\">\n",
       "  <thead>\n",
       "    <tr style=\"text-align: right;\">\n",
       "      <th></th>\n",
       "      <th>Season</th>\n",
       "      <th># of Men</th>\n",
       "      <th># of Women</th>\n",
       "      <th>Total Votes for Men</th>\n",
       "      <th>Total Votes for Women</th>\n",
       "    </tr>\n",
       "  </thead>\n",
       "  <tbody>\n",
       "    <tr>\n",
       "      <th>count</th>\n",
       "      <td>40.000000</td>\n",
       "      <td>40.000000</td>\n",
       "      <td>40.000000</td>\n",
       "      <td>40.000000</td>\n",
       "      <td>40.000000</td>\n",
       "    </tr>\n",
       "    <tr>\n",
       "      <th>mean</th>\n",
       "      <td>20.500000</td>\n",
       "      <td>1.350000</td>\n",
       "      <td>1.275000</td>\n",
       "      <td>5.300000</td>\n",
       "      <td>3.175000</td>\n",
       "    </tr>\n",
       "    <tr>\n",
       "      <th>std</th>\n",
       "      <td>11.690452</td>\n",
       "      <td>0.769615</td>\n",
       "      <td>0.715667</td>\n",
       "      <td>3.962646</td>\n",
       "      <td>3.185605</td>\n",
       "    </tr>\n",
       "    <tr>\n",
       "      <th>min</th>\n",
       "      <td>1.000000</td>\n",
       "      <td>0.000000</td>\n",
       "      <td>0.000000</td>\n",
       "      <td>0.000000</td>\n",
       "      <td>0.000000</td>\n",
       "    </tr>\n",
       "    <tr>\n",
       "      <th>25%</th>\n",
       "      <td>10.750000</td>\n",
       "      <td>1.000000</td>\n",
       "      <td>1.000000</td>\n",
       "      <td>1.750000</td>\n",
       "      <td>0.000000</td>\n",
       "    </tr>\n",
       "    <tr>\n",
       "      <th>50%</th>\n",
       "      <td>20.500000</td>\n",
       "      <td>1.000000</td>\n",
       "      <td>1.000000</td>\n",
       "      <td>5.000000</td>\n",
       "      <td>2.000000</td>\n",
       "    </tr>\n",
       "    <tr>\n",
       "      <th>75%</th>\n",
       "      <td>30.250000</td>\n",
       "      <td>2.000000</td>\n",
       "      <td>2.000000</td>\n",
       "      <td>9.000000</td>\n",
       "      <td>7.000000</td>\n",
       "    </tr>\n",
       "    <tr>\n",
       "      <th>max</th>\n",
       "      <td>40.000000</td>\n",
       "      <td>3.000000</td>\n",
       "      <td>3.000000</td>\n",
       "      <td>13.000000</td>\n",
       "      <td>9.000000</td>\n",
       "    </tr>\n",
       "  </tbody>\n",
       "</table>\n",
       "</div>"
      ],
      "text/plain": [
       "          Season   # of Men  # of Women  Total Votes for Men  \\\n",
       "count  40.000000  40.000000   40.000000            40.000000   \n",
       "mean   20.500000   1.350000    1.275000             5.300000   \n",
       "std    11.690452   0.769615    0.715667             3.962646   \n",
       "min     1.000000   0.000000    0.000000             0.000000   \n",
       "25%    10.750000   1.000000    1.000000             1.750000   \n",
       "50%    20.500000   1.000000    1.000000             5.000000   \n",
       "75%    30.250000   2.000000    2.000000             9.000000   \n",
       "max    40.000000   3.000000    3.000000            13.000000   \n",
       "\n",
       "       Total Votes for Women  \n",
       "count              40.000000  \n",
       "mean                3.175000  \n",
       "std                 3.185605  \n",
       "min                 0.000000  \n",
       "25%                 0.000000  \n",
       "50%                 2.000000  \n",
       "75%                 7.000000  \n",
       "max                 9.000000  "
      ]
     },
     "execution_count": 382,
     "metadata": {},
     "output_type": "execute_result"
    }
   ],
   "source": [
    "votes_FTC.describe()"
   ]
  },
  {
   "cell_type": "code",
   "execution_count": 381,
   "id": "later-cathedral",
   "metadata": {},
   "outputs": [
    {
     "data": {
      "text/html": [
       "<div>\n",
       "<style scoped>\n",
       "    .dataframe tbody tr th:only-of-type {\n",
       "        vertical-align: middle;\n",
       "    }\n",
       "\n",
       "    .dataframe tbody tr th {\n",
       "        vertical-align: top;\n",
       "    }\n",
       "\n",
       "    .dataframe thead th {\n",
       "        text-align: right;\n",
       "    }\n",
       "</style>\n",
       "<table border=\"1\" class=\"dataframe\">\n",
       "  <thead>\n",
       "    <tr style=\"text-align: right;\">\n",
       "      <th></th>\n",
       "      <th>Total Votes for Men</th>\n",
       "      <th>Total Votes for Women</th>\n",
       "    </tr>\n",
       "  </thead>\n",
       "  <tbody>\n",
       "    <tr>\n",
       "      <th>count</th>\n",
       "      <td>40.000000</td>\n",
       "      <td>40.000000</td>\n",
       "    </tr>\n",
       "    <tr>\n",
       "      <th>mean</th>\n",
       "      <td>5.300000</td>\n",
       "      <td>3.175000</td>\n",
       "    </tr>\n",
       "    <tr>\n",
       "      <th>std</th>\n",
       "      <td>3.962646</td>\n",
       "      <td>3.185605</td>\n",
       "    </tr>\n",
       "    <tr>\n",
       "      <th>min</th>\n",
       "      <td>0.000000</td>\n",
       "      <td>0.000000</td>\n",
       "    </tr>\n",
       "    <tr>\n",
       "      <th>25%</th>\n",
       "      <td>1.750000</td>\n",
       "      <td>0.000000</td>\n",
       "    </tr>\n",
       "    <tr>\n",
       "      <th>50%</th>\n",
       "      <td>5.000000</td>\n",
       "      <td>2.000000</td>\n",
       "    </tr>\n",
       "    <tr>\n",
       "      <th>75%</th>\n",
       "      <td>9.000000</td>\n",
       "      <td>7.000000</td>\n",
       "    </tr>\n",
       "    <tr>\n",
       "      <th>max</th>\n",
       "      <td>13.000000</td>\n",
       "      <td>9.000000</td>\n",
       "    </tr>\n",
       "  </tbody>\n",
       "</table>\n",
       "</div>"
      ],
      "text/plain": [
       "       Total Votes for Men  Total Votes for Women\n",
       "count            40.000000              40.000000\n",
       "mean              5.300000               3.175000\n",
       "std               3.962646               3.185605\n",
       "min               0.000000               0.000000\n",
       "25%               1.750000               0.000000\n",
       "50%               5.000000               2.000000\n",
       "75%               9.000000               7.000000\n",
       "max              13.000000               9.000000"
      ]
     },
     "execution_count": 381,
     "metadata": {},
     "output_type": "execute_result"
    }
   ],
   "source": [
    "votes_FTC[['Total Votes for Men', 'Total Votes for Women']].describe()"
   ]
  },
  {
   "cell_type": "markdown",
   "id": "gentle-inflation",
   "metadata": {},
   "source": [
    "Here is a 5-number summary, plus count, mean, and std of the 2 columns that have the most volatility in data (basically the other columns are not a very compelling 5-number summary). We can see in all but the min, the men get more votes at a FTC. "
   ]
  },
  {
   "cell_type": "code",
   "execution_count": 422,
   "id": "actual-state",
   "metadata": {},
   "outputs": [
    {
     "data": {
      "text/plain": [
       "<AxesSubplot:>"
      ]
     },
     "execution_count": 422,
     "metadata": {},
     "output_type": "execute_result"
    },
    {
     "data": {
      "image/png": "[encoded data removed]",
      "text/plain": [
       "<Figure size 432x288 with 1 Axes>"
      ]
     },
     "metadata": {
      "needs_background": "light"
     },
     "output_type": "display_data"
    }
   ],
   "source": [
    "votes_FTC.boxplot(column=['Total Votes for Men', 'Total Votes for Women'])"
   ]
  },
  {
   "cell_type": "markdown",
   "id": "worse-complexity",
   "metadata": {},
   "source": [
    "There is an interesting trend of women getting 3rd place and receiving 0 votes. There are enough 0-vote-finalist women to make the Q1 still at 0. Meanwhile, the Q1 for men is 1.75 because of less 0-vote-finalists that are men. "
   ]
  },
  {
   "cell_type": "markdown",
   "id": "proud-hawaii",
   "metadata": {},
   "source": [
    "This dataset is mainly compelling because of its comparison of men versus women. So, the seasons where it is all men or all women in a FTC are not that interesting here. Because if there are all women competing in a FTC, then of course women will get all the votes and men will not get any, or vice versa. So, let's remove all rows with 0 men or 0 women at a FTC."
   ]
  },
  {
   "cell_type": "code",
   "execution_count": 423,
   "id": "molecular-green",
   "metadata": {},
   "outputs": [
    {
     "data": {
      "text/html": [
       "<div>\n",
       "<style scoped>\n",
       "    .dataframe tbody tr th:only-of-type {\n",
       "        vertical-align: middle;\n",
       "    }\n",
       "\n",
       "    .dataframe tbody tr th {\n",
       "        vertical-align: top;\n",
       "    }\n",
       "\n",
       "    .dataframe thead th {\n",
       "        text-align: right;\n",
       "    }\n",
       "</style>\n",
       "<table border=\"1\" class=\"dataframe\">\n",
       "  <thead>\n",
       "    <tr style=\"text-align: right;\">\n",
       "      <th></th>\n",
       "      <th>Season</th>\n",
       "      <th>First</th>\n",
       "      <th>Second</th>\n",
       "      <th>Third</th>\n",
       "      <th># of Men</th>\n",
       "      <th># of Women</th>\n",
       "      <th>Total Votes for Men</th>\n",
       "      <th>Total Votes for Women</th>\n",
       "    </tr>\n",
       "  </thead>\n",
       "  <tbody>\n",
       "    <tr>\n",
       "      <th>6</th>\n",
       "      <td>4.0</td>\n",
       "      <td>Vecepia</td>\n",
       "      <td>Neleh</td>\n",
       "      <td>NaN</td>\n",
       "      <td>0.0</td>\n",
       "      <td>2.0</td>\n",
       "      <td>0.0</td>\n",
       "      <td>7.0</td>\n",
       "    </tr>\n",
       "    <tr>\n",
       "      <th>8</th>\n",
       "      <td>5.0</td>\n",
       "      <td>Brian</td>\n",
       "      <td>Clay</td>\n",
       "      <td>NaN</td>\n",
       "      <td>2.0</td>\n",
       "      <td>0.0</td>\n",
       "      <td>7.0</td>\n",
       "      <td>0.0</td>\n",
       "    </tr>\n",
       "    <tr>\n",
       "      <th>12</th>\n",
       "      <td>7.0</td>\n",
       "      <td>Sandra</td>\n",
       "      <td>Lil</td>\n",
       "      <td>NaN</td>\n",
       "      <td>0.0</td>\n",
       "      <td>2.0</td>\n",
       "      <td>0.0</td>\n",
       "      <td>7.0</td>\n",
       "    </tr>\n",
       "    <tr>\n",
       "      <th>20</th>\n",
       "      <td>11.0</td>\n",
       "      <td>Dannie</td>\n",
       "      <td>Stephenie</td>\n",
       "      <td>NaN</td>\n",
       "      <td>0.0</td>\n",
       "      <td>2.0</td>\n",
       "      <td>0.0</td>\n",
       "      <td>7.0</td>\n",
       "    </tr>\n",
       "    <tr>\n",
       "      <th>30</th>\n",
       "      <td>16.0</td>\n",
       "      <td>Parvati</td>\n",
       "      <td>Amanda</td>\n",
       "      <td>NaN</td>\n",
       "      <td>0.0</td>\n",
       "      <td>2.0</td>\n",
       "      <td>0.0</td>\n",
       "      <td>8.0</td>\n",
       "    </tr>\n",
       "    <tr>\n",
       "      <th>34</th>\n",
       "      <td>18.0</td>\n",
       "      <td>JT</td>\n",
       "      <td>Stephen</td>\n",
       "      <td>NaN</td>\n",
       "      <td>2.0</td>\n",
       "      <td>0.0</td>\n",
       "      <td>7.0</td>\n",
       "      <td>0.0</td>\n",
       "    </tr>\n",
       "    <tr>\n",
       "      <th>40</th>\n",
       "      <td>21.0</td>\n",
       "      <td>Fabio</td>\n",
       "      <td>Chase</td>\n",
       "      <td>Sash</td>\n",
       "      <td>3.0</td>\n",
       "      <td>0.0</td>\n",
       "      <td>9.0</td>\n",
       "      <td>0.0</td>\n",
       "    </tr>\n",
       "    <tr>\n",
       "      <th>46</th>\n",
       "      <td>24.0</td>\n",
       "      <td>Kim</td>\n",
       "      <td>Sabrina</td>\n",
       "      <td>Chelsea</td>\n",
       "      <td>0.0</td>\n",
       "      <td>3.0</td>\n",
       "      <td>0.0</td>\n",
       "      <td>9.0</td>\n",
       "    </tr>\n",
       "    <tr>\n",
       "      <th>54</th>\n",
       "      <td>28.0</td>\n",
       "      <td>Tony</td>\n",
       "      <td>Woo</td>\n",
       "      <td>NaN</td>\n",
       "      <td>2.0</td>\n",
       "      <td>0.0</td>\n",
       "      <td>9.0</td>\n",
       "      <td>0.0</td>\n",
       "    </tr>\n",
       "    <tr>\n",
       "      <th>56</th>\n",
       "      <td>29.0</td>\n",
       "      <td>Natalie</td>\n",
       "      <td>Jaclyn</td>\n",
       "      <td>Missy</td>\n",
       "      <td>0.0</td>\n",
       "      <td>3.0</td>\n",
       "      <td>0.0</td>\n",
       "      <td>8.0</td>\n",
       "    </tr>\n",
       "  </tbody>\n",
       "</table>\n",
       "</div>"
      ],
      "text/plain": [
       "    Season    First     Second    Third  # of Men  # of Women  \\\n",
       "6      4.0  Vecepia      Neleh      NaN       0.0         2.0   \n",
       "8      5.0    Brian       Clay      NaN       2.0         0.0   \n",
       "12     7.0   Sandra        Lil      NaN       0.0         2.0   \n",
       "20    11.0   Dannie  Stephenie      NaN       0.0         2.0   \n",
       "30    16.0  Parvati     Amanda      NaN       0.0         2.0   \n",
       "34    18.0       JT    Stephen      NaN       2.0         0.0   \n",
       "40    21.0    Fabio      Chase     Sash       3.0         0.0   \n",
       "46    24.0      Kim    Sabrina  Chelsea       0.0         3.0   \n",
       "54    28.0     Tony        Woo      NaN       2.0         0.0   \n",
       "56    29.0  Natalie     Jaclyn    Missy       0.0         3.0   \n",
       "\n",
       "    Total Votes for Men  Total Votes for Women  \n",
       "6                   0.0                    7.0  \n",
       "8                   7.0                    0.0  \n",
       "12                  0.0                    7.0  \n",
       "20                  0.0                    7.0  \n",
       "30                  0.0                    8.0  \n",
       "34                  7.0                    0.0  \n",
       "40                  9.0                    0.0  \n",
       "46                  0.0                    9.0  \n",
       "54                  9.0                    0.0  \n",
       "56                  0.0                    8.0  "
      ]
     },
     "execution_count": 423,
     "metadata": {},
     "output_type": "execute_result"
    }
   ],
   "source": [
    "## Gives all the rows with 0 men or 0 women, which helps to make the list of the rows to remove\n",
    "votes_FTC[(votes_FTC['# of Men'] == 0) | (votes_FTC['# of Women'] == 0)]"
   ]
  },
  {
   "cell_type": "code",
   "execution_count": 424,
   "id": "million-evolution",
   "metadata": {},
   "outputs": [],
   "source": [
    "rows_to_drop = np.array([6,7,8,9,12,13,20,21,30,31,34,35,40,41,46,47,54,55,56,57])\n",
    "## Note: Because of the quirky indices of the rows, each season has 2 rows, hence why I have to always count 2 indices in the array\n",
    "votes_FTC = votes_FTC.drop(rows_to_drop)"
   ]
  },
  {
   "cell_type": "markdown",
   "id": "thrown-version",
   "metadata": {},
   "source": [
    "Now that we are more directly looking at men versus women, let's look at this new data."
   ]
  },
  {
   "cell_type": "code",
   "execution_count": 428,
   "id": "incorporated-vatican",
   "metadata": {},
   "outputs": [
    {
     "data": {
      "text/html": [
       "<div>\n",
       "<style scoped>\n",
       "    .dataframe tbody tr th:only-of-type {\n",
       "        vertical-align: middle;\n",
       "    }\n",
       "\n",
       "    .dataframe tbody tr th {\n",
       "        vertical-align: top;\n",
       "    }\n",
       "\n",
       "    .dataframe thead th {\n",
       "        text-align: right;\n",
       "    }\n",
       "</style>\n",
       "<table border=\"1\" class=\"dataframe\">\n",
       "  <thead>\n",
       "    <tr style=\"text-align: right;\">\n",
       "      <th></th>\n",
       "      <th>Total Votes for Men</th>\n",
       "      <th>Total Votes for Women</th>\n",
       "    </tr>\n",
       "  </thead>\n",
       "  <tbody>\n",
       "    <tr>\n",
       "      <th>count</th>\n",
       "      <td>30.000000</td>\n",
       "      <td>30.000000</td>\n",
       "    </tr>\n",
       "    <tr>\n",
       "      <th>mean</th>\n",
       "      <td>6.000000</td>\n",
       "      <td>2.700000</td>\n",
       "    </tr>\n",
       "    <tr>\n",
       "      <th>std</th>\n",
       "      <td>3.695291</td>\n",
       "      <td>2.781094</td>\n",
       "    </tr>\n",
       "    <tr>\n",
       "      <th>min</th>\n",
       "      <td>0.000000</td>\n",
       "      <td>0.000000</td>\n",
       "    </tr>\n",
       "    <tr>\n",
       "      <th>25%</th>\n",
       "      <td>3.000000</td>\n",
       "      <td>0.000000</td>\n",
       "    </tr>\n",
       "    <tr>\n",
       "      <th>50%</th>\n",
       "      <td>5.500000</td>\n",
       "      <td>2.000000</td>\n",
       "    </tr>\n",
       "    <tr>\n",
       "      <th>75%</th>\n",
       "      <td>9.000000</td>\n",
       "      <td>4.000000</td>\n",
       "    </tr>\n",
       "    <tr>\n",
       "      <th>max</th>\n",
       "      <td>13.000000</td>\n",
       "      <td>9.000000</td>\n",
       "    </tr>\n",
       "  </tbody>\n",
       "</table>\n",
       "</div>"
      ],
      "text/plain": [
       "       Total Votes for Men  Total Votes for Women\n",
       "count            30.000000              30.000000\n",
       "mean              6.000000               2.700000\n",
       "std               3.695291               2.781094\n",
       "min               0.000000               0.000000\n",
       "25%               3.000000               0.000000\n",
       "50%               5.500000               2.000000\n",
       "75%               9.000000               4.000000\n",
       "max              13.000000               9.000000"
      ]
     },
     "execution_count": 428,
     "metadata": {},
     "output_type": "execute_result"
    }
   ],
   "source": [
    "votes_FTC[['Total Votes for Men', 'Total Votes for Women']].describe()"
   ]
  },
  {
   "cell_type": "code",
   "execution_count": 426,
   "id": "olive-edward",
   "metadata": {},
   "outputs": [
    {
     "data": {
      "text/plain": [
       "<AxesSubplot:>"
      ]
     },
     "execution_count": 426,
     "metadata": {},
     "output_type": "execute_result"
    },
    {
     "data": {
      "image/png": "[encoded data removed]",
      "text/plain": [
       "<Figure size 432x288 with 1 Axes>"
      ]
     },
     "metadata": {
      "needs_background": "light"
     },
     "output_type": "display_data"
    }
   ],
   "source": [
    "votes_FTC.boxplot(column=['Total Votes for Men', 'Total Votes for Women'])"
   ]
  },
  {
   "cell_type": "markdown",
   "id": "binary-pension",
   "metadata": {},
   "source": [
    "We can see that when it is men versus women, the disparity is even larger. "
   ]
  },
  {
   "cell_type": "code",
   "execution_count": null,
   "id": "numerous-investing",
   "metadata": {},
   "outputs": [],
   "source": []
  }
 ],
 "metadata": {
  "kernelspec": {
   "display_name": "Python 3",
   "language": "python",
   "name": "python3"
  },
  "language_info": {
   "codemirror_mode": {
    "name": "ipython",
    "version": 3
   },
   "file_extension": ".py",
   "mimetype": "text/x-python",
   "name": "python",
   "nbconvert_exporter": "python",
   "pygments_lexer": "ipython3",
   "version": "3.9.2"
  }
 },
 "nbformat": 4,
 "nbformat_minor": 5
}

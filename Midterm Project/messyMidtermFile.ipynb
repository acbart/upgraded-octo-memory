{
 "cells": [
  {
   "cell_type": "markdown",
   "id": "affecting-surface",
   "metadata": {},
   "source": [
    "# **Sexism in \"Survivor\"**"
   ]
  },
  {
   "cell_type": "code",
   "execution_count": 318,
   "id": "processed-founder",
   "metadata": {},
   "outputs": [],
   "source": [
    "import pandas as pd\n",
    "import numpy as np\n",
    "import seaborn as sns\n",
    "from matplotlib import pyplot as plt\n",
    "from scipy import stats"
   ]
  },
  {
   "cell_type": "markdown",
   "id": "infinite-grave",
   "metadata": {},
   "source": [
    "## Data Analysis"
   ]
  },
  {
   "cell_type": "code",
   "execution_count": 78,
   "id": "broke-distance",
   "metadata": {},
   "outputs": [],
   "source": [
    "## Reading all the inputted datasets\n",
    "idols = pd.read_csv('idols_found.csv', skiprows = [86,87,88,89,90], usecols = [0,1,2,3])\n",
    "ind_imm = pd.read_csv('individual_immunity.csv', header = 1, skiprows = [203,204,205,206,207,208,209,210], usecols = [1,2,3,4,5,6])\n",
    "f4fire = pd.read_csv('final_4_fire.csv', header = 1, usecols = [1,2,3,4,5,6])\n",
    "conf_winners = pd.read_csv('conf_counts_winners.csv', header = 1, usecols = [1,2,3,4,5])\n",
    "votes_FTC = pd.read_csv('votes_Final_Tribal_Council.csv', header = 1, skiprows = [82,83,84], usecols = [1,2,3,4,5,6,7,8])\n",
    "## I had to strategically use the header, skiprows, and usecols parameters to trim specific sections of each spreadsheet"
   ]
  },
  {
   "cell_type": "markdown",
   "id": "matched-indiana",
   "metadata": {},
   "source": [
    "### Preliminary Data Cleaning and Organizing"
   ]
  },
  {
   "cell_type": "code",
   "execution_count": 303,
   "id": "consolidated-array",
   "metadata": {},
   "outputs": [],
   "source": [
    "## Change Male and Female to Man and Woman\n",
    "ind_imm = ind_imm.replace(to_replace={'Male', 'Female'}, value={'Man', 'Woman'})\n",
    "\n",
    "## Change \"Sex\" to \"Gender\"\n",
    "ind_imm = ind_imm.rename(columns={\"Sex\": \" Gender\"})\n",
    "\n",
    "## Change \"Count\" to \"Count (Women)\"\n",
    "ind_imm = ind_imm.rename(columns={\"Count\": \"Count (Women)\"})\n",
    "## Actually I like \"Women Count\" as a better name\n",
    "ind_imm = ind_imm.rename(columns={\"Count (Women)\": \"Women Count\"})"
   ]
  },
  {
   "cell_type": "code",
   "execution_count": 304,
   "id": "found-retro",
   "metadata": {},
   "outputs": [],
   "source": [
    "## Change \"M/F\" to \"M/W\" for Man/Woman instead of Male/Female\n",
    "f4fire = f4fire.rename(columns={\"M/F\": \"M/W\"})\n",
    "## Actually \"M/W\" kind of looks weird. So I'll do \"Man/Woman\" instead\n",
    "f4fire = f4fire.rename(columns={\"M/W\": \"Man/Woman\"})\n",
    "\n",
    "## Change \"F\" for \"Female\" to \"W\" for \"Woman\"\n",
    "f4fire = f4fire.replace(to_replace={'W'}, value={'Woman'})\n",
    "## Actually, just make \"M\" and \"W\" into \"Man\" and \"Woman\" respectively\n",
    "f4fire = f4fire.replace(to_replace={'W'}, value={'Woman'})\n",
    "f4fire = f4fire.replace(to_replace={'M'}, value={'Man'})"
   ]
  },
  {
   "cell_type": "code",
   "execution_count": 305,
   "id": "reflected-demonstration",
   "metadata": {},
   "outputs": [],
   "source": [
    "## Change \"M/F\" to \"M/W\" for Man/Woman instead of Male/Female\n",
    "idols = idols.rename(columns={\"M/F\": \"M/W\"})\n",
    "## And then change that to \"M/W Count\"\n",
    "idols = idols.rename(columns={\"M/W\": \"M/W Count\"})"
   ]
  },
  {
   "cell_type": "code",
   "execution_count": 336,
   "id": "exciting-explanation",
   "metadata": {},
   "outputs": [],
   "source": [
    "## Need to add a Man/Woman column to the conf_winners dataset\n",
    "## There are more Men that have won than Women, so it is easier to make them all \"Man\" and change some to \"Woman\"\n",
    "conf_winners[\"Gender\"] = \"Man\"\n",
    "## Make an array of the indices of the Women winners\n",
    "women_indices = np.array([8,14,15,16,17,24,26,28,29,32,33,34,36,37,39])\n",
    "## Change those indices to have a Gender of \"Woman\"\n",
    "conf_winners.loc[women_indices, \"Gender\"] = \"Woman\"\n",
    "\n",
    "## Change the Natalie's to \"Natalie A\" and \"Natalie W\". They are different people.\n",
    "conf_winners.loc[24, 'Winner'] = \"Natalie A\"\n",
    "conf_winners.loc[39, 'Winner'] = \"Natalie W\""
   ]
  },
  {
   "cell_type": "markdown",
   "id": "essential-cholesterol",
   "metadata": {},
   "source": [
    "#### Now that we are done the preliminary setup, let's do some analysis! Of data! Data analysis if you will"
   ]
  },
  {
   "cell_type": "markdown",
   "id": "secure-locking",
   "metadata": {},
   "source": [
    "### Let's start with the Winner Confessionals Dataset"
   ]
  },
  {
   "cell_type": "code",
   "execution_count": 337,
   "id": "bibliographic-politics",
   "metadata": {},
   "outputs": [],
   "source": [
    "women_winners = conf_winners.groupby('Gender').size()[\"Woman\"] ## number of women winners\n",
    "men_winners = conf_winners.groupby('Gender').size()[\"Man\"] ## number of men winners\n",
    "total_women_conf = conf_winners.groupby('Gender')['# of Confessionals'].sum()[\"Woman\"] ## total confessionals by winning women\n",
    "total_men_conf = conf_winners.groupby('Gender')['# of Confessionals'].sum()[\"Man\"] ## total confessionals by winning men\n",
    "avg_women_conf = conf_winners.groupby('Gender')['# of Confessionals'].mean()[\"Woman\"] ## average confessionals by winning women\n",
    "avg_men_conf = conf_winners.groupby('Gender')['# of Confessionals'].mean()[\"Man\"] ## average confessionals by winning men"
   ]
  },
  {
   "cell_type": "code",
   "execution_count": 286,
   "id": "israeli-reggae",
   "metadata": {
    "tags": []
   },
   "outputs": [
    {
     "data": {
      "text/plain": [
       "(25, 15)"
      ]
     },
     "execution_count": 286,
     "metadata": {},
     "output_type": "execute_result"
    }
   ],
   "source": [
    "men_winners, women_winners"
   ]
  },
  {
   "cell_type": "markdown",
   "id": "annual-competition",
   "metadata": {},
   "source": [
    "We can see there are more men that have won (25) than women that have won (15)."
   ]
  },
  {
   "cell_type": "code",
   "execution_count": 287,
   "id": "subjective-venezuela",
   "metadata": {
    "tags": []
   },
   "outputs": [
    {
     "data": {
      "text/plain": [
       "(1484, 639)"
      ]
     },
     "execution_count": 287,
     "metadata": {},
     "output_type": "execute_result"
    }
   ],
   "source": [
    "total_men_conf, total_women_conf"
   ]
  },
  {
   "cell_type": "markdown",
   "id": "systematic-invitation",
   "metadata": {},
   "source": [
    "The total confessionals don't mean a ton on their own, but that is way more by men (over double of women)."
   ]
  },
  {
   "cell_type": "code",
   "execution_count": 288,
   "id": "unauthorized-advice",
   "metadata": {},
   "outputs": [
    {
     "data": {
      "text/plain": [
       "(59.36, 42.6)"
      ]
     },
     "execution_count": 288,
     "metadata": {},
     "output_type": "execute_result"
    }
   ],
   "source": [
    "avg_men_conf, avg_women_conf"
   ]
  },
  {
   "cell_type": "code",
   "execution_count": 134,
   "id": "physical-airplane",
   "metadata": {},
   "outputs": [
    {
     "data": {
      "text/plain": [
       "16.759999999999998"
      ]
     },
     "execution_count": 134,
     "metadata": {},
     "output_type": "execute_result"
    }
   ],
   "source": [
    "avg_men_conf - avg_women_conf ## difference between averages"
   ]
  },
  {
   "cell_type": "markdown",
   "id": "driven-satin",
   "metadata": {},
   "source": [
    "Wow now this is something. On average, a man that wins a season gets almost 17 more confessionals than a woman that wins. "
   ]
  },
  {
   "cell_type": "code",
   "execution_count": 130,
   "id": "robust-integration",
   "metadata": {},
   "outputs": [
    {
     "data": {
      "text/plain": [
       "39.34272300469483"
      ]
     },
     "execution_count": 130,
     "metadata": {},
     "output_type": "execute_result"
    }
   ],
   "source": [
    "((avg_men_conf/avg_women_conf) - 1)*100"
   ]
  },
  {
   "cell_type": "markdown",
   "id": "express-provision",
   "metadata": {},
   "source": [
    "Another way of putting it is that a man that wins gets 39.34% more confessionals than a woman that wins. That's a lot. \n",
    "For every 10 seconds a winning woman gets to tell of her story, a winning man gets almost 14 seconds. And in the grand scheme of a whole season, that becomes a considerable difference in who's perspective of the story is being told."
   ]
  },
  {
   "cell_type": "code",
   "execution_count": 340,
   "id": "marked-limit",
   "metadata": {},
   "outputs": [
    {
     "data": {
      "text/html": [
       "<div>\n",
       "<style scoped>\n",
       "    .dataframe tbody tr th:only-of-type {\n",
       "        vertical-align: middle;\n",
       "    }\n",
       "\n",
       "    .dataframe tbody tr th {\n",
       "        vertical-align: top;\n",
       "    }\n",
       "\n",
       "    .dataframe thead th {\n",
       "        text-align: right;\n",
       "    }\n",
       "</style>\n",
       "<table border=\"1\" class=\"dataframe\">\n",
       "  <thead>\n",
       "    <tr style=\"text-align: right;\">\n",
       "      <th></th>\n",
       "      <th>count</th>\n",
       "      <th>mean</th>\n",
       "      <th>std</th>\n",
       "      <th>min</th>\n",
       "      <th>25%</th>\n",
       "      <th>50%</th>\n",
       "      <th>75%</th>\n",
       "      <th>max</th>\n",
       "    </tr>\n",
       "    <tr>\n",
       "      <th>Gender</th>\n",
       "      <th></th>\n",
       "      <th></th>\n",
       "      <th></th>\n",
       "      <th></th>\n",
       "      <th></th>\n",
       "      <th></th>\n",
       "      <th></th>\n",
       "      <th></th>\n",
       "    </tr>\n",
       "  </thead>\n",
       "  <tbody>\n",
       "    <tr>\n",
       "      <th>Man</th>\n",
       "      <td>25.0</td>\n",
       "      <td>59.36</td>\n",
       "      <td>18.891974</td>\n",
       "      <td>23.0</td>\n",
       "      <td>48.0</td>\n",
       "      <td>59.0</td>\n",
       "      <td>71.0</td>\n",
       "      <td>97.0</td>\n",
       "    </tr>\n",
       "    <tr>\n",
       "      <th>Woman</th>\n",
       "      <td>15.0</td>\n",
       "      <td>42.60</td>\n",
       "      <td>14.266845</td>\n",
       "      <td>15.0</td>\n",
       "      <td>34.5</td>\n",
       "      <td>43.0</td>\n",
       "      <td>53.5</td>\n",
       "      <td>69.0</td>\n",
       "    </tr>\n",
       "  </tbody>\n",
       "</table>\n",
       "</div>"
      ],
      "text/plain": [
       "        count   mean        std   min   25%   50%   75%   max\n",
       "Gender                                                       \n",
       "Man      25.0  59.36  18.891974  23.0  48.0  59.0  71.0  97.0\n",
       "Woman    15.0  42.60  14.266845  15.0  34.5  43.0  53.5  69.0"
      ]
     },
     "execution_count": 340,
     "metadata": {},
     "output_type": "execute_result"
    }
   ],
   "source": [
    "conf_winners.groupby('Gender')['# of Confessionals'].describe()"
   ]
  },
  {
   "cell_type": "markdown",
   "id": "impressive-electricity",
   "metadata": {},
   "source": [
    "This 5 number summary, plus frequency, mean, and standard deviation shows how men consistently have a considerable amount of more confessionals than women. But let's look at a boxplot of these numbers to see it more visually. "
   ]
  },
  {
   "cell_type": "code",
   "execution_count": 226,
   "id": "yellow-flour",
   "metadata": {},
   "outputs": [
    {
     "data": {
      "text/plain": [
       "[Text(0.5, 0, 'Gender'), Text(0, 0.5, '# of Confessionals')]"
      ]
     },
     "execution_count": 226,
     "metadata": {},
     "output_type": "execute_result"
    },
    {
     "data": {
      "image/png": "[encoded data removed]",
      "text/plain": [
       "<Figure size 432x288 with 1 Axes>"
      ]
     },
     "metadata": {
      "needs_background": "light"
     },
     "output_type": "display_data"
    }
   ],
   "source": [
    "## Make array of confessional counts of women winners\n",
    "women_array = np.array(conf_winners.loc[women_indices, \"# of Confessionals\"])\n",
    "\n",
    "## Make array of confessional counts of men winners\n",
    "men_indices = np.array([0,1,2,3,4,5,6,7,9,10,11,12,13,18,19,20,21,22,23,25,30,31,35])\n",
    "men_array = np.array(conf_winners.loc[men_indices, \"# of Confessionals\"])\n",
    "\n",
    "all_arrays = [men_array, women_array]\n",
    "\n",
    "sns.boxplot(data = all_arrays, palette = ['dodgerblue', 'pink']).set(xlabel='Gender', ylabel='# of Confessionals')"
   ]
  },
  {
   "cell_type": "markdown",
   "id": "global-florida",
   "metadata": {},
   "source": [
    "We can see that the boxplot for confessionals by winning men (the blue one on the left) is generally much higher than the boxplot for confessionals by winning women. The median for women (43) is lower than men's Q1 (48), the Q3 for the women (53.5) is lower than the men's median (59), and the maximum for women (69) is around the men's Q3 (71). So, beyond just some tuples and numbers from before, we can see graphically that men who win just get more confessionals than women who win. "
   ]
  },
  {
   "cell_type": "code",
   "execution_count": 227,
   "id": "multiple-encyclopedia",
   "metadata": {},
   "outputs": [
    {
     "data": {
      "text/plain": [
       "Man           AxesSubplot(0.1,0.15;0.363636x0.75)\n",
       "Woman    AxesSubplot(0.536364,0.15;0.363636x0.75)\n",
       "dtype: object"
      ]
     },
     "execution_count": 227,
     "metadata": {},
     "output_type": "execute_result"
    },
    {
     "data": {
      "image/png": "[encoded data removed]",
      "text/plain": [
       "<Figure size 432x288 with 2 Axes>"
      ]
     },
     "metadata": {
      "needs_background": "light"
     },
     "output_type": "display_data"
    }
   ],
   "source": [
    "conf_winners.groupby('Gender').boxplot()"
   ]
  },
  {
   "cell_type": "markdown",
   "id": "residential-small",
   "metadata": {},
   "source": [
    "That was another way of doing a boxplot that I found, but it gets all jumbled on the bottom, it produces 2 separate graphs, and it does not have colors. I like the colors. "
   ]
  },
  {
   "cell_type": "code",
   "execution_count": 278,
   "id": "intended-summer",
   "metadata": {},
   "outputs": [
    {
     "data": {
      "text/plain": [
       "Gender\n",
       "Man      13\n",
       "Woman     2\n",
       "Name: Most in the Season?, dtype: int64"
      ]
     },
     "execution_count": 278,
     "metadata": {},
     "output_type": "execute_result"
    }
   ],
   "source": [
    "men_most_conf = conf_winners.groupby('Gender')['Most in the Season?'].sum()[\"Man\"]\n",
    "women_most_conf = conf_winners.groupby('Gender')['Most in the Season?'].sum()[\"Woman\"]\n",
    "total_most_conf = conf_winners.groupby('Gender')['Most in the Season?'].sum()\n",
    "total_most_conf"
   ]
  },
  {
   "cell_type": "markdown",
   "id": "level-allen",
   "metadata": {},
   "source": [
    "There are 13 winning men who had the most confessionals in their season, but only 2 winning women who had the most confessionals in their season."
   ]
  },
  {
   "cell_type": "code",
   "execution_count": 343,
   "id": "republican-narrative",
   "metadata": {},
   "outputs": [
    {
     "data": {
      "text/plain": [
       "(52.0, 13.33)"
      ]
     },
     "execution_count": 343,
     "metadata": {},
     "output_type": "execute_result"
    }
   ],
   "source": [
    "men_percent_most_conf = (men_most_conf / men_winners) * 100\n",
    "women_percent_most_conf = round((women_most_conf / women_winners) * 100, 2)\n",
    "men_percent_most_conf, women_percent_most_conf"
   ]
  },
  {
   "cell_type": "markdown",
   "id": "respiratory-definition",
   "metadata": {},
   "source": [
    "Another way to put it is that 52% of men who win have the most confessionals in their season, while only 13.33% of women who win have the most in their season. Men who win are given a much larger piece of the narrative and get to tell their story more."
   ]
  },
  {
   "cell_type": "markdown",
   "id": "blind-museum",
   "metadata": {},
   "source": [
    "### Now let's find trends in the Idols Found dataset"
   ]
  },
  {
   "cell_type": "code",
   "execution_count": 349,
   "id": "amino-comedy",
   "metadata": {},
   "outputs": [
    {
     "data": {
      "text/plain": [
       "4.233333333333333"
      ]
     },
     "execution_count": 349,
     "metadata": {},
     "output_type": "execute_result"
    }
   ],
   "source": [
    "total_idols = idols['# of Idols Found'].sum()\n",
    "idols_per_season = total_idols / 30 ## The hidden immunity idol was introduced in Season 11, so there have been 30 seasons with it\n",
    "idols_per_season"
   ]
  },
  {
   "cell_type": "markdown",
   "id": "confidential-rochester",
   "metadata": {},
   "source": [
    "There are about 4.2 hidden immunity idols found per season. This number helps set up some context for later numbers."
   ]
  },
  {
   "cell_type": "code",
   "execution_count": 308,
   "id": "invalid-tuning",
   "metadata": {},
   "outputs": [
    {
     "data": {
      "text/plain": [
       "(90, 37)"
      ]
     },
     "execution_count": 308,
     "metadata": {},
     "output_type": "execute_result"
    }
   ],
   "source": [
    "women_idols = idols['M/W Count'].sum()\n",
    "men_idols = total_idols - women_idols\n",
    "men_idols, women_idols"
   ]
  },
  {
   "cell_type": "markdown",
   "id": "unique-nutrition",
   "metadata": {},
   "source": [
    "We can see that men find many more idols than women, by a gigantic margin. "
   ]
  },
  {
   "cell_type": "code",
   "execution_count": 316,
   "id": "paperback-musician",
   "metadata": {},
   "outputs": [
    {
     "data": {
      "text/plain": [
       "(0.7086614173228346, 0.29133858267716534)"
      ]
     },
     "execution_count": 316,
     "metadata": {},
     "output_type": "execute_result"
    }
   ],
   "source": [
    "men_idols_percent = men_idols / total_idols\n",
    "women_idols_percent = women_idols / total_idols\n",
    "men_idols_percent, women_idols_percent"
   ]
  },
  {
   "cell_type": "markdown",
   "id": "undefined-lesbian",
   "metadata": {},
   "source": [
    "Men have found just under 71% of all idols while women have only found 29% of all idols. "
   ]
  },
  {
   "cell_type": "code",
   "execution_count": 310,
   "id": "portable-identification",
   "metadata": {},
   "outputs": [
    {
     "data": {
      "text/plain": [
       "2.4324324324324325"
      ]
     },
     "execution_count": 310,
     "metadata": {},
     "output_type": "execute_result"
    }
   ],
   "source": [
    "men_idols / women_idols"
   ]
  },
  {
   "cell_type": "markdown",
   "id": "virtual-cabin",
   "metadata": {},
   "source": [
    "For every 1 idol a woman finds, a man finds about 2.43 idols on average. That is a huge disparity and men clearly have an advantage when it comes to finding hidden immunity idols."
   ]
  },
  {
   "cell_type": "markdown",
   "id": "affected-prize",
   "metadata": {},
   "source": [
    "But let's do a statistical test to see if these numbers are statistically significant. We can do a binomial test with p=.5, n=127, and # of successes = 90. This represents the 90 idols men have found, out of 127 total, and if that is significantly beyond an even 50/50 probability of a man and woman having the same odds of finding an idol. And the significance value = .05"
   ]
  },
  {
   "cell_type": "code",
   "execution_count": 325,
   "id": "precious-pastor",
   "metadata": {},
   "outputs": [
    {
     "data": {
      "text/plain": [
       "2.872030486807263e-06"
      ]
     },
     "execution_count": 325,
     "metadata": {},
     "output_type": "execute_result"
    }
   ],
   "source": [
    "stats.binom_test(90, n=127, p=0.5)"
   ]
  },
  {
   "cell_type": "markdown",
   "id": "spiritual-sodium",
   "metadata": {},
   "source": [
    "We can see that if the probability was 50% for men to find an idol, then it is almost impossible for men to find this many idols. This is well under the significance value of .05, so we can conclude this is statistically significant. As in, the number of idols men have actually found is well beyond men and women each having an even 50% chance of finding an idol. So we can see that this is not equal and men have a significant advantage in finding hidden immunity idols.  "
   ]
  },
  {
   "cell_type": "code",
   "execution_count": 330,
   "id": "satisfactory-kinase",
   "metadata": {},
   "outputs": [
    {
     "data": {
      "text/plain": [
       "0.01414576527359386"
      ]
     },
     "execution_count": 330,
     "metadata": {},
     "output_type": "execute_result"
    }
   ],
   "source": [
    "stats.binom_test(90, n=127, p=0.6)"
   ]
  },
  {
   "cell_type": "markdown",
   "id": "initial-bracket",
   "metadata": {},
   "source": [
    "Even if we were to say men have a slight advantage in finding idols, so the probability is 60% for men, then still the numbers are still statistically significant with a significance value = .05. As in, men have significantly above a 60% chance of finding an idol, which becomes far from being equal."
   ]
  },
  {
   "cell_type": "markdown",
   "id": "detected-petite",
   "metadata": {},
   "source": [
    "### Let's also look at trends in the Individual Immunity Challenge Wins dataset"
   ]
  },
  {
   "cell_type": "code",
   "execution_count": 348,
   "id": "retired-section",
   "metadata": {},
   "outputs": [
    {
     "data": {
      "text/plain": [
       "8.65"
      ]
     },
     "execution_count": 348,
     "metadata": {},
     "output_type": "execute_result"
    }
   ],
   "source": [
    "total_ind_imm = ind_imm['# of Immunity Challenges Won'].sum()\n",
    "ind_imm_per_season = total_ind_imm / 40 ## There have been individual immunity challenges in all 40 seasons of Survivor\n",
    "ind_imm_per_season"
   ]
  },
  {
   "cell_type": "markdown",
   "id": "according-tribe",
   "metadata": {},
   "source": [
    "There are an average of 8.65 individual immunity challenges per season, which helps contextualize some other numbers we will look at. "
   ]
  },
  {
   "cell_type": "code",
   "execution_count": 353,
   "id": "hearing-vulnerability",
   "metadata": {},
   "outputs": [
    {
     "data": {
      "text/plain": [
       "(215, 131)"
      ]
     },
     "execution_count": 353,
     "metadata": {},
     "output_type": "execute_result"
    }
   ],
   "source": [
    "women_ind_imm = ind_imm['Women Count'].sum()\n",
    "men_ind_imm = total_ind_imm - women_ind_imm\n",
    "men_ind_imm, women_ind_imm"
   ]
  },
  {
   "cell_type": "code",
   "execution_count": 354,
   "id": "excellent-department",
   "metadata": {},
   "outputs": [
    {
     "data": {
      "text/plain": [
       "(0.6213872832369942, 0.3786127167630058)"
      ]
     },
     "execution_count": 354,
     "metadata": {},
     "output_type": "execute_result"
    }
   ],
   "source": [
    "men_indimm_percent = men_ind_imm / total_ind_imm\n",
    "women_indimm_percent = women_ind_imm / total_ind_imm\n",
    "men_indimm_percent, women_indimm_percent"
   ]
  },
  {
   "cell_type": "markdown",
   "id": "efficient-memorabilia",
   "metadata": {},
   "source": [
    "We can see that men win about 62.14% of individual immunity challenges, while women win about 37.86%. This seems to be well beyond an equal 50/50 odds, but let's do another binomial test for significance."
   ]
  },
  {
   "cell_type": "markdown",
   "id": "military-flash",
   "metadata": {},
   "source": [
    "Similar to the binomial test for the Idols, we will set p=.5, n=346, and # of success = 215 with a significance level of .05. These represent 50% odds of a man winning a challenge, the 346 total individual immunity challenge wins, and the 215 wins by men. So let's find the probability of men winning that many challenges. "
   ]
  },
  {
   "cell_type": "code",
   "execution_count": 356,
   "id": "divine-michigan",
   "metadata": {},
   "outputs": [
    {
     "data": {
      "text/plain": [
       "7.364729817165011e-06"
      ]
     },
     "execution_count": 356,
     "metadata": {},
     "output_type": "execute_result"
    }
   ],
   "source": [
    "stats.binom_test(215, n=346, p=0.5)"
   ]
  },
  {
   "cell_type": "markdown",
   "id": "endless-moscow",
   "metadata": {},
   "source": [
    "This probabiliy is far below our significance level of .05, which means men have won significantly more challenges than women. Which means the odds of winning a challenge for men are well above 50%. So, this is another category of the game where men have a noticeable advantage over women."
   ]
  },
  {
   "cell_type": "markdown",
   "id": "outer-breath",
   "metadata": {},
   "source": [
    "When men are finding significantly more idols than women and are winning considerably more challenges than women, these are more opportunities of power in the game of Survivor that are going to men. When a player plays an idol or possesses the immunity necklace (from winning an individual immunity challenge), that player is safe from receiving any votes for elimination. So, men having these advantages in the game directly helps them survive longer and gives them a higher chance to make it to Final Tribal Council, which is where the jury votes on the last 2/3 players remaining on who should win the game."
   ]
  },
  {
   "cell_type": "markdown",
   "id": "environmental-sauce",
   "metadata": {},
   "source": [
    "### Let's look at the breakdown of votes, by gender, at Final Tribal Council "
   ]
  },
  {
   "cell_type": "code",
   "execution_count": 363,
   "id": "vocal-association",
   "metadata": {},
   "outputs": [
    {
     "data": {
      "text/plain": [
       "(212, 127)"
      ]
     },
     "execution_count": 363,
     "metadata": {},
     "output_type": "execute_result"
    }
   ],
   "source": [
    "men_votes = int(votes_FTC['Total Votes for Men'].sum())\n",
    "women_votes = int(votes_FTC['Total Votes for Women'].sum())\n",
    "men_votes, women_votes"
   ]
  },
  {
   "cell_type": "code",
   "execution_count": null,
   "id": "aboriginal-liberty",
   "metadata": {},
   "outputs": [],
   "source": []
  }
 ],
 "metadata": {
  "kernelspec": {
   "display_name": "Python 3",
   "language": "python",
   "name": "python3"
  },
  "language_info": {
   "codemirror_mode": {
    "name": "ipython",
    "version": 3
   },
   "file_extension": ".py",
   "mimetype": "text/x-python",
   "name": "python",
   "nbconvert_exporter": "python",
   "pygments_lexer": "ipython3",
   "version": "3.9.2"
  }
 },
 "nbformat": 4,
 "nbformat_minor": 5
}

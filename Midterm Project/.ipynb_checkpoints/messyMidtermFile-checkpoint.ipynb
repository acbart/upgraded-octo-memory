{
 "cells": [
  {
   "cell_type": "markdown",
   "id": "monthly-illinois",
   "metadata": {},
   "source": [
    "# **Sexism in \"Survivor\"**"
   ]
  },
  {
   "cell_type": "markdown",
   "id": "willing-arlington",
   "metadata": {},
   "source": [
    "Let's talk about my favorite television show, Survivor! It's been around for 20 years, it has 40 seasons, and yes, it is still going on (Season 41 is being filmed as I type this!). For those who do not know, Survivor is a reality television show where they put between 16-20 strangers (well, usually strangers) on an island (or desert, rainforest, etc.) and they have to live with each other in their own little society. The fun part about Survivor is they get to vote people off of their tribe and do not live with them anymore. They start off split into (2-4) tribes and have challenges, with the losing tribe going to \"Tribal Council\", the place where they vote someone off. Eventually, they merge into 1 tribe and keep voting people off until there are only 2 or 3 people left. The people who have been voted off make up the jury and they vote for someone in the final 2/3 to win the season. And that's a qick gist of Survivor!\n",
    "\n",
    "Now even though it is my favorite show, it does come with its problems. One of the main ones is an inequality between men and women in Survivor. This exists in both the game of Survivor, in terms of how fair it is for men versus women, as well as in the show of Survivor, in how men versus women are portrayed on television. \n",
    "\n",
    "Also, there is a monumental distinction to make between the game of Survivor and the show of Survivor. The game of Survivor is what happens out there on the island and how the production behind the scenes controls the game, through different twists and such. While the show of Survivor is the product that we, as the viewer, see on television. The show is a product of what happens in the game (for that season) and is the result of cutting hundreds of hours of footage to display exactly what they want to show to the viewer. This distinction between the game and the show of Survivor is extremely important to clarify for this project.\n",
    "\n",
    "That distinction being made, there appears to be inherent sexism in many facets of the game of Survivor that benefit men. And in the show of Survivor that we watch, men are the ones who are more often given more screentime and are given more of a chance to explain their side of the narrative.\n",
    "\n",
    "Also, a note on what I mentioned about cutting hundreds of hours of footage and why that matters. Each season lasts 39 days and there are 13 or 14 episodes every season. So, on average, one 42 minute episode contains footage from about 3 days worth of gameplay, or 72 hours. And that is just counting 1 camera ... they have many, many cameras. So, the producers and editors have a boatlad of footage to use however they want to display their reality television characters. This means, not everything shown has to be entirely truthful or presented to us in the correct order that it happened. For example, they could get  clip of Jessica saying how annoying Phillip is on Day 20 and edit that to put it in the episode covering Day 10 and try to build up a (fake) storyline that Jessica wants to get Phillip out on Day 10. And this is the reality of reality television."
   ]
  },
  {
   "cell_type": "markdown",
   "id": "powered-notice",
   "metadata": {},
   "source": [
    "## Why is this important? "
   ]
  },
  {
   "cell_type": "markdown",
   "id": "first-camera",
   "metadata": {},
   "source": [
    "Survivor can often be viewed as a microcosm of society. As in, the disparity between men and women here in Survivor represents a bigger issue about society as whole. Most of the imbalances that exist in Survivor are because of their existence in society as a whole too, beyond just Survivor. As in, the way women are perceived compared to men in the real world translate to how their are perceived in the context of Survivor. So, when I dive into how women are portrayed on Survivor, that is relevant because it is connected to our pre-conceived beliefs of societal gender roles and has a much bigger impact than just on the game of Survivor. The data and information I will present in this project reflect some of the inherent bias in how we perceive men and women, at least in the more quantifiable ways. This will still be much more of a data-driven project, rather than a philosophical paper on gender roles, but it is important to draw the connection between sexism in Survivor and how that translates to sexism in real life.\n",
    "\n",
    "And the gender roles we see play out in Survivor can even have an impact on society. All 40 seasons of Survivor have pulled in millions of viewers, with [over 50 million in the finale of the first season](https://en.wikipedia.org/wiki/Survivor_(American_TV_series)) back in 2000, to a steady 7-8 million now. So, this is a show that has a [large influence on people](https://www.washingtonpost.com/news/arts-and-entertainment/wp/2015/05/29/survivor-changed-television-forever-and-it-still-endures-whats-the-secret/), [especially in American culture](https://www.theringer.com/tv/2020/5/12/21255075/survivor-legacy-40th-anniversary-reality-tv). The point is, people love Survivor (myself included!). And when people see men get rewarded and women get punished for more aggressive behavior in the game of Survivor, that builds up the narrative that it should be that way in society. This perpetuates the standard of men having power and being in higher-level positions more than women. Of course, there are many more factors beyond just Survivor, but with how large of a following it has, it definitely has an impact on society."
   ]
  },
  {
   "cell_type": "markdown",
   "id": "dominican-ticket",
   "metadata": {},
   "source": [
    "## Add section about sexism in society??"
   ]
  },
  {
   "cell_type": "markdown",
   "id": "filled-scotland",
   "metadata": {},
   "source": [
    "## Research Questions"
   ]
  },
  {
   "cell_type": "markdown",
   "id": "handed-bandwidth",
   "metadata": {},
   "source": [
    "- What is the distribution of hidden immunity idols (a hidden advantage in the game that players can find) found by gender? \n",
    "- What is the distribution of invidual immunity challenge wins by gender? \n",
    "- How many confessionals does each male winner have and how many does each female winner have? \n",
    "- How have men versus women faired in receiving votes (to win the season) at Final Tribal Council?"
   ]
  },
  {
   "cell_type": "markdown",
   "id": "thermal-respect",
   "metadata": {},
   "source": [
    "## Data Analysis"
   ]
  },
  {
   "cell_type": "code",
   "execution_count": 457,
   "id": "surface-occurrence",
   "metadata": {},
   "outputs": [],
   "source": [
    "import pandas as pd\n",
    "import numpy as np\n",
    "import seaborn as sns\n",
    "from matplotlib import pyplot as plt\n",
    "from scipy import stats"
   ]
  },
  {
   "cell_type": "code",
   "execution_count": 458,
   "id": "checked-uruguay",
   "metadata": {},
   "outputs": [],
   "source": [
    "## Reading all the inputted datasets\n",
    "idols = pd.read_csv('idols_found.csv', skiprows = [86,87,88,89,90], usecols = [0,1,2,3])\n",
    "ind_imm = pd.read_csv('individual_immunity.csv', header = 1, skiprows = [203,204,205,206,207,208,209,210], usecols = [1,2,3,4,5,6])\n",
    "f4fire = pd.read_csv('final_4_fire.csv', header = 1, usecols = [1,2,3,4,5,6])\n",
    "conf_winners = pd.read_csv('conf_counts_winners.csv', header = 1, usecols = [1,2,3,4,5])\n",
    "votes_FTC = pd.read_csv('votes_Final_Tribal_Council.csv', header = 1, skiprows = [82,83,84], usecols = [1,2,3,4,5,6,7,8])\n",
    "## I had to strategically use the header, skiprows, and usecols parameters to trim specific sections of each spreadsheet"
   ]
  },
  {
   "cell_type": "markdown",
   "id": "thousand-cotton",
   "metadata": {},
   "source": [
    "### Preliminary Data Cleaning and Organizing"
   ]
  },
  {
   "cell_type": "code",
   "execution_count": 459,
   "id": "acute-navigator",
   "metadata": {},
   "outputs": [],
   "source": [
    "## Change Male and Female to Man and Woman\n",
    "ind_imm = ind_imm.replace(to_replace={'Male', 'Female'}, value={'Man', 'Woman'})\n",
    "\n",
    "## Change \"Sex\" to \"Gender\"\n",
    "ind_imm = ind_imm.rename(columns={\"Sex\": \" Gender\"})\n",
    "\n",
    "## Change \"Count\" to \"Count (Women)\"\n",
    "ind_imm = ind_imm.rename(columns={\"Count\": \"Count (Women)\"})\n",
    "## Actually I like \"Women Count\" as a better name\n",
    "ind_imm = ind_imm.rename(columns={\"Count (Women)\": \"Women Count\"})"
   ]
  },
  {
   "cell_type": "code",
   "execution_count": 460,
   "id": "driving-cooler",
   "metadata": {},
   "outputs": [],
   "source": [
    "## Change \"M/F\" to \"M/W\" for Man/Woman instead of Male/Female\n",
    "f4fire = f4fire.rename(columns={\"M/F\": \"M/W\"})\n",
    "## Actually \"M/W\" kind of looks weird. So I'll do \"Man/Woman\" instead\n",
    "f4fire = f4fire.rename(columns={\"M/W\": \"Man/Woman\"})\n",
    "\n",
    "## Change \"F\" for \"Female\" to \"W\" for \"Woman\"\n",
    "f4fire = f4fire.replace(to_replace={'W'}, value={'Woman'})\n",
    "## Actually, just make \"M\" and \"W\" into \"Man\" and \"Woman\" respectively\n",
    "f4fire = f4fire.replace(to_replace={'W'}, value={'Woman'})\n",
    "f4fire = f4fire.replace(to_replace={'M'}, value={'Man'})"
   ]
  },
  {
   "cell_type": "code",
   "execution_count": 461,
   "id": "talented-absolute",
   "metadata": {},
   "outputs": [],
   "source": [
    "## Change \"M/F\" to \"M/W\" for Man/Woman instead of Male/Female\n",
    "idols = idols.rename(columns={\"M/F\": \"M/W\"})\n",
    "## And then change that to \"M/W Count\"\n",
    "idols = idols.rename(columns={\"M/W\": \"M/W Count\"})"
   ]
  },
  {
   "cell_type": "code",
   "execution_count": 462,
   "id": "cardiovascular-completion",
   "metadata": {},
   "outputs": [],
   "source": [
    "## Need to add a Man/Woman column to the conf_winners dataset\n",
    "## There are more Men that have won than Women, so it is easier to make them all \"Man\" and change some to \"Woman\"\n",
    "conf_winners[\"Gender\"] = \"Man\"\n",
    "## Make an array of the indices of the Women winners\n",
    "women_indices = np.array([8,14,15,16,17,24,26,28,29,32,33,34,36,37,39])\n",
    "## Change those indices to have a Gender of \"Woman\"\n",
    "conf_winners.loc[women_indices, \"Gender\"] = \"Woman\"\n",
    "\n",
    "## Change the Natalie's to \"Natalie A\" and \"Natalie W\". They are different people.\n",
    "conf_winners.loc[24, 'Winner'] = \"Natalie A\"\n",
    "conf_winners.loc[39, 'Winner'] = \"Natalie W\""
   ]
  },
  {
   "cell_type": "markdown",
   "id": "accredited-insert",
   "metadata": {},
   "source": [
    "#### Now that we are done the preliminary setup, let's do some analysis! Of data! Data analysis if you will"
   ]
  },
  {
   "cell_type": "markdown",
   "id": "commercial-quebec",
   "metadata": {},
   "source": [
    "### Let's start with the Winner Confessionals Dataset"
   ]
  },
  {
   "cell_type": "code",
   "execution_count": 337,
   "id": "forward-interpretation",
   "metadata": {},
   "outputs": [],
   "source": [
    "women_winners = conf_winners.groupby('Gender').size()[\"Woman\"] ## number of women winners\n",
    "men_winners = conf_winners.groupby('Gender').size()[\"Man\"] ## number of men winners\n",
    "total_women_conf = conf_winners.groupby('Gender')['# of Confessionals'].sum()[\"Woman\"] ## total confessionals by winning women\n",
    "total_men_conf = conf_winners.groupby('Gender')['# of Confessionals'].sum()[\"Man\"] ## total confessionals by winning men\n",
    "avg_women_conf = conf_winners.groupby('Gender')['# of Confessionals'].mean()[\"Woman\"] ## average confessionals by winning women\n",
    "avg_men_conf = conf_winners.groupby('Gender')['# of Confessionals'].mean()[\"Man\"] ## average confessionals by winning men"
   ]
  },
  {
   "cell_type": "code",
   "execution_count": 286,
   "id": "closed-stephen",
   "metadata": {
    "tags": []
   },
   "outputs": [
    {
     "data": {
      "text/plain": [
       "(25, 15)"
      ]
     },
     "execution_count": 286,
     "metadata": {},
     "output_type": "execute_result"
    }
   ],
   "source": [
    "men_winners, women_winners"
   ]
  },
  {
   "cell_type": "markdown",
   "id": "original-glasgow",
   "metadata": {},
   "source": [
    "We can see there are more men that have won (25) than women that have won (15)."
   ]
  },
  {
   "cell_type": "code",
   "execution_count": 287,
   "id": "psychological-contamination",
   "metadata": {
    "tags": []
   },
   "outputs": [
    {
     "data": {
      "text/plain": [
       "(1484, 639)"
      ]
     },
     "execution_count": 287,
     "metadata": {},
     "output_type": "execute_result"
    }
   ],
   "source": [
    "total_men_conf, total_women_conf"
   ]
  },
  {
   "cell_type": "markdown",
   "id": "black-utilization",
   "metadata": {},
   "source": [
    "The total confessionals don't necessarily mean a ton on their own, but that is way more by men (over double of the amount by women)."
   ]
  },
  {
   "cell_type": "code",
   "execution_count": 288,
   "id": "broken-numbers",
   "metadata": {},
   "outputs": [
    {
     "data": {
      "text/plain": [
       "(59.36, 42.6)"
      ]
     },
     "execution_count": 288,
     "metadata": {},
     "output_type": "execute_result"
    }
   ],
   "source": [
    "avg_men_conf, avg_women_conf"
   ]
  },
  {
   "cell_type": "code",
   "execution_count": 431,
   "id": "signed-institution",
   "metadata": {},
   "outputs": [
    {
     "data": {
      "text/plain": [
       "16.759999999999998"
      ]
     },
     "execution_count": 431,
     "metadata": {},
     "output_type": "execute_result"
    }
   ],
   "source": [
    "avg_men_conf - avg_women_conf ## difference between averages"
   ]
  },
  {
   "cell_type": "markdown",
   "id": "portuguese-tournament",
   "metadata": {},
   "source": [
    "Wow now this is something. On average, a man that wins a season gets almost 17 more confessionals than a woman that wins. "
   ]
  },
  {
   "cell_type": "code",
   "execution_count": 432,
   "id": "express-auditor",
   "metadata": {},
   "outputs": [
    {
     "data": {
      "text/plain": [
       "39.34272300469483"
      ]
     },
     "execution_count": 432,
     "metadata": {},
     "output_type": "execute_result"
    }
   ],
   "source": [
    "((avg_men_conf/avg_women_conf) - 1)*100"
   ]
  },
  {
   "cell_type": "markdown",
   "id": "republican-frost",
   "metadata": {},
   "source": [
    "Another way of putting it is that a man that wins gets 39.34% more confessionals than a woman that wins. That's a lot. \n",
    "For every 10 seconds a winning woman gets to tell of her story, a winning man gets almost 14 seconds. And in the grand scheme of a whole season, that becomes a considerable difference in who's perspective of the story is being told."
   ]
  },
  {
   "cell_type": "code",
   "execution_count": 340,
   "id": "indian-coupon",
   "metadata": {},
   "outputs": [
    {
     "data": {
      "text/html": [
       "<div>\n",
       "<style scoped>\n",
       "    .dataframe tbody tr th:only-of-type {\n",
       "        vertical-align: middle;\n",
       "    }\n",
       "\n",
       "    .dataframe tbody tr th {\n",
       "        vertical-align: top;\n",
       "    }\n",
       "\n",
       "    .dataframe thead th {\n",
       "        text-align: right;\n",
       "    }\n",
       "</style>\n",
       "<table border=\"1\" class=\"dataframe\">\n",
       "  <thead>\n",
       "    <tr style=\"text-align: right;\">\n",
       "      <th></th>\n",
       "      <th>count</th>\n",
       "      <th>mean</th>\n",
       "      <th>std</th>\n",
       "      <th>min</th>\n",
       "      <th>25%</th>\n",
       "      <th>50%</th>\n",
       "      <th>75%</th>\n",
       "      <th>max</th>\n",
       "    </tr>\n",
       "    <tr>\n",
       "      <th>Gender</th>\n",
       "      <th></th>\n",
       "      <th></th>\n",
       "      <th></th>\n",
       "      <th></th>\n",
       "      <th></th>\n",
       "      <th></th>\n",
       "      <th></th>\n",
       "      <th></th>\n",
       "    </tr>\n",
       "  </thead>\n",
       "  <tbody>\n",
       "    <tr>\n",
       "      <th>Man</th>\n",
       "      <td>25.0</td>\n",
       "      <td>59.36</td>\n",
       "      <td>18.891974</td>\n",
       "      <td>23.0</td>\n",
       "      <td>48.0</td>\n",
       "      <td>59.0</td>\n",
       "      <td>71.0</td>\n",
       "      <td>97.0</td>\n",
       "    </tr>\n",
       "    <tr>\n",
       "      <th>Woman</th>\n",
       "      <td>15.0</td>\n",
       "      <td>42.60</td>\n",
       "      <td>14.266845</td>\n",
       "      <td>15.0</td>\n",
       "      <td>34.5</td>\n",
       "      <td>43.0</td>\n",
       "      <td>53.5</td>\n",
       "      <td>69.0</td>\n",
       "    </tr>\n",
       "  </tbody>\n",
       "</table>\n",
       "</div>"
      ],
      "text/plain": [
       "        count   mean        std   min   25%   50%   75%   max\n",
       "Gender                                                       \n",
       "Man      25.0  59.36  18.891974  23.0  48.0  59.0  71.0  97.0\n",
       "Woman    15.0  42.60  14.266845  15.0  34.5  43.0  53.5  69.0"
      ]
     },
     "execution_count": 340,
     "metadata": {},
     "output_type": "execute_result"
    }
   ],
   "source": [
    "conf_winners.groupby('Gender')['# of Confessionals'].describe()"
   ]
  },
  {
   "cell_type": "markdown",
   "id": "valuable-protection",
   "metadata": {},
   "source": [
    "This 5 number summary, plus frequency, mean, and standard deviation shows how men consistently have a considerable amount of more confessionals than women. But let's look at a boxplot of these numbers to see it more visually. "
   ]
  },
  {
   "cell_type": "code",
   "execution_count": 226,
   "id": "banner-vertex",
   "metadata": {},
   "outputs": [
    {
     "data": {
      "text/plain": [
       "[Text(0.5, 0, 'Gender'), Text(0, 0.5, '# of Confessionals')]"
      ]
     },
     "execution_count": 226,
     "metadata": {},
     "output_type": "execute_result"
    },
    {
     "data": {
      "image/png": "[encoded data removed]",
      "text/plain": [
       "<Figure size 432x288 with 1 Axes>"
      ]
     },
     "metadata": {
      "needs_background": "light"
     },
     "output_type": "display_data"
    }
   ],
   "source": [
    "## Make array of confessional counts of women winners\n",
    "women_array = np.array(conf_winners.loc[women_indices, \"# of Confessionals\"])\n",
    "\n",
    "## Make array of confessional counts of men winners\n",
    "men_indices = np.array([0,1,2,3,4,5,6,7,9,10,11,12,13,18,19,20,21,22,23,25,30,31,35])\n",
    "men_array = np.array(conf_winners.loc[men_indices, \"# of Confessionals\"])\n",
    "\n",
    "all_arrays = [men_array, women_array]\n",
    "\n",
    "sns.boxplot(data = all_arrays, palette = ['dodgerblue', 'pink']).set(xlabel='Gender', ylabel='# of Confessionals')"
   ]
  },
  {
   "cell_type": "markdown",
   "id": "moderate-liverpool",
   "metadata": {},
   "source": [
    "We can see that the boxplot for confessionals by winning men (the blue one on the left) is generally much higher than the boxplot for confessionals by winning women. The median for women (43) is lower than men's Q1 (48), the Q3 for the women (53.5) is lower than the men's median (59), and the maximum for women (69) is around the men's Q3 (71). So, beyond just some tuples and numbers from before, we can see graphically that men who win just get more confessionals than women who win. "
   ]
  },
  {
   "cell_type": "code",
   "execution_count": 227,
   "id": "union-finder",
   "metadata": {},
   "outputs": [
    {
     "data": {
      "text/plain": [
       "Man           AxesSubplot(0.1,0.15;0.363636x0.75)\n",
       "Woman    AxesSubplot(0.536364,0.15;0.363636x0.75)\n",
       "dtype: object"
      ]
     },
     "execution_count": 227,
     "metadata": {},
     "output_type": "execute_result"
    },
    {
     "data": {
      "image/png": "[encoded data removed]",
      "text/plain": [
       "<Figure size 432x288 with 2 Axes>"
      ]
     },
     "metadata": {
      "needs_background": "light"
     },
     "output_type": "display_data"
    }
   ],
   "source": [
    "conf_winners.groupby('Gender').boxplot()"
   ]
  },
  {
   "cell_type": "markdown",
   "id": "boxed-prison",
   "metadata": {},
   "source": [
    "That was another way of doing a boxplot that I found, but it gets all jumbled on the bottom, it produces 2 separate graphs, and it does not have colors. I like the colors. "
   ]
  },
  {
   "cell_type": "code",
   "execution_count": 278,
   "id": "formed-wellington",
   "metadata": {},
   "outputs": [
    {
     "data": {
      "text/plain": [
       "Gender\n",
       "Man      13\n",
       "Woman     2\n",
       "Name: Most in the Season?, dtype: int64"
      ]
     },
     "execution_count": 278,
     "metadata": {},
     "output_type": "execute_result"
    }
   ],
   "source": [
    "men_most_conf = conf_winners.groupby('Gender')['Most in the Season?'].sum()[\"Man\"]\n",
    "women_most_conf = conf_winners.groupby('Gender')['Most in the Season?'].sum()[\"Woman\"]\n",
    "total_most_conf = conf_winners.groupby('Gender')['Most in the Season?'].sum()\n",
    "total_most_conf"
   ]
  },
  {
   "cell_type": "markdown",
   "id": "cosmetic-ivory",
   "metadata": {},
   "source": [
    "There are 13 winning men who had the most confessionals in their season, but only 2 winning women who had the most confessionals in their season."
   ]
  },
  {
   "cell_type": "code",
   "execution_count": 343,
   "id": "moderate-chrome",
   "metadata": {},
   "outputs": [
    {
     "data": {
      "text/plain": [
       "(52.0, 13.33)"
      ]
     },
     "execution_count": 343,
     "metadata": {},
     "output_type": "execute_result"
    }
   ],
   "source": [
    "men_percent_most_conf = (men_most_conf / men_winners) * 100\n",
    "women_percent_most_conf = round((women_most_conf / women_winners) * 100, 2)\n",
    "men_percent_most_conf, women_percent_most_conf"
   ]
  },
  {
   "cell_type": "markdown",
   "id": "grand-villa",
   "metadata": {},
   "source": [
    "Another way to put it is that 52% of men who win have the most confessionals in their season, while only 13.33% of women who win have the most in their season. Men who win are given a much larger piece of the narrative and get to tell their story more."
   ]
  },
  {
   "cell_type": "markdown",
   "id": "agreed-exception",
   "metadata": {},
   "source": [
    "### Now let's find trends in the Idols Found dataset"
   ]
  },
  {
   "cell_type": "code",
   "execution_count": 453,
   "id": "downtown-collector",
   "metadata": {},
   "outputs": [
    {
     "data": {
      "text/plain": [
       "4.233333333333333"
      ]
     },
     "execution_count": 453,
     "metadata": {},
     "output_type": "execute_result"
    }
   ],
   "source": [
    "total_idols = idols['# of Idols Found'].sum()\n",
    "idols_per_season = total_idols / 30 ## The hidden immunity idol was introduced in Season 11, so there have been 30 seasons with it\n",
    "idols_per_season"
   ]
  },
  {
   "cell_type": "markdown",
   "id": "under-salon",
   "metadata": {},
   "source": [
    "There are about 4.2 hidden immunity idols found per season. This number helps set up some context for later numbers."
   ]
  },
  {
   "cell_type": "code",
   "execution_count": 466,
   "id": "increased-movement",
   "metadata": {},
   "outputs": [
    {
     "data": {
      "text/plain": [
       "(90, 37)"
      ]
     },
     "execution_count": 466,
     "metadata": {},
     "output_type": "execute_result"
    }
   ],
   "source": [
    "women_idols = idols['M/W Count'].sum()\n",
    "men_idols = total_idols - women_idols\n",
    "\n",
    "men_idols, women_idols"
   ]
  },
  {
   "cell_type": "markdown",
   "id": "informal-soviet",
   "metadata": {},
   "source": [
    "We can see that men find many more idols than women, by a gigantic margin. "
   ]
  },
  {
   "cell_type": "code",
   "execution_count": 469,
   "id": "upset-failure",
   "metadata": {},
   "outputs": [
    {
     "data": {
      "text/plain": [
       "(0.7086614173228346, 0.29133858267716534)"
      ]
     },
     "execution_count": 469,
     "metadata": {},
     "output_type": "execute_result"
    }
   ],
   "source": [
    "men_idols_percent = men_idols / total_idols\n",
    "women_idols_percent = women_idols / total_idols\n",
    "\n",
    "men_idols_percent, women_idols_percent"
   ]
  },
  {
   "cell_type": "markdown",
   "id": "color-invention",
   "metadata": {
    "tags": []
   },
   "source": [
    "Men have found just under 71% of all idols while women have only found 29% of all idols. "
   ]
  },
  {
   "cell_type": "code",
   "execution_count": 468,
   "id": "necessary-support",
   "metadata": {},
   "outputs": [
    {
     "data": {
      "image/png": "[encoded data removed]",
      "text/plain": [
       "<Figure size 360x360 with 1 Axes>"
      ]
     },
     "metadata": {},
     "output_type": "display_data"
    }
   ],
   "source": [
    "idols_pie_data = [men_idols_percent, women_idols_percent]\n",
    "idols_pie_df = pd.DataFrame(idols_pie_data, index = ['Men', 'Women'], columns = ['% of Idols Found'])\n",
    "idols_pie_df.plot.pie(y='% of Idols Found', colors=['dodgerblue', 'pink'], figsize=(5, 5), title=\"Distribution of Idols found by Gender\", autopct='%1.1f%%', fontsize=20)\n",
    "plt.show()"
   ]
  },
  {
   "cell_type": "code",
   "execution_count": 310,
   "id": "increasing-officer",
   "metadata": {},
   "outputs": [
    {
     "data": {
      "text/plain": [
       "2.4324324324324325"
      ]
     },
     "execution_count": 310,
     "metadata": {},
     "output_type": "execute_result"
    }
   ],
   "source": [
    "men_idols / women_idols"
   ]
  },
  {
   "cell_type": "markdown",
   "id": "mature-unemployment",
   "metadata": {},
   "source": [
    "For every 1 idol a woman finds, a man finds about 2.43 idols on average. That is a huge disparity and men clearly have an advantage when it comes to finding hidden immunity idols."
   ]
  },
  {
   "cell_type": "markdown",
   "id": "athletic-fitting",
   "metadata": {},
   "source": [
    "But let's do a statistical test to see if these numbers are statistically significant. We can do a binomial test with p=.5, n=127, and # of successes = 90. This represents the 90 idols men have found, out of 127 total, and if that is significantly beyond an even 50/50 probability of a man and woman having the same odds of finding an idol. And the significance value = .05"
   ]
  },
  {
   "cell_type": "code",
   "execution_count": 325,
   "id": "supreme-custom",
   "metadata": {},
   "outputs": [
    {
     "data": {
      "text/plain": [
       "2.872030486807263e-06"
      ]
     },
     "execution_count": 325,
     "metadata": {},
     "output_type": "execute_result"
    }
   ],
   "source": [
    "stats.binom_test(90, n=127, p=0.5)"
   ]
  },
  {
   "cell_type": "markdown",
   "id": "deadly-gambling",
   "metadata": {},
   "source": [
    "We can see that if the probability was 50% for men to find an idol, then it is almost impossible for men to find this many idols. This is well under the significance value of .05, so we can conclude this is statistically significant. As in, the number of idols men have actually found is well beyond men and women each having an even 50% chance of finding an idol. So we can see that this is not equal and men have a significant advantage in finding hidden immunity idols.  "
   ]
  },
  {
   "cell_type": "code",
   "execution_count": 330,
   "id": "economic-chancellor",
   "metadata": {},
   "outputs": [
    {
     "data": {
      "text/plain": [
       "0.01414576527359386"
      ]
     },
     "execution_count": 330,
     "metadata": {},
     "output_type": "execute_result"
    }
   ],
   "source": [
    "stats.binom_test(90, n=127, p=0.6)"
   ]
  },
  {
   "cell_type": "markdown",
   "id": "seeing-picture",
   "metadata": {},
   "source": [
    "Even if we were to say men have a slight advantage in finding idols, so the probability is 60% for men, then still the numbers are still statistically significant with a significance value = .05. As in, men have significantly above a 60% chance of finding an idol, which becomes far from being equal."
   ]
  },
  {
   "cell_type": "markdown",
   "id": "periodic-associate",
   "metadata": {},
   "source": [
    "### Let's also look at trends in the Individual Immunity Challenge Wins dataset"
   ]
  },
  {
   "cell_type": "code",
   "execution_count": 348,
   "id": "quarterly-authorization",
   "metadata": {},
   "outputs": [
    {
     "data": {
      "text/plain": [
       "8.65"
      ]
     },
     "execution_count": 348,
     "metadata": {},
     "output_type": "execute_result"
    }
   ],
   "source": [
    "total_ind_imm = ind_imm['# of Immunity Challenges Won'].sum()\n",
    "ind_imm_per_season = total_ind_imm / 40 ## There have been individual immunity challenges in all 40 seasons of Survivor\n",
    "ind_imm_per_season"
   ]
  },
  {
   "cell_type": "markdown",
   "id": "close-complexity",
   "metadata": {},
   "source": [
    "There are an average of 8.65 individual immunity challenges per season, which helps contextualize some other numbers we will look at. "
   ]
  },
  {
   "cell_type": "code",
   "execution_count": 353,
   "id": "damaged-mailing",
   "metadata": {},
   "outputs": [
    {
     "data": {
      "text/plain": [
       "(215, 131)"
      ]
     },
     "execution_count": 353,
     "metadata": {},
     "output_type": "execute_result"
    }
   ],
   "source": [
    "women_ind_imm = ind_imm['Women Count'].sum()\n",
    "men_ind_imm = total_ind_imm - women_ind_imm\n",
    "men_ind_imm, women_ind_imm"
   ]
  },
  {
   "cell_type": "markdown",
   "id": "prerequisite-delay",
   "metadata": {},
   "source": [
    "Men have won a total of 215 individual immunity challenges throughout the history of the show while women have won 131, which is far less. "
   ]
  },
  {
   "cell_type": "code",
   "execution_count": 470,
   "id": "welsh-bridge",
   "metadata": {},
   "outputs": [
    {
     "data": {
      "text/plain": [
       "(5.375, 3.275)"
      ]
     },
     "execution_count": 470,
     "metadata": {},
     "output_type": "execute_result"
    }
   ],
   "source": [
    "men_indimm_avg = men_ind_imm / 40\n",
    "women_indimm_avg = women_ind_imm / 40\n",
    "men_indimm_avg, women_indimm_avg "
   ]
  },
  {
   "cell_type": "markdown",
   "id": "protecting-bumper",
   "metadata": {},
   "source": [
    "Averaging for all 40 seasons, men win just over 2 more challenges per season than women, which becomes a large disparity when there are 40 seasons! "
   ]
  },
  {
   "cell_type": "code",
   "execution_count": 354,
   "id": "metric-grass",
   "metadata": {},
   "outputs": [
    {
     "data": {
      "text/plain": [
       "(0.6213872832369942, 0.3786127167630058)"
      ]
     },
     "execution_count": 354,
     "metadata": {},
     "output_type": "execute_result"
    }
   ],
   "source": [
    "men_indimm_percent = men_ind_imm / total_ind_imm\n",
    "women_indimm_percent = women_ind_imm / total_ind_imm\n",
    "men_indimm_percent, women_indimm_percent"
   ]
  },
  {
   "cell_type": "markdown",
   "id": "loose-travel",
   "metadata": {},
   "source": [
    "We can see that men win about 62.14% of individual immunity challenges, while women win about 37.86%. This seems to be well beyond an equal 50/50 odds, but let's do another binomial test for significance."
   ]
  },
  {
   "cell_type": "markdown",
   "id": "matched-overall",
   "metadata": {},
   "source": [
    "Similar to the binomial test for the Idols, we will set p=.5, n=346, and # of success = 215 with a significance level of .05. These represent 50% odds of a man winning a challenge, the 346 total individual immunity challenge wins, and the 215 wins by men. So let's find the probability of men winning that many challenges. "
   ]
  },
  {
   "cell_type": "code",
   "execution_count": 356,
   "id": "applicable-restoration",
   "metadata": {},
   "outputs": [
    {
     "data": {
      "text/plain": [
       "7.364729817165011e-06"
      ]
     },
     "execution_count": 356,
     "metadata": {},
     "output_type": "execute_result"
    }
   ],
   "source": [
    "stats.binom_test(215, n=346, p=0.5)"
   ]
  },
  {
   "cell_type": "markdown",
   "id": "amended-blade",
   "metadata": {},
   "source": [
    "This probabiliy is far below our significance level of .05, which means men have won significantly more challenges than women. Which means the odds of winning a challenge for men are well above 50%. So, this is another category of the game where men have a noticeable advantage over women."
   ]
  },
  {
   "cell_type": "markdown",
   "id": "hispanic-salmon",
   "metadata": {},
   "source": [
    "When men are finding significantly more idols than women and are winning considerably more challenges than women, these are more opportunities of power in the game of Survivor that are going to men. When a player plays an idol or possesses the immunity necklace (from winning an individual immunity challenge), that player is safe from receiving any votes for elimination. So, men having these advantages in the game directly helps them survive longer and gives them a higher chance to make it to Final Tribal Council, which is where the jury votes on the last 2/3 players remaining on who should win the game."
   ]
  },
  {
   "cell_type": "markdown",
   "id": "taken-committee",
   "metadata": {},
   "source": [
    "### Let's look at the breakdown of votes, by gender, at Final Tribal Council "
   ]
  },
  {
   "cell_type": "code",
   "execution_count": 364,
   "id": "greatest-framing",
   "metadata": {},
   "outputs": [
    {
     "data": {
      "text/plain": [
       "(212, 127)"
      ]
     },
     "execution_count": 364,
     "metadata": {},
     "output_type": "execute_result"
    }
   ],
   "source": [
    "men_votes = int(votes_FTC['Total Votes for Men'].sum())\n",
    "women_votes = int(votes_FTC['Total Votes for Women'].sum())\n",
    "men_votes, women_votes"
   ]
  },
  {
   "cell_type": "markdown",
   "id": "checked-summit",
   "metadata": {},
   "source": [
    "In the history of the show, men have received 212 votes to win at a final tribal council, while women have only received 127."
   ]
  },
  {
   "cell_type": "code",
   "execution_count": 369,
   "id": "stone-consensus",
   "metadata": {},
   "outputs": [
    {
     "data": {
      "text/plain": [
       "(54, 51)"
      ]
     },
     "execution_count": 369,
     "metadata": {},
     "output_type": "execute_result"
    }
   ],
   "source": [
    "total_votes = men_votes + women_votes\n",
    "men_FTC = int(votes_FTC['# of Men'].sum()) ## total number of men to appear in Final Tribal Council (FTC)\n",
    "women_FTC = int(votes_FTC['# of Women'].sum()) ## total number of women to appear in FTC\n",
    "men_FTC, women_FTC"
   ]
  },
  {
   "cell_type": "markdown",
   "id": "altered-replacement",
   "metadata": {},
   "source": [
    "Despite there being almost the same amount of men (54) and women (51) to appear in a FTC, men have 85 more FTC votes to win than women do. Let's get the average amount of votes received per player, grouped by gender. "
   ]
  },
  {
   "cell_type": "code",
   "execution_count": 371,
   "id": "reasonable-ownership",
   "metadata": {},
   "outputs": [
    {
     "data": {
      "text/plain": [
       "(3.925925925925926, 2.4901960784313726)"
      ]
     },
     "execution_count": 371,
     "metadata": {},
     "output_type": "execute_result"
    }
   ],
   "source": [
    "votes_per_woman = women_votes / women_FTC\n",
    "votes_per_man = men_votes / men_FTC\n",
    "votes_per_man, votes_per_woman"
   ]
  },
  {
   "cell_type": "markdown",
   "id": "incorrect-print",
   "metadata": {},
   "source": [
    "Each man that appears in a FTC receives almost 4 votes on average, while each woman receives about 2.5 votes. "
   ]
  },
  {
   "cell_type": "code",
   "execution_count": 382,
   "id": "periodic-economy",
   "metadata": {},
   "outputs": [
    {
     "data": {
      "text/html": [
       "<div>\n",
       "<style scoped>\n",
       "    .dataframe tbody tr th:only-of-type {\n",
       "        vertical-align: middle;\n",
       "    }\n",
       "\n",
       "    .dataframe tbody tr th {\n",
       "        vertical-align: top;\n",
       "    }\n",
       "\n",
       "    .dataframe thead th {\n",
       "        text-align: right;\n",
       "    }\n",
       "</style>\n",
       "<table border=\"1\" class=\"dataframe\">\n",
       "  <thead>\n",
       "    <tr style=\"text-align: right;\">\n",
       "      <th></th>\n",
       "      <th>Season</th>\n",
       "      <th># of Men</th>\n",
       "      <th># of Women</th>\n",
       "      <th>Total Votes for Men</th>\n",
       "      <th>Total Votes for Women</th>\n",
       "    </tr>\n",
       "  </thead>\n",
       "  <tbody>\n",
       "    <tr>\n",
       "      <th>count</th>\n",
       "      <td>40.000000</td>\n",
       "      <td>40.000000</td>\n",
       "      <td>40.000000</td>\n",
       "      <td>40.000000</td>\n",
       "      <td>40.000000</td>\n",
       "    </tr>\n",
       "    <tr>\n",
       "      <th>mean</th>\n",
       "      <td>20.500000</td>\n",
       "      <td>1.350000</td>\n",
       "      <td>1.275000</td>\n",
       "      <td>5.300000</td>\n",
       "      <td>3.175000</td>\n",
       "    </tr>\n",
       "    <tr>\n",
       "      <th>std</th>\n",
       "      <td>11.690452</td>\n",
       "      <td>0.769615</td>\n",
       "      <td>0.715667</td>\n",
       "      <td>3.962646</td>\n",
       "      <td>3.185605</td>\n",
       "    </tr>\n",
       "    <tr>\n",
       "      <th>min</th>\n",
       "      <td>1.000000</td>\n",
       "      <td>0.000000</td>\n",
       "      <td>0.000000</td>\n",
       "      <td>0.000000</td>\n",
       "      <td>0.000000</td>\n",
       "    </tr>\n",
       "    <tr>\n",
       "      <th>25%</th>\n",
       "      <td>10.750000</td>\n",
       "      <td>1.000000</td>\n",
       "      <td>1.000000</td>\n",
       "      <td>1.750000</td>\n",
       "      <td>0.000000</td>\n",
       "    </tr>\n",
       "    <tr>\n",
       "      <th>50%</th>\n",
       "      <td>20.500000</td>\n",
       "      <td>1.000000</td>\n",
       "      <td>1.000000</td>\n",
       "      <td>5.000000</td>\n",
       "      <td>2.000000</td>\n",
       "    </tr>\n",
       "    <tr>\n",
       "      <th>75%</th>\n",
       "      <td>30.250000</td>\n",
       "      <td>2.000000</td>\n",
       "      <td>2.000000</td>\n",
       "      <td>9.000000</td>\n",
       "      <td>7.000000</td>\n",
       "    </tr>\n",
       "    <tr>\n",
       "      <th>max</th>\n",
       "      <td>40.000000</td>\n",
       "      <td>3.000000</td>\n",
       "      <td>3.000000</td>\n",
       "      <td>13.000000</td>\n",
       "      <td>9.000000</td>\n",
       "    </tr>\n",
       "  </tbody>\n",
       "</table>\n",
       "</div>"
      ],
      "text/plain": [
       "          Season   # of Men  # of Women  Total Votes for Men  \\\n",
       "count  40.000000  40.000000   40.000000            40.000000   \n",
       "mean   20.500000   1.350000    1.275000             5.300000   \n",
       "std    11.690452   0.769615    0.715667             3.962646   \n",
       "min     1.000000   0.000000    0.000000             0.000000   \n",
       "25%    10.750000   1.000000    1.000000             1.750000   \n",
       "50%    20.500000   1.000000    1.000000             5.000000   \n",
       "75%    30.250000   2.000000    2.000000             9.000000   \n",
       "max    40.000000   3.000000    3.000000            13.000000   \n",
       "\n",
       "       Total Votes for Women  \n",
       "count              40.000000  \n",
       "mean                3.175000  \n",
       "std                 3.185605  \n",
       "min                 0.000000  \n",
       "25%                 0.000000  \n",
       "50%                 2.000000  \n",
       "75%                 7.000000  \n",
       "max                 9.000000  "
      ]
     },
     "execution_count": 382,
     "metadata": {},
     "output_type": "execute_result"
    }
   ],
   "source": [
    "votes_FTC.describe()"
   ]
  },
  {
   "cell_type": "code",
   "execution_count": 381,
   "id": "coral-capacity",
   "metadata": {},
   "outputs": [
    {
     "data": {
      "text/html": [
       "<div>\n",
       "<style scoped>\n",
       "    .dataframe tbody tr th:only-of-type {\n",
       "        vertical-align: middle;\n",
       "    }\n",
       "\n",
       "    .dataframe tbody tr th {\n",
       "        vertical-align: top;\n",
       "    }\n",
       "\n",
       "    .dataframe thead th {\n",
       "        text-align: right;\n",
       "    }\n",
       "</style>\n",
       "<table border=\"1\" class=\"dataframe\">\n",
       "  <thead>\n",
       "    <tr style=\"text-align: right;\">\n",
       "      <th></th>\n",
       "      <th>Total Votes for Men</th>\n",
       "      <th>Total Votes for Women</th>\n",
       "    </tr>\n",
       "  </thead>\n",
       "  <tbody>\n",
       "    <tr>\n",
       "      <th>count</th>\n",
       "      <td>40.000000</td>\n",
       "      <td>40.000000</td>\n",
       "    </tr>\n",
       "    <tr>\n",
       "      <th>mean</th>\n",
       "      <td>5.300000</td>\n",
       "      <td>3.175000</td>\n",
       "    </tr>\n",
       "    <tr>\n",
       "      <th>std</th>\n",
       "      <td>3.962646</td>\n",
       "      <td>3.185605</td>\n",
       "    </tr>\n",
       "    <tr>\n",
       "      <th>min</th>\n",
       "      <td>0.000000</td>\n",
       "      <td>0.000000</td>\n",
       "    </tr>\n",
       "    <tr>\n",
       "      <th>25%</th>\n",
       "      <td>1.750000</td>\n",
       "      <td>0.000000</td>\n",
       "    </tr>\n",
       "    <tr>\n",
       "      <th>50%</th>\n",
       "      <td>5.000000</td>\n",
       "      <td>2.000000</td>\n",
       "    </tr>\n",
       "    <tr>\n",
       "      <th>75%</th>\n",
       "      <td>9.000000</td>\n",
       "      <td>7.000000</td>\n",
       "    </tr>\n",
       "    <tr>\n",
       "      <th>max</th>\n",
       "      <td>13.000000</td>\n",
       "      <td>9.000000</td>\n",
       "    </tr>\n",
       "  </tbody>\n",
       "</table>\n",
       "</div>"
      ],
      "text/plain": [
       "       Total Votes for Men  Total Votes for Women\n",
       "count            40.000000              40.000000\n",
       "mean              5.300000               3.175000\n",
       "std               3.962646               3.185605\n",
       "min               0.000000               0.000000\n",
       "25%               1.750000               0.000000\n",
       "50%               5.000000               2.000000\n",
       "75%               9.000000               7.000000\n",
       "max              13.000000               9.000000"
      ]
     },
     "execution_count": 381,
     "metadata": {},
     "output_type": "execute_result"
    }
   ],
   "source": [
    "votes_FTC[['Total Votes for Men', 'Total Votes for Women']].describe()"
   ]
  },
  {
   "cell_type": "markdown",
   "id": "olympic-evidence",
   "metadata": {},
   "source": [
    "Here is a 5-number summary, plus count, mean, and std of the 2 columns that have the most volatility in data (basically the other columns are not a very compelling 5-number summary). We can see in all but the min, the men get more votes at a FTC. "
   ]
  },
  {
   "cell_type": "code",
   "execution_count": 422,
   "id": "multiple-cleveland",
   "metadata": {},
   "outputs": [
    {
     "data": {
      "text/plain": [
       "<AxesSubplot:>"
      ]
     },
     "execution_count": 422,
     "metadata": {},
     "output_type": "execute_result"
    },
    {
     "data": {
      "image/png": "[encoded data removed]",
      "text/plain": [
       "<Figure size 432x288 with 1 Axes>"
      ]
     },
     "metadata": {
      "needs_background": "light"
     },
     "output_type": "display_data"
    }
   ],
   "source": [
    "votes_FTC.boxplot(column=['Total Votes for Men', 'Total Votes for Women'])"
   ]
  },
  {
   "cell_type": "markdown",
   "id": "great-daughter",
   "metadata": {},
   "source": [
    "There is an interesting trend of women getting 3rd place and receiving 0 votes. There are enough 0-vote-finalist women to make the Q1 still at 0. Meanwhile, the Q1 for men is 1.75 because of less 0-vote-finalists that are men. "
   ]
  },
  {
   "cell_type": "code",
   "execution_count": 486,
   "id": "scientific-british",
   "metadata": {},
   "outputs": [
    {
     "data": {
      "text/plain": [
       "<AxesSubplot:xlabel='Season', ylabel='Total Votes for Men'>"
      ]
     },
     "execution_count": 486,
     "metadata": {},
     "output_type": "execute_result"
    },
    {
     "data": {
      "image/png": "[encoded data removed]",
      "text/plain": [
       "<Figure size 432x288 with 1 Axes>"
      ]
     },
     "metadata": {
      "needs_background": "light"
     },
     "output_type": "display_data"
    }
   ],
   "source": [
    "sns.barplot(x='Season', y = 'Total Votes for Men', data = votes_FTC, palette = \"Blues\")"
   ]
  },
  {
   "cell_type": "code",
   "execution_count": 484,
   "id": "designing-belgium",
   "metadata": {},
   "outputs": [
    {
     "data": {
      "text/plain": [
       "<AxesSubplot:xlabel='Season', ylabel='Total Votes for Women'>"
      ]
     },
     "execution_count": 484,
     "metadata": {},
     "output_type": "execute_result"
    },
    {
     "data": {
      "image/png": "[encoded data removed]",
      "text/plain": [
       "<Figure size 432x288 with 1 Axes>"
      ]
     },
     "metadata": {
      "needs_background": "light"
     },
     "output_type": "display_data"
    }
   ],
   "source": [
    "sns.barplot(x='Season', y = 'Total Votes for Women', data = votes_FTC, palette = \"Reds\")"
   ]
  },
  {
   "cell_type": "markdown",
   "id": "mineral-taxation",
   "metadata": {},
   "source": [
    "This dataset is mainly compelling because of its comparison of men versus women. So, the seasons where it is all men or all women in a FTC are not that interesting here. Because if there are all women competing in a FTC, then of course women will get all the votes and men will not get any, or vice versa. So, let's remove all rows with 0 men or 0 women at a FTC."
   ]
  },
  {
   "cell_type": "code",
   "execution_count": 423,
   "id": "broken-swaziland",
   "metadata": {},
   "outputs": [
    {
     "data": {
      "text/html": [
       "<div>\n",
       "<style scoped>\n",
       "    .dataframe tbody tr th:only-of-type {\n",
       "        vertical-align: middle;\n",
       "    }\n",
       "\n",
       "    .dataframe tbody tr th {\n",
       "        vertical-align: top;\n",
       "    }\n",
       "\n",
       "    .dataframe thead th {\n",
       "        text-align: right;\n",
       "    }\n",
       "</style>\n",
       "<table border=\"1\" class=\"dataframe\">\n",
       "  <thead>\n",
       "    <tr style=\"text-align: right;\">\n",
       "      <th></th>\n",
       "      <th>Season</th>\n",
       "      <th>First</th>\n",
       "      <th>Second</th>\n",
       "      <th>Third</th>\n",
       "      <th># of Men</th>\n",
       "      <th># of Women</th>\n",
       "      <th>Total Votes for Men</th>\n",
       "      <th>Total Votes for Women</th>\n",
       "    </tr>\n",
       "  </thead>\n",
       "  <tbody>\n",
       "    <tr>\n",
       "      <th>6</th>\n",
       "      <td>4.0</td>\n",
       "      <td>Vecepia</td>\n",
       "      <td>Neleh</td>\n",
       "      <td>NaN</td>\n",
       "      <td>0.0</td>\n",
       "      <td>2.0</td>\n",
       "      <td>0.0</td>\n",
       "      <td>7.0</td>\n",
       "    </tr>\n",
       "    <tr>\n",
       "      <th>8</th>\n",
       "      <td>5.0</td>\n",
       "      <td>Brian</td>\n",
       "      <td>Clay</td>\n",
       "      <td>NaN</td>\n",
       "      <td>2.0</td>\n",
       "      <td>0.0</td>\n",
       "      <td>7.0</td>\n",
       "      <td>0.0</td>\n",
       "    </tr>\n",
       "    <tr>\n",
       "      <th>12</th>\n",
       "      <td>7.0</td>\n",
       "      <td>Sandra</td>\n",
       "      <td>Lil</td>\n",
       "      <td>NaN</td>\n",
       "      <td>0.0</td>\n",
       "      <td>2.0</td>\n",
       "      <td>0.0</td>\n",
       "      <td>7.0</td>\n",
       "    </tr>\n",
       "    <tr>\n",
       "      <th>20</th>\n",
       "      <td>11.0</td>\n",
       "      <td>Dannie</td>\n",
       "      <td>Stephenie</td>\n",
       "      <td>NaN</td>\n",
       "      <td>0.0</td>\n",
       "      <td>2.0</td>\n",
       "      <td>0.0</td>\n",
       "      <td>7.0</td>\n",
       "    </tr>\n",
       "    <tr>\n",
       "      <th>30</th>\n",
       "      <td>16.0</td>\n",
       "      <td>Parvati</td>\n",
       "      <td>Amanda</td>\n",
       "      <td>NaN</td>\n",
       "      <td>0.0</td>\n",
       "      <td>2.0</td>\n",
       "      <td>0.0</td>\n",
       "      <td>8.0</td>\n",
       "    </tr>\n",
       "    <tr>\n",
       "      <th>34</th>\n",
       "      <td>18.0</td>\n",
       "      <td>JT</td>\n",
       "      <td>Stephen</td>\n",
       "      <td>NaN</td>\n",
       "      <td>2.0</td>\n",
       "      <td>0.0</td>\n",
       "      <td>7.0</td>\n",
       "      <td>0.0</td>\n",
       "    </tr>\n",
       "    <tr>\n",
       "      <th>40</th>\n",
       "      <td>21.0</td>\n",
       "      <td>Fabio</td>\n",
       "      <td>Chase</td>\n",
       "      <td>Sash</td>\n",
       "      <td>3.0</td>\n",
       "      <td>0.0</td>\n",
       "      <td>9.0</td>\n",
       "      <td>0.0</td>\n",
       "    </tr>\n",
       "    <tr>\n",
       "      <th>46</th>\n",
       "      <td>24.0</td>\n",
       "      <td>Kim</td>\n",
       "      <td>Sabrina</td>\n",
       "      <td>Chelsea</td>\n",
       "      <td>0.0</td>\n",
       "      <td>3.0</td>\n",
       "      <td>0.0</td>\n",
       "      <td>9.0</td>\n",
       "    </tr>\n",
       "    <tr>\n",
       "      <th>54</th>\n",
       "      <td>28.0</td>\n",
       "      <td>Tony</td>\n",
       "      <td>Woo</td>\n",
       "      <td>NaN</td>\n",
       "      <td>2.0</td>\n",
       "      <td>0.0</td>\n",
       "      <td>9.0</td>\n",
       "      <td>0.0</td>\n",
       "    </tr>\n",
       "    <tr>\n",
       "      <th>56</th>\n",
       "      <td>29.0</td>\n",
       "      <td>Natalie</td>\n",
       "      <td>Jaclyn</td>\n",
       "      <td>Missy</td>\n",
       "      <td>0.0</td>\n",
       "      <td>3.0</td>\n",
       "      <td>0.0</td>\n",
       "      <td>8.0</td>\n",
       "    </tr>\n",
       "  </tbody>\n",
       "</table>\n",
       "</div>"
      ],
      "text/plain": [
       "    Season    First     Second    Third  # of Men  # of Women  \\\n",
       "6      4.0  Vecepia      Neleh      NaN       0.0         2.0   \n",
       "8      5.0    Brian       Clay      NaN       2.0         0.0   \n",
       "12     7.0   Sandra        Lil      NaN       0.0         2.0   \n",
       "20    11.0   Dannie  Stephenie      NaN       0.0         2.0   \n",
       "30    16.0  Parvati     Amanda      NaN       0.0         2.0   \n",
       "34    18.0       JT    Stephen      NaN       2.0         0.0   \n",
       "40    21.0    Fabio      Chase     Sash       3.0         0.0   \n",
       "46    24.0      Kim    Sabrina  Chelsea       0.0         3.0   \n",
       "54    28.0     Tony        Woo      NaN       2.0         0.0   \n",
       "56    29.0  Natalie     Jaclyn    Missy       0.0         3.0   \n",
       "\n",
       "    Total Votes for Men  Total Votes for Women  \n",
       "6                   0.0                    7.0  \n",
       "8                   7.0                    0.0  \n",
       "12                  0.0                    7.0  \n",
       "20                  0.0                    7.0  \n",
       "30                  0.0                    8.0  \n",
       "34                  7.0                    0.0  \n",
       "40                  9.0                    0.0  \n",
       "46                  0.0                    9.0  \n",
       "54                  9.0                    0.0  \n",
       "56                  0.0                    8.0  "
      ]
     },
     "execution_count": 423,
     "metadata": {},
     "output_type": "execute_result"
    }
   ],
   "source": [
    "## Gives all the rows with 0 men or 0 women, which helps to make the list of the rows to remove\n",
    "votes_FTC[(votes_FTC['# of Men'] == 0) | (votes_FTC['# of Women'] == 0)]"
   ]
  },
  {
   "cell_type": "code",
   "execution_count": 424,
   "id": "congressional-determination",
   "metadata": {},
   "outputs": [],
   "source": [
    "rows_to_drop = np.array([6,7,8,9,12,13,20,21,30,31,34,35,40,41,46,47,54,55,56,57])\n",
    "## Note: Because of the quirky indices of the rows, each season has 2 rows, hence why I have to always count 2 indices in the array\n",
    "votes_FTC = votes_FTC.drop(rows_to_drop)"
   ]
  },
  {
   "cell_type": "markdown",
   "id": "interracial-equity",
   "metadata": {},
   "source": [
    "Now that we are more directly looking at men versus women, let's look at this new data."
   ]
  },
  {
   "cell_type": "code",
   "execution_count": 428,
   "id": "convenient-sullivan",
   "metadata": {},
   "outputs": [
    {
     "data": {
      "text/html": [
       "<div>\n",
       "<style scoped>\n",
       "    .dataframe tbody tr th:only-of-type {\n",
       "        vertical-align: middle;\n",
       "    }\n",
       "\n",
       "    .dataframe tbody tr th {\n",
       "        vertical-align: top;\n",
       "    }\n",
       "\n",
       "    .dataframe thead th {\n",
       "        text-align: right;\n",
       "    }\n",
       "</style>\n",
       "<table border=\"1\" class=\"dataframe\">\n",
       "  <thead>\n",
       "    <tr style=\"text-align: right;\">\n",
       "      <th></th>\n",
       "      <th>Total Votes for Men</th>\n",
       "      <th>Total Votes for Women</th>\n",
       "    </tr>\n",
       "  </thead>\n",
       "  <tbody>\n",
       "    <tr>\n",
       "      <th>count</th>\n",
       "      <td>30.000000</td>\n",
       "      <td>30.000000</td>\n",
       "    </tr>\n",
       "    <tr>\n",
       "      <th>mean</th>\n",
       "      <td>6.000000</td>\n",
       "      <td>2.700000</td>\n",
       "    </tr>\n",
       "    <tr>\n",
       "      <th>std</th>\n",
       "      <td>3.695291</td>\n",
       "      <td>2.781094</td>\n",
       "    </tr>\n",
       "    <tr>\n",
       "      <th>min</th>\n",
       "      <td>0.000000</td>\n",
       "      <td>0.000000</td>\n",
       "    </tr>\n",
       "    <tr>\n",
       "      <th>25%</th>\n",
       "      <td>3.000000</td>\n",
       "      <td>0.000000</td>\n",
       "    </tr>\n",
       "    <tr>\n",
       "      <th>50%</th>\n",
       "      <td>5.500000</td>\n",
       "      <td>2.000000</td>\n",
       "    </tr>\n",
       "    <tr>\n",
       "      <th>75%</th>\n",
       "      <td>9.000000</td>\n",
       "      <td>4.000000</td>\n",
       "    </tr>\n",
       "    <tr>\n",
       "      <th>max</th>\n",
       "      <td>13.000000</td>\n",
       "      <td>9.000000</td>\n",
       "    </tr>\n",
       "  </tbody>\n",
       "</table>\n",
       "</div>"
      ],
      "text/plain": [
       "       Total Votes for Men  Total Votes for Women\n",
       "count            30.000000              30.000000\n",
       "mean              6.000000               2.700000\n",
       "std               3.695291               2.781094\n",
       "min               0.000000               0.000000\n",
       "25%               3.000000               0.000000\n",
       "50%               5.500000               2.000000\n",
       "75%               9.000000               4.000000\n",
       "max              13.000000               9.000000"
      ]
     },
     "execution_count": 428,
     "metadata": {},
     "output_type": "execute_result"
    }
   ],
   "source": [
    "votes_FTC[['Total Votes for Men', 'Total Votes for Women']].describe()"
   ]
  },
  {
   "cell_type": "code",
   "execution_count": 426,
   "id": "selective-death",
   "metadata": {},
   "outputs": [
    {
     "data": {
      "text/plain": [
       "<AxesSubplot:>"
      ]
     },
     "execution_count": 426,
     "metadata": {},
     "output_type": "execute_result"
    },
    {
     "data": {
      "image/png": "[encoded data removed]",
      "text/plain": [
       "<Figure size 432x288 with 1 Axes>"
      ]
     },
     "metadata": {
      "needs_background": "light"
     },
     "output_type": "display_data"
    }
   ],
   "source": [
    "votes_FTC.boxplot(column=['Total Votes for Men', 'Total Votes for Women'])"
   ]
  },
  {
   "cell_type": "markdown",
   "id": "european-aluminum",
   "metadata": {},
   "source": [
    "We can see that when the votes come from strictly men versus women situations, the disparity is even larger. There is almost no overlap between the Interquartile ranges (Q1 for men is 3 and Q3 for women is 4)."
   ]
  },
  {
   "cell_type": "code",
   "execution_count": null,
   "id": "norwegian-treaty",
   "metadata": {},
   "outputs": [],
   "source": []
  }
 ],
 "metadata": {
  "kernelspec": {
   "display_name": "Python 3",
   "language": "python",
   "name": "python3"
  },
  "language_info": {
   "codemirror_mode": {
    "name": "ipython",
    "version": 3
   },
   "file_extension": ".py",
   "mimetype": "text/x-python",
   "name": "python",
   "nbconvert_exporter": "python",
   "pygments_lexer": "ipython3",
   "version": "3.9.2"
  }
 },
 "nbformat": 4,
 "nbformat_minor": 5
}
